{
 "cells": [
  {
   "cell_type": "code",
   "execution_count": 1,
   "outputs": [],
   "source": [
    "import numpy as np\n",
    "import pandas as pd\n",
    "from sklearn.decomposition import FactorAnalysis"
   ],
   "metadata": {
    "collapsed": false
   }
  },
  {
   "cell_type": "code",
   "execution_count": 2,
   "metadata": {
    "collapsed": true
   },
   "outputs": [],
   "source": [
    "data = pd.read_csv(\"./data/T9-12.DAT\", sep=\"\\s+\", header=None,\n",
    "            names=['x1', 'x2', 'x3', 'x4', 'x5', 'x6', 'x7'])\n",
    "\n",
    "data_standard = (data - data.mean()) / data.std()"
   ]
  },
  {
   "cell_type": "code",
   "execution_count": 3,
   "outputs": [],
   "source": [
    "from sklearn.decomposition import FactorAnalysis\n",
    "\n",
    "fa2 = FactorAnalysis(n_components=2)\n",
    "fa3 = FactorAnalysis(n_components=3)\n",
    "fa2.fit(data_standard)\n",
    "fa3.fit(data_standard)\n",
    "x = np.array([110, 98, 105, 15, 18, 20, 35])\n",
    "x_standard = (x - data.mean()) / data.std()"
   ],
   "metadata": {
    "collapsed": false
   }
  },
  {
   "cell_type": "code",
   "execution_count": 3,
   "outputs": [],
   "source": [],
   "metadata": {
    "collapsed": false
   }
  },
  {
   "cell_type": "code",
   "execution_count": 4,
   "outputs": [
    {
     "data": {
      "text/plain": "array([0.58753524, 0.69518562])"
     },
     "execution_count": 4,
     "metadata": {},
     "output_type": "execute_result"
    }
   ],
   "source": [
    "np.linalg.inv(fa2.components_ @ np.diag(1/fa2.noise_variance_) @ fa2.components_.T) \\\n",
    "    @ fa2.components_ @ np.diag(1/fa2.noise_variance_) @ x_standard.T"
   ],
   "metadata": {
    "collapsed": false
   }
  },
  {
   "cell_type": "code",
   "execution_count": 5,
   "outputs": [
    {
     "data": {
      "text/plain": "array([-1.92318801, -2.61779247,  4.8032733 ])"
     },
     "execution_count": 5,
     "metadata": {},
     "output_type": "execute_result"
    }
   ],
   "source": [
    "np.linalg.inv(fa3.components_ @ np.diag(1/fa3.noise_variance_) @ fa3.components_.T) \\\n",
    "    @ fa3.components_ @ np.diag(1/fa3.noise_variance_) @ x_standard.T"
   ],
   "metadata": {
    "collapsed": false
   }
  },
  {
   "cell_type": "code",
   "execution_count": 6,
   "outputs": [
    {
     "data": {
      "text/plain": "array([1.57916981, 0.31404443])"
     },
     "execution_count": 6,
     "metadata": {},
     "output_type": "execute_result"
    }
   ],
   "source": [
    "fa2.components_ @ np.linalg.inv(data.cov()) @ x_standard.T"
   ],
   "metadata": {
    "collapsed": false
   }
  },
  {
   "cell_type": "code",
   "execution_count": 7,
   "outputs": [
    {
     "data": {
      "text/plain": "array([-2.34281457, -2.54539514,  2.55737697])"
     },
     "execution_count": 7,
     "metadata": {},
     "output_type": "execute_result"
    }
   ],
   "source": [
    "fa3.components_ @ np.linalg.inv(data.cov()) @ x_standard.T"
   ],
   "metadata": {
    "collapsed": false
   }
  },
  {
   "cell_type": "markdown",
   "source": [
    "## 9.28"
   ],
   "metadata": {
    "collapsed": false
   }
  },
  {
   "cell_type": "code",
   "execution_count": 8,
   "outputs": [],
   "source": [
    "sport = pd.read_csv('./data/T1-9.dat', sep=\"\\s+\", header=None,\n",
    "            names=['country', '100', '200', '400', '800', '1500', '3000', 'marathon'])\n",
    "sport = sport[['100', '200', '400', '800', '1500', '3000', 'marathon']]\n",
    "sport_standard = (sport - sport.mean()) / sport.std()"
   ],
   "metadata": {
    "collapsed": false
   }
  },
  {
   "cell_type": "code",
   "execution_count": 9,
   "outputs": [
    {
     "data": {
      "text/plain": "array([2.74362678e+02, 4.01668216e+00, 2.68257356e-01, 1.14546219e-01,\n       1.51243056e-02, 6.16772825e-04, 2.59460290e-03])"
     },
     "execution_count": 9,
     "metadata": {},
     "output_type": "execute_result"
    }
   ],
   "source": [
    "np.linalg.eig(sport.cov(ddof=1))[0]"
   ],
   "metadata": {
    "collapsed": false
   }
  },
  {
   "cell_type": "code",
   "execution_count": 10,
   "outputs": [
    {
     "data": {
      "text/plain": "array([[ 3.40406520e-01,  8.21486405e-01,  2.11514210e+00,\n         7.96483736e-02,  2.63311873e-01,  7.66629208e-01,\n         1.32072876e+01],\n       [-1.49865731e-01, -3.85795420e-01, -1.07404178e+00,\n        -7.71375884e-04,  4.65973661e-02,  2.18467959e-01,\n         1.29666809e+00]])"
     },
     "execution_count": 10,
     "metadata": {},
     "output_type": "execute_result"
    }
   ],
   "source": [
    "fa2_s = FactorAnalysis(n_components=2)\n",
    "fa2_s.fit(sport)\n",
    "fa2_s.components_"
   ],
   "metadata": {
    "collapsed": false
   }
  },
  {
   "cell_type": "code",
   "execution_count": 11,
   "outputs": [
    {
     "data": {
      "text/plain": "array([[ 3.23669420e-01,  7.78676607e-01,  1.99682659e+00,\n         7.91698835e-02,  2.66656570e-01,  7.84667167e-01,\n         1.32707443e+01],\n       [-1.83233302e-01, -4.66198200e-01, -1.28065430e+00,\n        -8.75145625e-03,  1.99682439e-02,  1.40520562e-01,\n        -3.37634792e-02]])"
     },
     "execution_count": 11,
     "metadata": {},
     "output_type": "execute_result"
    }
   ],
   "source": [
    "fa2_s_rot = FactorAnalysis(n_components=2, rotation='varimax')\n",
    "fa2_s_rot.fit(sport)\n",
    "fa2_s_rot.components_"
   ],
   "metadata": {
    "collapsed": false
   }
  },
  {
   "cell_type": "code",
   "execution_count": 12,
   "outputs": [
    {
     "name": "stdout",
     "output_type": "stream",
     "text": [
      "0.34 & -0.15 & 0.01 & 0.32 & -0.18 & 0.01\n",
      "0.82 & -0.39 & 0.02 & 0.78 & -0.47 & 0.02\n",
      "2.12 & -1.07 & 0.99 & 2.0 & -1.28 & 0.99\n",
      "0.08 & -0.0 & 0.0 & 0.08 & -0.01 & 0.0\n",
      "0.26 & 0.05 & 0.0 & 0.27 & 0.02 & 0.0\n",
      "0.77 & 0.22 & 0.02 & 0.78 & 0.14 & 0.02\n",
      "13.21 & 1.3 & 89.1 & 13.27 & -0.03 & 89.1\n"
     ]
    }
   ],
   "source": [
    "for i in range(7):\n",
    "    print(\" & \"\n",
    "          .join(\n",
    "        [str(np.around(fa2_s.components_.T[i][j], 2)) for j in range(2)] +\n",
    "        [str(np.around(fa2_s.noise_variance_[i], 2))] +\n",
    "        [str(np.around(fa2_s_rot.components_.T[i][j], 2)) for j in range(2)] +\n",
    "        [str(np.around(fa2_s_rot.noise_variance_[i], 2))]\n",
    "    ))"
   ],
   "metadata": {
    "collapsed": false
   }
  },
  {
   "cell_type": "code",
   "execution_count": 13,
   "outputs": [],
   "source": [
    "xy = (np.linalg.inv(fa2_s.components_ @ np.diag(1/fa2_s.noise_variance_) @ fa2_s.components_.T) @ fa2_s.components_ @ np.diag(1/fa2_s.noise_variance_) @ sport.T).T"
   ],
   "metadata": {
    "collapsed": false
   }
  },
  {
   "cell_type": "code",
   "execution_count": 14,
   "outputs": [
    {
     "data": {
      "text/plain": "<Figure size 800x400 with 1 Axes>",
      "image/png": "[encoded data removed]"
     },
     "metadata": {},
     "output_type": "display_data"
    }
   ],
   "source": [
    "from matplotlib import pyplot as plt\n",
    "fig, ax = plt.subplots(figsize=(8, 4))\n",
    "ax.scatter(xy[0], xy[1])\n",
    "plt.savefig('./hw13/9.28a.pdf')"
   ],
   "metadata": {
    "collapsed": false
   }
  },
  {
   "cell_type": "code",
   "execution_count": 15,
   "outputs": [
    {
     "data": {
      "text/plain": "array([[ 0.86057622,  0.88042739,  0.81084295,  0.91703551,  0.96835071,\n         0.94235634,  0.80393481],\n       [-0.38850927, -0.4211868 , -0.42176361, -0.01763201,  0.16350234,\n         0.25943917,  0.07038923]])"
     },
     "execution_count": 15,
     "metadata": {},
     "output_type": "execute_result"
    }
   ],
   "source": [
    "fa2_r = FactorAnalysis(n_components=2)\n",
    "fa2_r.fit(sport_standard)\n",
    "fa2_r.components_"
   ],
   "metadata": {
    "collapsed": false
   }
  },
  {
   "cell_type": "code",
   "execution_count": 16,
   "outputs": [
    {
     "data": {
      "text/plain": "array([[ 0.44523379,  0.44104441,  0.38553849,  0.71611304,  0.86722643,\n         0.90511653,  0.68013442],\n       [-0.83264503, -0.87064949, -0.82868022, -0.57310308, -0.46081931,\n        -0.36892848, -0.43437656]])"
     },
     "execution_count": 16,
     "metadata": {},
     "output_type": "execute_result"
    }
   ],
   "source": [
    "fa2_r_rot = FactorAnalysis(n_components=2, rotation='varimax')\n",
    "fa2_r_rot.fit(sport_standard)\n",
    "fa2_r_rot.components_"
   ],
   "metadata": {
    "collapsed": false
   }
  },
  {
   "cell_type": "code",
   "execution_count": 17,
   "outputs": [
    {
     "name": "stdout",
     "output_type": "stream",
     "text": [
      "0.86 & -0.39 & 0.09 & 0.45 & -0.83 & 0.09\n",
      "0.88 & -0.42 & 0.03 & 0.44 & -0.87 & 0.03\n",
      "0.81 & -0.42 & 0.15 & 0.39 & -0.83 & 0.15\n",
      "0.92 & -0.02 & 0.14 & 0.72 & -0.57 & 0.14\n",
      "0.97 & 0.16 & 0.02 & 0.87 & -0.46 & 0.02\n",
      "0.94 & 0.26 & 0.03 & 0.91 & -0.37 & 0.03\n",
      "0.8 & 0.07 & 0.33 & 0.68 & -0.43 & 0.33\n"
     ]
    }
   ],
   "source": [
    "for i in range(7):\n",
    "    print(\" & \"\n",
    "          .join(\n",
    "        [str(np.around(fa2_r.components_.T[i][j], 2)) for j in range(2)] +\n",
    "        [str(np.around(fa2_r.noise_variance_[i], 2))] +\n",
    "        [str(np.around(fa2_r_rot.components_.T[i][j], 2)) for j in range(2)] +\n",
    "        [str(np.around(fa2_r_rot.noise_variance_[i], 2))]\n",
    "    ))"
   ],
   "metadata": {
    "collapsed": false
   }
  },
  {
   "cell_type": "code",
   "execution_count": 18,
   "outputs": [],
   "source": [
    "xyr = (np.linalg.inv(fa2_r.components_ @ np.diag(1/fa2_r.noise_variance_) @ fa2_r.components_.T) @ fa2_r.components_ @ np.diag(1/fa2_r.noise_variance_) @ sport_standard.T).T"
   ],
   "metadata": {
    "collapsed": false
   }
  },
  {
   "cell_type": "code",
   "execution_count": 19,
   "outputs": [
    {
     "data": {
      "text/plain": "<Figure size 800x400 with 1 Axes>",
      "image/png": "[encoded data removed]"
     },
     "metadata": {},
     "output_type": "display_data"
    }
   ],
   "source": [
    "fig, ax = plt.subplots(figsize=(8, 4))\n",
    "ax.scatter(xyr[0], xyr[1])\n",
    "plt.savefig('./hw13/9.28b.pdf')"
   ],
   "metadata": {
    "collapsed": false
   }
  },
  {
   "cell_type": "markdown",
   "source": [
    "## 11.7"
   ],
   "metadata": {
    "collapsed": false
   }
  },
  {
   "cell_type": "code",
   "execution_count": 20,
   "outputs": [
    {
     "data": {
      "text/plain": "<Figure size 800x400 with 1 Axes>",
      "image/png": "[encoded data removed]"
     },
     "metadata": {},
     "output_type": "display_data"
    }
   ],
   "source": [
    "plt.rcParams['text.usetex'] = True\n",
    "\n",
    "x1 = np.linspace(-1, 1, 100)\n",
    "y1 = 1 - np.abs(x1)\n",
    "x2 = np.linspace(-0.5, 2.5, 100)\n",
    "y2 = 1/4 * (2 - np.abs(x2-0.5))\n",
    "fig, ax = plt.subplots(figsize=(8, 4))\n",
    "ax.plot(x1, y1, label=r'$f_1(x)$')\n",
    "ax.plot(x2, y2, label=r'$f_2(x)$')\n",
    "ax.set_xlabel(r\"$x$\")\n",
    "ax.set_ylabel(r\"$f(x)$\")\n",
    "ax.legend()\n",
    "plt.savefig('./hw13/11.7.pdf')"
   ],
   "metadata": {
    "collapsed": false
   }
  },
  {
   "cell_type": "code",
   "execution_count": 20,
   "outputs": [],
   "source": [],
   "metadata": {
    "collapsed": false
   }
  }
 ],
 "metadata": {
  "kernelspec": {
   "display_name": "Python 3",
   "language": "python",
   "name": "python3"
  },
  "language_info": {
   "codemirror_mode": {
    "name": "ipython",
    "version": 2
   },
   "file_extension": ".py",
   "mimetype": "text/x-python",
   "name": "python",
   "nbconvert_exporter": "python",
   "pygments_lexer": "ipython2",
   "version": "2.7.6"
  }
 },
 "nbformat": 4,
 "nbformat_minor": 0
}

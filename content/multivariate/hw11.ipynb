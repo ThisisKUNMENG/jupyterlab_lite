{
 "cells": [
  {
   "cell_type": "code",
   "execution_count": 1,
   "metadata": {
    "collapsed": true
   },
   "outputs": [],
   "source": [
    "import numpy as np\n",
    "import pandas as pd\n",
    "import matplotlib.pyplot as plt\n",
    "from matplotlib.patches import Ellipse\n",
    "import seaborn as sns\n",
    "plt.rcParams[\"text.usetex\"] = True"
   ]
  },
  {
   "cell_type": "markdown",
   "source": [
    "## 8.6"
   ],
   "metadata": {
    "collapsed": false
   }
  },
  {
   "cell_type": "code",
   "execution_count": 2,
   "outputs": [],
   "source": [
    "df = pd.DataFrame()\n",
    "df[\"x1\"] = [108.28, 152.36, 95.04, 65.45, 62.97, 263.99, 265.19, 285.06, 92.01, 165.68]\n",
    "df[\"x2\"] = [17.05, 16.59, 10.91, 14.14, 9.52, 25.33, 18.54, 15.73, 8.1, 11.13]\n",
    "x_bar = df.mean().values\n",
    "s = df.cov(ddof=1).values"
   ],
   "metadata": {
    "collapsed": false
   }
  },
  {
   "cell_type": "code",
   "execution_count": 3,
   "outputs": [
    {
     "name": "stdout",
     "output_type": "stream",
     "text": [
      "(array([  13.83750662, 7488.80605449]), array([[ 0.04065165, -0.99917338],\n",
      "       [-0.99917338, -0.04065165]]))\n"
     ]
    }
   ],
   "source": [
    "eig = np.linalg.eigh(s)\n",
    "print(eig)"
   ],
   "metadata": {
    "collapsed": false
   }
  },
  {
   "cell_type": "code",
   "execution_count": 4,
   "outputs": [
    {
     "name": "stdout",
     "output_type": "stream",
     "text": [
      "0.9981556492050405\n"
     ]
    }
   ],
   "source": [
    "print(eig[0][1]/(eig[0][0] + eig[0][1]))"
   ],
   "metadata": {
    "collapsed": false
   }
  },
  {
   "cell_type": "code",
   "execution_count": 5,
   "outputs": [
    {
     "data": {
      "text/plain": "-0.04065164995723469"
     },
     "execution_count": 5,
     "metadata": {},
     "output_type": "execute_result"
    }
   ],
   "source": [
    "eig[1][1][1]"
   ],
   "metadata": {
    "collapsed": false
   }
  },
  {
   "cell_type": "code",
   "execution_count": 7,
   "outputs": [
    {
     "data": {
      "text/plain": "<Figure size 800x800 with 1 Axes>",
      "image/png": "[encoded data removed]"
     },
     "metadata": {},
     "output_type": "display_data"
    }
   ],
   "source": [
    "c2 = 1.4\n",
    "ell = Ellipse(xy=(x_bar[0], x_bar[1]), width=2*np.sqrt(c2 * eig[0][1]), height=2*np.sqrt(c2 * eig[0][0]), angle=np.rad2deg(np.arctan(eig[1][1][1]/eig[1][1][0])))\n",
    "ell.set_facecolor('red')\n",
    "ell.set_edgecolor('red')\n",
    "ell.set_alpha(0.5)\n",
    "fig, ax = plt.subplots(figsize=(8, 8))\n",
    "ax.add_artist(ell)\n",
    "ax.scatter(x_bar[0], x_bar[1], color='k')\n",
    "ax.arrow(x_bar[0] + np.sqrt(c2 * eig[0][1]),\n",
    "         x_bar[1] + eig[1][1][1]/eig[1][1][0] * np.sqrt(c2 * eig[0][1]),\n",
    "         - 2 * np.sqrt(c2 * eig[0][1]),\n",
    "         - 2 * eig[1][1][1]/eig[1][1][0] * np.sqrt(c2 * eig[0][1]),\n",
    "         color='g', width=0.5,\n",
    "         label=r\"$\\hat{y}_1$\")\n",
    "ax.arrow(x_bar[0] - np.sqrt(eig[0][0]/8),\n",
    "         x_bar[1] - eig[1][0][1]/eig[1][0][0] * np.sqrt(eig[0][0]/8),\n",
    "         2 * np.sqrt(eig[0][0]/8),\n",
    "         2 * eig[1][0][1]/eig[1][0][0] * np.sqrt(eig[0][0]/8),\n",
    "         color='b', width=0.5,\n",
    "         label=r\"$\\hat{y}_2$\")\n",
    "ax.set_xlim(50, 275)\n",
    "ax.set_ylim(-120, 105)\n",
    "ax.legend()\n",
    "plt.xlabel('$x_1$')\n",
    "plt.ylabel('$x_2$')\n",
    "plt.savefig('./figure/8.6c.pdf')"
   ],
   "metadata": {
    "collapsed": false
   }
  },
  {
   "cell_type": "code",
   "execution_count": null,
   "outputs": [],
   "source": [
    "print(eig[1][1][0] * np.sqrt(eig[0][1]/7476.45))\n",
    "print(eig[1][1][1] * np.sqrt(eig[0][1]/26.19))"
   ],
   "metadata": {
    "collapsed": false
   }
  },
  {
   "cell_type": "markdown",
   "source": [
    "## 8.22"
   ],
   "metadata": {
    "collapsed": false
   }
  },
  {
   "cell_type": "code",
   "execution_count": null,
   "outputs": [],
   "source": [
    "bull = pd.read_csv('./data/T1-10.dat', sep='\\s+', header=None,\n",
    "                   names=['Breed', 'SalePr', 'YrHgt', 'FtFrBody', 'PrctFFB', 'Frame', 'BkFat', 'SaleHt', 'SaleWt'])"
   ],
   "metadata": {
    "collapsed": false
   }
  },
  {
   "cell_type": "code",
   "execution_count": null,
   "outputs": [],
   "source": [
    "bull_target = bull[['YrHgt', 'FtFrBody', 'PrctFFB', 'Frame', 'BkFat', 'SaleHt', 'SaleWt']]"
   ],
   "metadata": {
    "collapsed": false
   }
  },
  {
   "cell_type": "code",
   "execution_count": null,
   "outputs": [],
   "source": [
    "s = bull_target.cov(ddof=1).values\n",
    "r = bull_target.apply(lambda x: (x - x.mean())/x.std(ddof=1), axis=0).cov(ddof=1).values"
   ],
   "metadata": {
    "collapsed": false
   }
  },
  {
   "cell_type": "code",
   "execution_count": null,
   "outputs": [],
   "source": [
    "eig_s = np.linalg.eigh(s)\n",
    "eig_s_sort = np.sort(eig_s[0])[::-1]\n",
    "eigvec_s_sort = eig_s[1][np.argsort(eig_s[0])[::-1]]\n",
    "eig_r = np.linalg.eigh(r)\n",
    "eig_r_sort = np.sort(eig_r[0])[::-1]\n",
    "eigvec_r_sort = eig_r[1][np.argsort(eig_r[0])[::-1]]"
   ],
   "metadata": {
    "collapsed": false
   }
  },
  {
   "cell_type": "code",
   "execution_count": null,
   "outputs": [],
   "source": [
    "print(eig_s_sort)"
   ],
   "metadata": {
    "collapsed": false
   }
  },
  {
   "cell_type": "code",
   "execution_count": null,
   "outputs": [],
   "source": [
    "print(eigvec_s_sort)"
   ],
   "metadata": {
    "collapsed": false
   }
  },
  {
   "cell_type": "code",
   "execution_count": null,
   "outputs": [],
   "source": [
    "print(eig_r_sort)"
   ],
   "metadata": {
    "collapsed": false
   }
  },
  {
   "cell_type": "code",
   "execution_count": null,
   "outputs": [],
   "source": [
    "print(eigvec_r_sort)"
   ],
   "metadata": {
    "collapsed": false
   }
  },
  {
   "cell_type": "code",
   "execution_count": null,
   "outputs": [],
   "source": [
    "fig, ax = plt.subplots(nrows=1, ncols=2, figsize=(8, 4))\n",
    "ax[0].plot(np.arange(1, 8), eig_s_sort, marker='o')\n",
    "ax[0].set_xlabel('$i$')\n",
    "ax[0].set_ylabel('$\\hat{\\lambda}_i$')\n",
    "ax[0].set_title(\"Scree Plot for $\\mathbf{S}$\")\n",
    "ax[1].plot(np.arange(1, 8), eig_r_sort, marker='o')\n",
    "ax[1].set_xlabel('$i$')\n",
    "ax[1].set_ylabel('$\\hat{\\lambda}_i$')\n",
    "ax[1].set_title(\"Scree Plot for $\\mathbf{R}$\")\n",
    "plt.savefig('./figure/8.22a.pdf')"
   ],
   "metadata": {
    "collapsed": false
   }
  },
  {
   "cell_type": "code",
   "execution_count": null,
   "outputs": [],
   "source": [
    "bull[\"y1_s\"] = eigvec_s_sort[:, 0] @ bull_target.T\n",
    "bull[\"y1_r\"] = eigvec_r_sort[:, 0] @ bull_target.T\n",
    "bull[\"y2_s\"] = eigvec_s_sort[:, 1] @ bull_target.T\n",
    "bull[\"y2_r\"] = eigvec_r_sort[:, 1] @ bull_target.T"
   ],
   "metadata": {
    "collapsed": false
   }
  },
  {
   "cell_type": "code",
   "execution_count": null,
   "outputs": [],
   "source": [
    "fig, ax = plt.subplots(nrows=1, ncols=2, figsize=(8, 4))\n",
    "sns.scatterplot(\n",
    "    ax=ax[0], data=bull,\n",
    "    x='y2_s', y='y1_s',\n",
    "    hue='Breed', palette='Set2',\n",
    ")\n",
    "ax[0].set_title(\"Scatter Plot for $\\mathbf{S}$\")\n",
    "sns.scatterplot(\n",
    "    ax=ax[1], data=bull,\n",
    "    x='y2_r', y='y1_r',\n",
    "    hue='Breed', palette='Set2',\n",
    ")\n",
    "ax[1].set_title(\"Scatter Plot for $\\mathbf{R}$\")\n",
    "plt.savefig('./figure/8.22d.pdf')"
   ],
   "metadata": {
    "collapsed": false
   }
  },
  {
   "cell_type": "code",
   "execution_count": null,
   "outputs": [],
   "source": [
    "from scipy import stats\n",
    "\n",
    "fig, ax = plt.subplots(nrows=1, ncols=2, figsize=(8, 4))\n",
    "qq = stats.probplot(bull['y1_s'], dist='norm', plot=ax[0])\n",
    "ax[0].set_title(\"Q-Q Plot for $\\mathbf{S}$\")\n",
    "qq2 = stats.probplot(bull['y1_r'], dist='norm', plot=ax[1])\n",
    "ax[1].set_title(\"Q-Q Plot for $\\mathbf{R}$\")\n",
    "plt.savefig('./figure/8.22e.pdf')"
   ],
   "metadata": {
    "collapsed": false
   }
  },
  {
   "cell_type": "code",
   "execution_count": null,
   "outputs": [],
   "source": [],
   "metadata": {
    "collapsed": false
   }
  }
 ],
 "metadata": {
  "kernelspec": {
   "display_name": "Python 3",
   "language": "python",
   "name": "python3"
  },
  "language_info": {
   "codemirror_mode": {
    "name": "ipython",
    "version": 2
   },
   "file_extension": ".py",
   "mimetype": "text/x-python",
   "name": "python",
   "nbconvert_exporter": "python",
   "pygments_lexer": "ipython2",
   "version": "2.7.6"
  }
 },
 "nbformat": 4,
 "nbformat_minor": 0
}

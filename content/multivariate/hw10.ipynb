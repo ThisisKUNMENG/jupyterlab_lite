{
 "cells": [
  {
   "cell_type": "code",
   "execution_count": 1,
   "metadata": {
    "collapsed": true
   },
   "outputs": [],
   "source": [
    "import numpy as np\n",
    "import pandas as pd\n",
    "import scipy.stats as stats"
   ]
  },
  {
   "cell_type": "markdown",
   "source": [
    "## 6.23"
   ],
   "metadata": {
    "collapsed": false
   }
  },
  {
   "cell_type": "code",
   "execution_count": 2,
   "outputs": [],
   "source": [
    "df = pd.read_csv(\"./data/T11-5.DAT\", sep=\"\\s+\", header=None, names=[\"sepal_length\", \"sepal_width\", \"petal_length\", \"petal_width\", \"iris_class\"])\n",
    "df_width = df[[\"sepal_width\", \"petal_width\", \"iris_class\"]]"
   ],
   "metadata": {
    "collapsed": false
   }
  },
  {
   "cell_type": "code",
   "execution_count": 3,
   "outputs": [],
   "source": [
    "df_width_group = df_width.groupby(\"iris_class\")"
   ],
   "metadata": {
    "collapsed": false
   }
  },
  {
   "cell_type": "code",
   "execution_count": 4,
   "outputs": [],
   "source": [
    "x_bar = df_width[[\"sepal_width\", \"petal_width\"]].mean()\n",
    "x_l_bar = df_width_group.mean()\n",
    "n_l = df_width_group.count()"
   ],
   "metadata": {
    "collapsed": false
   }
  },
  {
   "cell_type": "code",
   "execution_count": 5,
   "outputs": [],
   "source": [
    "B = (n_l.values.T * (x_l_bar - x_bar).T).dot(x_l_bar - x_bar)"
   ],
   "metadata": {
    "collapsed": false
   }
  },
  {
   "cell_type": "code",
   "execution_count": 6,
   "outputs": [],
   "source": [
    "W = np.zeros((2, 2))\n",
    "for i in range(3):\n",
    "    W += df_width_group.get_group(i + 1)[[\"sepal_width\", \"petal_width\"]].cov(ddof=0) * n_l.values[i, 0]"
   ],
   "metadata": {
    "collapsed": false
   }
  },
  {
   "cell_type": "code",
   "execution_count": 7,
   "outputs": [
    {
     "name": "stdout",
     "output_type": "stream",
     "text": [
      "B:             sepal_width  petal_width\n",
      "sepal_width    11.344933   -22.932667\n",
      "petal_width   -22.932667    80.413333\n",
      "W:             sepal_width  petal_width\n",
      "sepal_width      16.9620       4.8084\n",
      "petal_width       4.8084       6.1566\n",
      "B+W:             sepal_width  petal_width\n",
      "sepal_width    28.306933   -18.124267\n",
      "petal_width   -18.124267    86.569933\n"
     ]
    }
   ],
   "source": [
    "print(f\"B:{B}\")\n",
    "print(f\"W:{W}\")\n",
    "print(f\"B+W:{B+W}\")"
   ],
   "metadata": {
    "collapsed": false
   }
  },
  {
   "cell_type": "code",
   "execution_count": 8,
   "outputs": [
    {
     "name": "stdout",
     "output_type": "stream",
     "text": [
      "x_31-x_11: (-0.6356943622645526, -0.2723056377354478)\n",
      "x_21-x_11: (-0.8396943622645523, -0.47630563773544754)\n",
      "x_31-x_21: (0.02230563773544733, 0.3856943622645521)\n",
      "x_32-x_12: (1.6705354763538884, 1.8894645236461112)\n",
      "x_22-x_12: (0.9705354763538886, 1.1894645236461112)\n",
      "x_32-x_22: (0.5905354763538887, 0.8094645236461112)\n"
     ]
    }
   ],
   "source": [
    "for i in range(2):\n",
    "    temp = stats.t.ppf(1 - 0.05/(2 * 3 * (3 - 1)), df=150-3) * np.sqrt(W.values[i,i] / (150-3) * (1/50+1/50))\n",
    "    print(f\"x_3{i+1}-x_1{i+1}: ({x_l_bar.values[2, i] - x_l_bar.values[0, i] - temp}, {x_l_bar.values[2, i] - x_l_bar.values[0, i] + temp})\")\n",
    "    print(f\"x_2{i+1}-x_1{i+1}: ({x_l_bar.values[1, i] - x_l_bar.values[0, i] - temp}, {x_l_bar.values[1, i] - x_l_bar.values[0, i] + temp})\")\n",
    "    print(f\"x_3{i+1}-x_2{i+1}: ({x_l_bar.values[2, i] - x_l_bar.values[1, i] - temp}, {x_l_bar.values[2, i] - x_l_bar.values[1, i] + temp})\")"
   ],
   "metadata": {
    "collapsed": false
   }
  },
  {
   "cell_type": "code",
   "execution_count": 9,
   "outputs": [],
   "source": [
    "s_j = []\n",
    "for i in range(3):\n",
    "    s_j.append(df_width_group.get_group(i + 1)[[\"sepal_width\", \"petal_width\"]].cov(ddof=1))\n",
    "s_pool = 1/149 * ((s_j[0] * 49) + (s_j[1] * 49) + (s_j[2] * 49))\n",
    "l_star = np.linalg.det(s_j[0])**(49/2) * np.linalg.det(s_j[1])**(49/2) * np.linalg.det(s_j[2])**(49/2) / np.linalg.det(s_pool)**(149/2)"
   ],
   "metadata": {
    "collapsed": false
   }
  },
  {
   "cell_type": "code",
   "execution_count": 10,
   "outputs": [
    {
     "data": {
      "text/plain": "6.7075040297093525e-09"
     },
     "execution_count": 10,
     "metadata": {},
     "output_type": "execute_result"
    }
   ],
   "source": [
    "l_star"
   ],
   "metadata": {
    "collapsed": false
   }
  },
  {
   "cell_type": "code",
   "execution_count": 11,
   "outputs": [
    {
     "data": {
      "text/plain": "0.016628873771730914"
     },
     "execution_count": 11,
     "metadata": {},
     "output_type": "execute_result"
    }
   ],
   "source": [
    "(3/49 - 1/147) * (6+6-1)/(6*3*2)"
   ],
   "metadata": {
    "collapsed": false
   }
  },
  {
   "cell_type": "code",
   "execution_count": 12,
   "outputs": [],
   "source": [
    "chi = (1 - (3/49 - 1/147) * (6+6-1)/(6*3*2)) * (-2 * np.log(l_star))"
   ],
   "metadata": {
    "collapsed": false
   }
  },
  {
   "cell_type": "code",
   "execution_count": 13,
   "outputs": [
    {
     "name": "stdout",
     "output_type": "stream",
     "text": [
      "12.591587243743977\n",
      "37.01416576211768\n"
     ]
    }
   ],
   "source": [
    "print(stats.chi2.ppf(0.95, df=(2*3*2)/2))\n",
    "print(chi)"
   ],
   "metadata": {
    "collapsed": false
   }
  },
  {
   "cell_type": "markdown",
   "source": [
    "## 6.31"
   ],
   "metadata": {
    "collapsed": false
   }
  },
  {
   "cell_type": "code",
   "execution_count": 14,
   "outputs": [],
   "source": [
    "df = pd.read_csv(\"./data/T6-17.dat\", sep=\"\\s+\", header=None, names=[\"factor1\", \"factor2\", \"x1\", \"x2\", \"x3\"])"
   ],
   "metadata": {
    "collapsed": false
   }
  },
  {
   "cell_type": "code",
   "execution_count": 15,
   "outputs": [],
   "source": [
    "df_f1 = df.groupby(\"factor1\")\n",
    "df_f2 = df.groupby(\"factor2\")\n",
    "df_f1_f2 = df.groupby([\"factor1\", \"factor2\"])"
   ],
   "metadata": {
    "collapsed": false
   }
  },
  {
   "cell_type": "code",
   "execution_count": 16,
   "outputs": [],
   "source": [
    "x_bar = df[[\"x1\", \"x2\", \"x3\"]].mean()\n",
    "x_l_bar = df_f1[[\"x1\", \"x2\", \"x3\"]].mean()\n",
    "x_k_bar = df_f2[[\"x1\", \"x2\", \"x3\"]].mean()\n",
    "x_lk_bar = df_f1_f2[[\"x1\", \"x2\", \"x3\"]].mean()\n",
    "g = df[\"factor1\"].nunique()\n",
    "b = df[\"factor2\"].nunique()\n",
    "n = 2"
   ],
   "metadata": {
    "collapsed": false
   }
  },
  {
   "cell_type": "code",
   "execution_count": 17,
   "outputs": [],
   "source": [
    "ss_f1 = b * n * (x_l_bar - x_bar).T.dot(x_l_bar - x_bar)\n",
    "ss_f2 = g * n * (x_k_bar - x_bar).T.dot(x_k_bar - x_bar)\n",
    "ss_interact = n * (x_lk_bar - x_l_bar - x_k_bar + x_bar).T.dot(x_lk_bar - x_l_bar - x_k_bar + x_bar)\n",
    "df.index = pd.MultiIndex.from_frame(df[[\"factor1\", \"factor2\"]])\n",
    "ss_residual = (df[[\"x1\", \"x2\", \"x3\"]] - x_lk_bar).T.dot(df[[\"x1\", \"x2\", \"x3\"]] - x_lk_bar)"
   ],
   "metadata": {
    "collapsed": false
   }
  },
  {
   "cell_type": "code",
   "execution_count": 18,
   "outputs": [
    {
     "name": "stdout",
     "output_type": "stream",
     "text": [
      "           x1        x2          x3\n",
      "x1   0.700833  -10.6575    7.129167\n",
      "x2 -10.657500  162.0675 -108.412500\n",
      "x3   7.129167 -108.4125   72.520833\n",
      "          x1         x2          x3\n",
      "x1  196.1150   365.1825   42.627500\n",
      "x2  365.1825  1089.0150  414.655000\n",
      "x3   42.6275   414.6550  284.101667\n",
      "            x1        x2          x3\n",
      "x1  205.101667  363.6675  107.785833\n",
      "x2  363.667500  780.6950  254.220000\n",
      "x3  107.785833  254.2200   85.951667\n",
      "         x1       x2       x3\n",
      "x1  104.205   49.365   76.480\n",
      "x2   49.365  352.105  121.995\n",
      "x3   76.480  121.995   94.835\n"
     ]
    }
   ],
   "source": [
    "print(ss_f1)\n",
    "print(ss_f2)\n",
    "print(ss_interact)\n",
    "print(ss_residual)"
   ],
   "metadata": {
    "collapsed": false
   }
  },
  {
   "cell_type": "code",
   "execution_count": 19,
   "outputs": [
    {
     "name": "stdout",
     "output_type": "stream",
     "text": [
      "0.07429984180628003\n",
      "12.591587243743977\n",
      "12.998232281910447\n"
     ]
    }
   ],
   "source": [
    "p = 3\n",
    "l_star = np.linalg.det(ss_residual) / (np.linalg.det(ss_residual + ss_interact))\n",
    "print(l_star)\n",
    "chi = -(g * b * (n - 1) - (p+1-(g-1)*(b-1))/2) * np.log(l_star)\n",
    "print(stats.chi2.ppf(0.95, df=(g-1)*(b-1)*p))\n",
    "print(chi)"
   ],
   "metadata": {
    "collapsed": false
   }
  },
  {
   "cell_type": "code",
   "execution_count": 20,
   "outputs": [
    {
     "name": "stdout",
     "output_type": "stream",
     "text": [
      "0.10651619790519301\n",
      "7.814727903251179\n",
      "10.077561955760036\n"
     ]
    }
   ],
   "source": [
    "l_star = np.linalg.det(ss_residual) / (np.linalg.det(ss_f1 + ss_residual))\n",
    "print(l_star)\n",
    "chi = -(g * b * (n - 1) - (p+1-(g-1))/2) * np.log(l_star)\n",
    "print(stats.chi2.ppf(0.95, df=(g-1)*p))\n",
    "print(chi)"
   ],
   "metadata": {
    "collapsed": false
   }
  },
  {
   "cell_type": "code",
   "execution_count": 21,
   "outputs": [
    {
     "name": "stdout",
     "output_type": "stream",
     "text": [
      "0.012444166211401582\n",
      "12.591587243743977\n",
      "21.932516716427894\n"
     ]
    }
   ],
   "source": [
    "l_star = np.linalg.det(ss_residual) / (np.linalg.det(ss_f2 + ss_residual))\n",
    "chi = -(g * b * (n - 1) - (p+1-(b-1))/2) * np.log(l_star)\n",
    "print(l_star)\n",
    "print(stats.chi2.ppf(0.95, df=(b-1)*p))\n",
    "print(chi)"
   ],
   "metadata": {
    "collapsed": false
   }
  },
  {
   "cell_type": "code",
   "execution_count": 22,
   "outputs": [],
   "source": [
    "def two_way_univariate_ANOVA_f(col, df1):\n",
    "    df1_f1 = df1.groupby(\"factor1\")\n",
    "    df1_f2 = df1.groupby(\"factor2\")\n",
    "    df1_f1_f2 = df1.groupby([\"factor1\", \"factor2\"])\n",
    "    x1_bar = df1[col].mean()\n",
    "    x1_l_bar = df1_f1[col].mean()\n",
    "    x1_k_bar = df1_f2[col].mean()\n",
    "    x1_lk_bar = df1_f1_f2[col].mean()\n",
    "    g1 = df1[\"factor1\"].nunique()\n",
    "    b1 = df1[\"factor2\"].nunique()\n",
    "    n1 = 2\n",
    "    ss_interact1 = n1 * np.sum((x1_lk_bar - x1_l_bar - x1_k_bar + x1_bar)**2)\n",
    "    df1.index = pd.MultiIndex.from_frame(df1[[\"factor1\", \"factor2\"]])\n",
    "    ss_residual1 = np.sum((df1[col] - x1_lk_bar)**2)\n",
    "    df1 = df1.reset_index(drop=True)\n",
    "    f_critical = stats.f.ppf(0.95, dfn=(g1-1)*(b1-1), dfd=g1*b1*(n-1))\n",
    "    return [(ss_interact1 / ((g1-1)*(b1-1))) / (ss_residual1 / (g1*b1*(n-1))), ss_interact1, ss_residual1]"
   ],
   "metadata": {
    "collapsed": false
   }
  },
  {
   "cell_type": "code",
   "execution_count": 23,
   "outputs": [
    {
     "name": "stdout",
     "output_type": "stream",
     "text": [
      "[5.904755050141562, 205.1016666666667, 104.20499999999976]\n",
      "[6.651666406327646, 780.6949999999981, 352.1049999999998]\n",
      "[2.718985606579845, 85.95166666666654, 94.83500000000001]\n",
      "5.143252849784718\n"
     ]
    }
   ],
   "source": [
    "df = pd.read_csv(\"./data/T6-17.dat\", sep=\"\\s+\", header=None, names=[\"factor1\", \"factor2\", \"x1\", \"x2\", \"x3\"])\n",
    "x1_anova = two_way_univariate_ANOVA_f(\"x1\", df)\n",
    "df = pd.read_csv(\"./data/T6-17.dat\", sep=\"\\s+\", header=None, names=[\"factor1\", \"factor2\", \"x1\", \"x2\", \"x3\"])\n",
    "x2_anova = two_way_univariate_ANOVA_f(\"x2\", df)\n",
    "df = pd.read_csv(\"./data/T6-17.dat\", sep=\"\\s+\", header=None, names=[\"factor1\", \"factor2\", \"x1\", \"x2\", \"x3\"])\n",
    "x3_anova = two_way_univariate_ANOVA_f(\"x3\", df)\n",
    "\n",
    "print(x1_anova)\n",
    "print(x2_anova)\n",
    "print(x3_anova)\n",
    "print(stats.f.ppf(0.95, dfn=(g-1)*(b-1), dfd=g*b*(n-1)))"
   ],
   "metadata": {
    "collapsed": false
   }
  },
  {
   "cell_type": "code",
   "execution_count": 24,
   "outputs": [],
   "source": [
    "df2 = df_f1.get_group(2)\n",
    "df2_f2 = df2.drop([\"factor1\", \"factor2\"], axis=1).groupby(\"factor2\")"
   ],
   "metadata": {
    "collapsed": false
   }
  },
  {
   "cell_type": "code",
   "execution_count": 25,
   "outputs": [
    {
     "data": {
      "text/plain": "                 x1          x2          x3\nfactor2                                    \n5          7.473664 -221.033826 -161.995949\n6        102.769429   81.844813  -63.043647\n8        172.108656   36.640392   24.092695",
      "text/html": "<div>\n<style scoped>\n    .dataframe tbody tr th:only-of-type {\n        vertical-align: middle;\n    }\n\n    .dataframe tbody tr th {\n        vertical-align: top;\n    }\n\n    .dataframe thead th {\n        text-align: right;\n    }\n</style>\n<table border=\"1\" class=\"dataframe\">\n  <thead>\n    <tr style=\"text-align: right;\">\n      <th></th>\n      <th>x1</th>\n      <th>x2</th>\n      <th>x3</th>\n    </tr>\n    <tr>\n      <th>factor2</th>\n      <th></th>\n      <th></th>\n      <th></th>\n    </tr>\n  </thead>\n  <tbody>\n    <tr>\n      <th>5</th>\n      <td>7.473664</td>\n      <td>-221.033826</td>\n      <td>-161.995949</td>\n    </tr>\n    <tr>\n      <th>6</th>\n      <td>102.769429</td>\n      <td>81.844813</td>\n      <td>-63.043647</td>\n    </tr>\n    <tr>\n      <th>8</th>\n      <td>172.108656</td>\n      <td>36.640392</td>\n      <td>24.092695</td>\n    </tr>\n  </tbody>\n</table>\n</div>"
     },
     "execution_count": 25,
     "metadata": {},
     "output_type": "execute_result"
    }
   ],
   "source": [
    "df2_f2.mean() - df2_f2.std() / np.sqrt(2) * stats.t.ppf(1 - 0.05/6, df=1)"
   ],
   "metadata": {
    "collapsed": false
   }
  },
  {
   "cell_type": "code",
   "execution_count": 26,
   "outputs": [
    {
     "data": {
      "text/plain": "                 x1          x2          x3\nfactor2                                    \n5        362.626336  481.633826  261.895949\n6        297.530571  246.055187  177.543647\n8        229.391344  303.959608  108.107305",
      "text/html": "<div>\n<style scoped>\n    .dataframe tbody tr th:only-of-type {\n        vertical-align: middle;\n    }\n\n    .dataframe tbody tr th {\n        vertical-align: top;\n    }\n\n    .dataframe thead th {\n        text-align: right;\n    }\n</style>\n<table border=\"1\" class=\"dataframe\">\n  <thead>\n    <tr style=\"text-align: right;\">\n      <th></th>\n      <th>x1</th>\n      <th>x2</th>\n      <th>x3</th>\n    </tr>\n    <tr>\n      <th>factor2</th>\n      <th></th>\n      <th></th>\n      <th></th>\n    </tr>\n  </thead>\n  <tbody>\n    <tr>\n      <th>5</th>\n      <td>362.626336</td>\n      <td>481.633826</td>\n      <td>261.895949</td>\n    </tr>\n    <tr>\n      <th>6</th>\n      <td>297.530571</td>\n      <td>246.055187</td>\n      <td>177.543647</td>\n    </tr>\n    <tr>\n      <th>8</th>\n      <td>229.391344</td>\n      <td>303.959608</td>\n      <td>108.107305</td>\n    </tr>\n  </tbody>\n</table>\n</div>"
     },
     "execution_count": 26,
     "metadata": {},
     "output_type": "execute_result"
    }
   ],
   "source": [
    "df2_f2.mean() + df2_f2.std() / np.sqrt(2) * stats.t.ppf(1 - 0.05/6, df=1)"
   ],
   "metadata": {
    "collapsed": false
   }
  },
  {
   "cell_type": "code",
   "execution_count": 26,
   "outputs": [],
   "source": [],
   "metadata": {
    "collapsed": false
   }
  }
 ],
 "metadata": {
  "kernelspec": {
   "display_name": "Python 3",
   "language": "python",
   "name": "python3"
  },
  "language_info": {
   "codemirror_mode": {
    "name": "ipython",
    "version": 2
   },
   "file_extension": ".py",
   "mimetype": "text/x-python",
   "name": "python",
   "nbconvert_exporter": "python",
   "pygments_lexer": "ipython2",
   "version": "2.7.6"
  }
 },
 "nbformat": 4,
 "nbformat_minor": 0
}

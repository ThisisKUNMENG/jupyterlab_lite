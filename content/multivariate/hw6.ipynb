{
 "cells": [
  {
   "cell_type": "code",
   "execution_count": 2,
   "metadata": {},
   "outputs": [],
   "source": [
    "import numpy as np\n",
    "import pandas as pd\n",
    "\n",
    "df = pd.read_csv(\"./T4-6.DAT\", sep=\"\\t\", header=None)"
   ]
  },
  {
   "cell_type": "code",
   "execution_count": 4,
   "metadata": {},
   "outputs": [],
   "source": [
    "import scipy.stats as stats"
   ]
  },
  {
   "cell_type": "code",
   "execution_count": 5,
   "metadata": {},
   "outputs": [
    {
     "data": {
      "text/html": [
       "<div>\n",
       "<style scoped>\n",
       "    .dataframe tbody tr th:only-of-type {\n",
       "        vertical-align: middle;\n",
       "    }\n",
       "\n",
       "    .dataframe tbody tr th {\n",
       "        vertical-align: top;\n",
       "    }\n",
       "\n",
       "    .dataframe thead th {\n",
       "        text-align: right;\n",
       "    }\n",
       "</style>\n",
       "<table border=\"1\" class=\"dataframe\">\n",
       "  <thead>\n",
       "    <tr style=\"text-align: right;\">\n",
       "      <th></th>\n",
       "      <th>0</th>\n",
       "      <th>1</th>\n",
       "      <th>2</th>\n",
       "      <th>3</th>\n",
       "      <th>4</th>\n",
       "      <th>5</th>\n",
       "      <th>6</th>\n",
       "    </tr>\n",
       "  </thead>\n",
       "  <tbody>\n",
       "    <tr>\n",
       "      <th>0</th>\n",
       "      <td>0.974861</td>\n",
       "      <td>0.977879</td>\n",
       "      <td>0.983875</td>\n",
       "      <td>0.984610</td>\n",
       "      <td>0.962556</td>\n",
       "      <td>6.356202e-01</td>\n",
       "      <td>6.321636e-01</td>\n",
       "    </tr>\n",
       "    <tr>\n",
       "      <th>1</th>\n",
       "      <td>0.016167</td>\n",
       "      <td>0.031978</td>\n",
       "      <td>0.126901</td>\n",
       "      <td>0.150066</td>\n",
       "      <td>0.001196</td>\n",
       "      <td>1.728084e-16</td>\n",
       "      <td>1.449176e-16</td>\n",
       "    </tr>\n",
       "  </tbody>\n",
       "</table>\n",
       "</div>"
      ],
      "text/plain": [
       "          0         1         2         3         4             5  \\\n",
       "0  0.974861  0.977879  0.983875  0.984610  0.962556  6.356202e-01   \n",
       "1  0.016167  0.031978  0.126901  0.150066  0.001196  1.728084e-16   \n",
       "\n",
       "              6  \n",
       "0  6.321636e-01  \n",
       "1  1.449176e-16  "
      ]
     },
     "execution_count": 5,
     "metadata": {},
     "output_type": "execute_result"
    }
   ],
   "source": [
    "df.apply(stats.shapiro, axis=0)"
   ]
  },
  {
   "cell_type": "code",
   "execution_count": 6,
   "metadata": {},
   "outputs": [],
   "source": [
    "data = df[[0,1,2,3,4]]"
   ]
  },
  {
   "cell_type": "code",
   "execution_count": 7,
   "metadata": {},
   "outputs": [
    {
     "data": {
      "text/html": [
       "<div>\n",
       "<style scoped>\n",
       "    .dataframe tbody tr th:only-of-type {\n",
       "        vertical-align: middle;\n",
       "    }\n",
       "\n",
       "    .dataframe tbody tr th {\n",
       "        vertical-align: top;\n",
       "    }\n",
       "\n",
       "    .dataframe thead th {\n",
       "        text-align: right;\n",
       "    }\n",
       "</style>\n",
       "<table border=\"1\" class=\"dataframe\">\n",
       "  <thead>\n",
       "    <tr style=\"text-align: right;\">\n",
       "      <th></th>\n",
       "      <th>0</th>\n",
       "      <th>1</th>\n",
       "      <th>2</th>\n",
       "      <th>3</th>\n",
       "      <th>4</th>\n",
       "    </tr>\n",
       "  </thead>\n",
       "  <tbody>\n",
       "    <tr>\n",
       "      <th>0</th>\n",
       "      <td>27</td>\n",
       "      <td>13</td>\n",
       "      <td>14</td>\n",
       "      <td>20</td>\n",
       "      <td>11</td>\n",
       "    </tr>\n",
       "    <tr>\n",
       "      <th>1</th>\n",
       "      <td>12</td>\n",
       "      <td>13</td>\n",
       "      <td>24</td>\n",
       "      <td>25</td>\n",
       "      <td>6</td>\n",
       "    </tr>\n",
       "    <tr>\n",
       "      <th>2</th>\n",
       "      <td>14</td>\n",
       "      <td>20</td>\n",
       "      <td>15</td>\n",
       "      <td>16</td>\n",
       "      <td>7</td>\n",
       "    </tr>\n",
       "    <tr>\n",
       "      <th>3</th>\n",
       "      <td>18</td>\n",
       "      <td>20</td>\n",
       "      <td>17</td>\n",
       "      <td>12</td>\n",
       "      <td>6</td>\n",
       "    </tr>\n",
       "    <tr>\n",
       "      <th>4</th>\n",
       "      <td>9</td>\n",
       "      <td>22</td>\n",
       "      <td>22</td>\n",
       "      <td>21</td>\n",
       "      <td>6</td>\n",
       "    </tr>\n",
       "    <tr>\n",
       "      <th>...</th>\n",
       "      <td>...</td>\n",
       "      <td>...</td>\n",
       "      <td>...</td>\n",
       "      <td>...</td>\n",
       "      <td>...</td>\n",
       "    </tr>\n",
       "    <tr>\n",
       "      <th>125</th>\n",
       "      <td>10</td>\n",
       "      <td>11</td>\n",
       "      <td>26</td>\n",
       "      <td>17</td>\n",
       "      <td>10</td>\n",
       "    </tr>\n",
       "    <tr>\n",
       "      <th>126</th>\n",
       "      <td>14</td>\n",
       "      <td>12</td>\n",
       "      <td>14</td>\n",
       "      <td>11</td>\n",
       "      <td>29</td>\n",
       "    </tr>\n",
       "    <tr>\n",
       "      <th>127</th>\n",
       "      <td>19</td>\n",
       "      <td>11</td>\n",
       "      <td>23</td>\n",
       "      <td>18</td>\n",
       "      <td>13</td>\n",
       "    </tr>\n",
       "    <tr>\n",
       "      <th>128</th>\n",
       "      <td>27</td>\n",
       "      <td>19</td>\n",
       "      <td>22</td>\n",
       "      <td>7</td>\n",
       "      <td>9</td>\n",
       "    </tr>\n",
       "    <tr>\n",
       "      <th>129</th>\n",
       "      <td>10</td>\n",
       "      <td>17</td>\n",
       "      <td>22</td>\n",
       "      <td>22</td>\n",
       "      <td>8</td>\n",
       "    </tr>\n",
       "  </tbody>\n",
       "</table>\n",
       "<p>130 rows × 5 columns</p>\n",
       "</div>"
      ],
      "text/plain": [
       "      0   1   2   3   4\n",
       "0    27  13  14  20  11\n",
       "1    12  13  24  25   6\n",
       "2    14  20  15  16   7\n",
       "3    18  20  17  12   6\n",
       "4     9  22  22  21   6\n",
       "..   ..  ..  ..  ..  ..\n",
       "125  10  11  26  17  10\n",
       "126  14  12  14  11  29\n",
       "127  19  11  23  18  13\n",
       "128  27  19  22   7   9\n",
       "129  10  17  22  22   8\n",
       "\n",
       "[130 rows x 5 columns]"
      ]
     },
     "execution_count": 7,
     "metadata": {},
     "output_type": "execute_result"
    }
   ],
   "source": [
    "data"
   ]
  },
  {
   "cell_type": "code",
   "execution_count": 8,
   "metadata": {},
   "outputs": [],
   "source": [
    "x_bar = data.mean(axis=0)"
   ]
  },
  {
   "cell_type": "code",
   "execution_count": 11,
   "metadata": {},
   "outputs": [],
   "source": [
    "d2 = np.zeros(len(data))\n",
    "for i in range(len(data)):\n",
    "    d2[i] = (data.iloc[i] - x_bar).T @ np.linalg.inv(data.cov().values) @ (data.iloc[i] - x_bar)\n",
    " "
   ]
  },
  {
   "cell_type": "code",
   "execution_count": 12,
   "metadata": {},
   "outputs": [
    {
     "data": {
      "text/plain": [
       "array([ 7.74834167,  4.10760561,  4.52170589,  3.92831162,  3.43822032,\n",
       "        5.1224351 ,  4.1396058 ,  3.88967756,  4.71051193,  6.40716993,\n",
       "        2.23920771,  4.53922712,  4.26726616,  3.44816024,  7.78467096,\n",
       "        1.78561302,  7.43043274,  4.73872712,  4.17232937,  5.74407201,\n",
       "        2.7430495 ,  5.1459561 ,  4.98530692,  7.23145315,  3.87868291,\n",
       "       10.89595854,  4.96536714,  4.4750297 ,  5.72875449,  7.78395057,\n",
       "        2.17286033,  0.45076114,  2.14457373,  0.39657285,  3.81935309,\n",
       "        4.81841353,  4.85555996,  4.92629121,  4.94276045,  2.18500179,\n",
       "        2.84500156,  1.85482793,  3.79912141,  3.52163069,  4.16377956,\n",
       "        3.51788421, 11.06832344,  3.20886073,  2.40911592,  4.6206583 ,\n",
       "        2.76359629,  2.11344843,  5.75223107,  5.98048461,  8.13153718,\n",
       "        2.3247746 ,  2.6426479 ,  2.63161575,  3.1352071 , 15.02766251,\n",
       "        1.20436544,  2.8664037 ,  4.2192101 ,  1.4334055 , 13.91421087,\n",
       "        2.6772593 ,  4.19256116,  6.31943236,  1.62678292,  2.1212794 ,\n",
       "        8.07693787,  8.51295021,  8.95551799,  7.17946957,  6.33600471,\n",
       "        5.00396269,  7.88519755,  9.42932254,  2.88750821,  5.96103435,\n",
       "        1.15201352,  5.99744089,  7.91187326,  8.13285479,  6.50923556,\n",
       "        2.51402229,  2.02896998,  6.71204639,  2.47373502,  5.35607527,\n",
       "        4.88881079,  1.56552349,  1.13564115,  1.55052254, 10.5718755 ,\n",
       "       12.27761096,  3.5973828 ,  5.54464896,  6.13800159,  5.25469278,\n",
       "        6.5440622 ,  3.77299117,  1.43982864, 14.66956571,  5.19641285,\n",
       "        5.00330209,  7.67368757,  2.29796742,  8.33155895,  2.06571669,\n",
       "       11.0369913 ,  5.30176608,  4.03132197,  5.29041311,  1.1957166 ,\n",
       "        8.16629989,  3.69873628,  3.82438541,  4.60889553,  2.06355667,\n",
       "        1.95387535,  2.29497073,  5.92841109,  4.01488893,  2.76248935,\n",
       "        8.48182939, 12.17213624,  3.96725154,  9.19716202,  1.67665706])"
      ]
     },
     "execution_count": 12,
     "metadata": {},
     "output_type": "execute_result"
    }
   ],
   "source": [
    "d2"
   ]
  },
  {
   "cell_type": "code",
   "execution_count": 13,
   "metadata": {},
   "outputs": [],
   "source": [
    "d2_sort = np.sort(d2)"
   ]
  },
  {
   "cell_type": "code",
   "execution_count": null,
   "metadata": {},
   "outputs": [],
   "source": []
  }
 ],
 "metadata": {
  "kernelspec": {
   "display_name": "Python 3",
   "language": "python",
   "name": "python3"
  },
  "language_info": {
   "codemirror_mode": {
    "name": "ipython",
    "version": 3
   },
   "file_extension": ".py",
   "mimetype": "text/x-python",
   "name": "python",
   "nbconvert_exporter": "python",
   "pygments_lexer": "ipython3",
   "version": "3.10.4"
  },
  "orig_nbformat": 4
 },
 "nbformat": 4,
 "nbformat_minor": 2
}

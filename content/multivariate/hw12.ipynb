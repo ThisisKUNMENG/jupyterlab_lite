{
 "cells": [
  {
   "cell_type": "code",
   "execution_count": 22,
   "outputs": [],
   "source": [
    "import numpy as np\n",
    "import pandas as pd"
   ],
   "metadata": {
    "collapsed": false
   }
  },
  {
   "cell_type": "code",
   "execution_count": 23,
   "metadata": {
    "collapsed": true
   },
   "outputs": [],
   "source": [
    "data = pd.read_csv(\"./data/T9-12.DAT\", sep=\"\\s+\", header=None,\n",
    "            names=['x1', 'x2', 'x3', 'x4', 'x5', 'x6', 'x7'])"
   ]
  },
  {
   "cell_type": "code",
   "execution_count": 24,
   "outputs": [],
   "source": [
    "data_standard = (data - data.mean()) / data.std()"
   ],
   "metadata": {
    "collapsed": false
   }
  },
  {
   "cell_type": "code",
   "execution_count": 25,
   "outputs": [
    {
     "data": {
      "text/plain": "FactorAnalysis(n_components=3)",
      "text/html": "<style>#sk-container-id-2 {color: black;background-color: white;}#sk-container-id-2 pre{padding: 0;}#sk-container-id-2 div.sk-toggleable {background-color: white;}#sk-container-id-2 label.sk-toggleable__label {cursor: pointer;display: block;width: 100%;margin-bottom: 0;padding: 0.3em;box-sizing: border-box;text-align: center;}#sk-container-id-2 label.sk-toggleable__label-arrow:before {content: \"▸\";float: left;margin-right: 0.25em;color: #696969;}#sk-container-id-2 label.sk-toggleable__label-arrow:hover:before {color: black;}#sk-container-id-2 div.sk-estimator:hover label.sk-toggleable__label-arrow:before {color: black;}#sk-container-id-2 div.sk-toggleable__content {max-height: 0;max-width: 0;overflow: hidden;text-align: left;background-color: #f0f8ff;}#sk-container-id-2 div.sk-toggleable__content pre {margin: 0.2em;color: black;border-radius: 0.25em;background-color: #f0f8ff;}#sk-container-id-2 input.sk-toggleable__control:checked~div.sk-toggleable__content {max-height: 200px;max-width: 100%;overflow: auto;}#sk-container-id-2 input.sk-toggleable__control:checked~label.sk-toggleable__label-arrow:before {content: \"▾\";}#sk-container-id-2 div.sk-estimator input.sk-toggleable__control:checked~label.sk-toggleable__label {background-color: #d4ebff;}#sk-container-id-2 div.sk-label input.sk-toggleable__control:checked~label.sk-toggleable__label {background-color: #d4ebff;}#sk-container-id-2 input.sk-hidden--visually {border: 0;clip: rect(1px 1px 1px 1px);clip: rect(1px, 1px, 1px, 1px);height: 1px;margin: -1px;overflow: hidden;padding: 0;position: absolute;width: 1px;}#sk-container-id-2 div.sk-estimator {font-family: monospace;background-color: #f0f8ff;border: 1px dotted black;border-radius: 0.25em;box-sizing: border-box;margin-bottom: 0.5em;}#sk-container-id-2 div.sk-estimator:hover {background-color: #d4ebff;}#sk-container-id-2 div.sk-parallel-item::after {content: \"\";width: 100%;border-bottom: 1px solid gray;flex-grow: 1;}#sk-container-id-2 div.sk-label:hover label.sk-toggleable__label {background-color: #d4ebff;}#sk-container-id-2 div.sk-serial::before {content: \"\";position: absolute;border-left: 1px solid gray;box-sizing: border-box;top: 0;bottom: 0;left: 50%;z-index: 0;}#sk-container-id-2 div.sk-serial {display: flex;flex-direction: column;align-items: center;background-color: white;padding-right: 0.2em;padding-left: 0.2em;position: relative;}#sk-container-id-2 div.sk-item {position: relative;z-index: 1;}#sk-container-id-2 div.sk-parallel {display: flex;align-items: stretch;justify-content: center;background-color: white;position: relative;}#sk-container-id-2 div.sk-item::before, #sk-container-id-2 div.sk-parallel-item::before {content: \"\";position: absolute;border-left: 1px solid gray;box-sizing: border-box;top: 0;bottom: 0;left: 50%;z-index: -1;}#sk-container-id-2 div.sk-parallel-item {display: flex;flex-direction: column;z-index: 1;position: relative;background-color: white;}#sk-container-id-2 div.sk-parallel-item:first-child::after {align-self: flex-end;width: 50%;}#sk-container-id-2 div.sk-parallel-item:last-child::after {align-self: flex-start;width: 50%;}#sk-container-id-2 div.sk-parallel-item:only-child::after {width: 0;}#sk-container-id-2 div.sk-dashed-wrapped {border: 1px dashed gray;margin: 0 0.4em 0.5em 0.4em;box-sizing: border-box;padding-bottom: 0.4em;background-color: white;}#sk-container-id-2 div.sk-label label {font-family: monospace;font-weight: bold;display: inline-block;line-height: 1.2em;}#sk-container-id-2 div.sk-label-container {text-align: center;}#sk-container-id-2 div.sk-container {/* jupyter's `normalize.less` sets `[hidden] { display: none; }` but bootstrap.min.css set `[hidden] { display: none !important; }` so we also need the `!important` here to be able to override the default hidden behavior on the sphinx rendered scikit-learn.org. See: https://github.com/scikit-learn/scikit-learn/issues/21755 */display: inline-block !important;position: relative;}#sk-container-id-2 div.sk-text-repr-fallback {display: none;}</style><div id=\"sk-container-id-2\" class=\"sk-top-container\"><div class=\"sk-text-repr-fallback\"><pre>FactorAnalysis(n_components=3)</pre><b>In a Jupyter environment, please rerun this cell to show the HTML representation or trust the notebook. <br />On GitHub, the HTML representation is unable to render, please try loading this page with nbviewer.org.</b></div><div class=\"sk-container\" hidden><div class=\"sk-item\"><div class=\"sk-estimator sk-toggleable\"><input class=\"sk-toggleable__control sk-hidden--visually\" id=\"sk-estimator-id-2\" type=\"checkbox\" checked><label for=\"sk-estimator-id-2\" class=\"sk-toggleable__label sk-toggleable__label-arrow\">FactorAnalysis</label><div class=\"sk-toggleable__content\"><pre>FactorAnalysis(n_components=3)</pre></div></div></div></div></div>"
     },
     "execution_count": 25,
     "metadata": {},
     "output_type": "execute_result"
    }
   ],
   "source": [
    "from sklearn.decomposition import FactorAnalysis\n",
    "\n",
    "fa2 = FactorAnalysis(n_components=2)\n",
    "fa3 = FactorAnalysis(n_components=3)\n",
    "fa2.fit(data_standard)\n",
    "fa3.fit(data_standard)"
   ],
   "metadata": {
    "collapsed": false
   }
  },
  {
   "cell_type": "code",
   "execution_count": 26,
   "outputs": [
    {
     "data": {
      "text/plain": "array([[ 0.95,  0.03],\n       [ 0.95, -0.02],\n       [ 0.9 ,  0.21],\n       [ 0.57,  0.77],\n       [ 0.67,  0.28],\n       [ 0.57, -0.17],\n       [ 0.96, -0.19]])"
     },
     "execution_count": 26,
     "metadata": {},
     "output_type": "execute_result"
    }
   ],
   "source": [
    "np.around(fa2.components_.T, 2)"
   ],
   "metadata": {
    "collapsed": false
   }
  },
  {
   "cell_type": "code",
   "execution_count": 27,
   "outputs": [
    {
     "data": {
      "text/plain": "array([0.07, 0.07, 0.12, 0.06, 0.45, 0.63, 0.02])"
     },
     "execution_count": 27,
     "metadata": {},
     "output_type": "execute_result"
    }
   ],
   "source": [
    "np.around(fa2.noise_variance_, 2)"
   ],
   "metadata": {
    "collapsed": false
   }
  },
  {
   "cell_type": "code",
   "execution_count": 28,
   "outputs": [
    {
     "data": {
      "text/plain": "array([[ 0.95301314,  0.02521284],\n       [ 0.95437358, -0.01853707],\n       [ 0.90339518,  0.21063999],\n       [ 0.56982344,  0.77041681],\n       [ 0.67219252,  0.27573925],\n       [ 0.56913034, -0.17198317],\n       [ 0.96167478, -0.1868867 ]])"
     },
     "execution_count": 28,
     "metadata": {},
     "output_type": "execute_result"
    }
   ],
   "source": [
    "fa2.components_.T"
   ],
   "metadata": {
    "collapsed": false
   }
  },
  {
   "cell_type": "code",
   "execution_count": 29,
   "outputs": [
    {
     "data": {
      "text/plain": "array([[-0.89, -0.28, -0.26],\n       [-0.82, -0.15, -0.5 ],\n       [-0.93, -0.14, -0.09],\n       [-0.83,  0.52,  0.14],\n       [-0.72,  0.01, -0.16],\n       [-0.59, -0.74,  0.28],\n       [-0.77, -0.32, -0.49]])"
     },
     "execution_count": 29,
     "metadata": {},
     "output_type": "execute_result"
    }
   ],
   "source": [
    "np.around(fa3.components_.T, 2)"
   ],
   "metadata": {
    "collapsed": false
   }
  },
  {
   "cell_type": "code",
   "execution_count": 30,
   "outputs": [
    {
     "data": {
      "text/plain": "array([0.04, 0.03, 0.09, 0.01, 0.44, 0.01, 0.04])"
     },
     "execution_count": 30,
     "metadata": {},
     "output_type": "execute_result"
    }
   ],
   "source": [
    "np.around(fa3.noise_variance_, 2)"
   ],
   "metadata": {
    "collapsed": false
   }
  },
  {
   "cell_type": "code",
   "execution_count": 31,
   "outputs": [
    {
     "data": {
      "text/plain": "FactorAnalysis(n_components=3, rotation='varimax')",
      "text/html": "<style>#sk-container-id-3 {color: black;background-color: white;}#sk-container-id-3 pre{padding: 0;}#sk-container-id-3 div.sk-toggleable {background-color: white;}#sk-container-id-3 label.sk-toggleable__label {cursor: pointer;display: block;width: 100%;margin-bottom: 0;padding: 0.3em;box-sizing: border-box;text-align: center;}#sk-container-id-3 label.sk-toggleable__label-arrow:before {content: \"▸\";float: left;margin-right: 0.25em;color: #696969;}#sk-container-id-3 label.sk-toggleable__label-arrow:hover:before {color: black;}#sk-container-id-3 div.sk-estimator:hover label.sk-toggleable__label-arrow:before {color: black;}#sk-container-id-3 div.sk-toggleable__content {max-height: 0;max-width: 0;overflow: hidden;text-align: left;background-color: #f0f8ff;}#sk-container-id-3 div.sk-toggleable__content pre {margin: 0.2em;color: black;border-radius: 0.25em;background-color: #f0f8ff;}#sk-container-id-3 input.sk-toggleable__control:checked~div.sk-toggleable__content {max-height: 200px;max-width: 100%;overflow: auto;}#sk-container-id-3 input.sk-toggleable__control:checked~label.sk-toggleable__label-arrow:before {content: \"▾\";}#sk-container-id-3 div.sk-estimator input.sk-toggleable__control:checked~label.sk-toggleable__label {background-color: #d4ebff;}#sk-container-id-3 div.sk-label input.sk-toggleable__control:checked~label.sk-toggleable__label {background-color: #d4ebff;}#sk-container-id-3 input.sk-hidden--visually {border: 0;clip: rect(1px 1px 1px 1px);clip: rect(1px, 1px, 1px, 1px);height: 1px;margin: -1px;overflow: hidden;padding: 0;position: absolute;width: 1px;}#sk-container-id-3 div.sk-estimator {font-family: monospace;background-color: #f0f8ff;border: 1px dotted black;border-radius: 0.25em;box-sizing: border-box;margin-bottom: 0.5em;}#sk-container-id-3 div.sk-estimator:hover {background-color: #d4ebff;}#sk-container-id-3 div.sk-parallel-item::after {content: \"\";width: 100%;border-bottom: 1px solid gray;flex-grow: 1;}#sk-container-id-3 div.sk-label:hover label.sk-toggleable__label {background-color: #d4ebff;}#sk-container-id-3 div.sk-serial::before {content: \"\";position: absolute;border-left: 1px solid gray;box-sizing: border-box;top: 0;bottom: 0;left: 50%;z-index: 0;}#sk-container-id-3 div.sk-serial {display: flex;flex-direction: column;align-items: center;background-color: white;padding-right: 0.2em;padding-left: 0.2em;position: relative;}#sk-container-id-3 div.sk-item {position: relative;z-index: 1;}#sk-container-id-3 div.sk-parallel {display: flex;align-items: stretch;justify-content: center;background-color: white;position: relative;}#sk-container-id-3 div.sk-item::before, #sk-container-id-3 div.sk-parallel-item::before {content: \"\";position: absolute;border-left: 1px solid gray;box-sizing: border-box;top: 0;bottom: 0;left: 50%;z-index: -1;}#sk-container-id-3 div.sk-parallel-item {display: flex;flex-direction: column;z-index: 1;position: relative;background-color: white;}#sk-container-id-3 div.sk-parallel-item:first-child::after {align-self: flex-end;width: 50%;}#sk-container-id-3 div.sk-parallel-item:last-child::after {align-self: flex-start;width: 50%;}#sk-container-id-3 div.sk-parallel-item:only-child::after {width: 0;}#sk-container-id-3 div.sk-dashed-wrapped {border: 1px dashed gray;margin: 0 0.4em 0.5em 0.4em;box-sizing: border-box;padding-bottom: 0.4em;background-color: white;}#sk-container-id-3 div.sk-label label {font-family: monospace;font-weight: bold;display: inline-block;line-height: 1.2em;}#sk-container-id-3 div.sk-label-container {text-align: center;}#sk-container-id-3 div.sk-container {/* jupyter's `normalize.less` sets `[hidden] { display: none; }` but bootstrap.min.css set `[hidden] { display: none !important; }` so we also need the `!important` here to be able to override the default hidden behavior on the sphinx rendered scikit-learn.org. See: https://github.com/scikit-learn/scikit-learn/issues/21755 */display: inline-block !important;position: relative;}#sk-container-id-3 div.sk-text-repr-fallback {display: none;}</style><div id=\"sk-container-id-3\" class=\"sk-top-container\"><div class=\"sk-text-repr-fallback\"><pre>FactorAnalysis(n_components=3, rotation=&#x27;varimax&#x27;)</pre><b>In a Jupyter environment, please rerun this cell to show the HTML representation or trust the notebook. <br />On GitHub, the HTML representation is unable to render, please try loading this page with nbviewer.org.</b></div><div class=\"sk-container\" hidden><div class=\"sk-item\"><div class=\"sk-estimator sk-toggleable\"><input class=\"sk-toggleable__control sk-hidden--visually\" id=\"sk-estimator-id-3\" type=\"checkbox\" checked><label for=\"sk-estimator-id-3\" class=\"sk-toggleable__label sk-toggleable__label-arrow\">FactorAnalysis</label><div class=\"sk-toggleable__content\"><pre>FactorAnalysis(n_components=3, rotation=&#x27;varimax&#x27;)</pre></div></div></div></div></div>"
     },
     "execution_count": 31,
     "metadata": {},
     "output_type": "execute_result"
    }
   ],
   "source": [
    "fa2_rotate = FactorAnalysis(n_components=2, rotation='varimax')\n",
    "fa2_rotate.fit(data_standard)\n",
    "fa3_rotate = FactorAnalysis(n_components=3, rotation='varimax')\n",
    "fa3_rotate.fit(data_standard)"
   ],
   "metadata": {
    "collapsed": false
   }
  },
  {
   "cell_type": "code",
   "execution_count": 32,
   "outputs": [
    {
     "data": {
      "text/plain": "array([[0.88, 0.37],\n       [0.9 , 0.33],\n       [0.77, 0.52],\n       [0.25, 0.92],\n       [0.53, 0.5 ],\n       [0.59, 0.05],\n       [0.96, 0.17]])"
     },
     "execution_count": 32,
     "metadata": {},
     "output_type": "execute_result"
    }
   ],
   "source": [
    "np.around(fa2_rotate.components_.T, 2)"
   ],
   "metadata": {
    "collapsed": false
   }
  },
  {
   "cell_type": "code",
   "execution_count": 33,
   "outputs": [
    {
     "data": {
      "text/plain": "array([0.07, 0.07, 0.12, 0.06, 0.45, 0.63, 0.02])"
     },
     "execution_count": 33,
     "metadata": {},
     "output_type": "execute_result"
    }
   ],
   "source": [
    "np.around(fa2_rotate.noise_variance_, 2)"
   ],
   "metadata": {
    "collapsed": false
   }
  },
  {
   "cell_type": "code",
   "execution_count": 34,
   "outputs": [
    {
     "data": {
      "text/plain": "array([[-0.36, -0.44, -0.78],\n       [-0.31, -0.19, -0.9 ],\n       [-0.53, -0.44, -0.64],\n       [-0.95, -0.03, -0.26],\n       [-0.46, -0.21, -0.54],\n       [-0.04, -0.94, -0.29],\n       [-0.17, -0.3 , -0.91]])"
     },
     "execution_count": 34,
     "metadata": {},
     "output_type": "execute_result"
    }
   ],
   "source": [
    "np.around(fa3_rotate.components_.T, 2)"
   ],
   "metadata": {
    "collapsed": false
   }
  },
  {
   "cell_type": "code",
   "execution_count": 35,
   "outputs": [
    {
     "data": {
      "text/plain": "array([0.04, 0.03, 0.09, 0.01, 0.44, 0.01, 0.04])"
     },
     "execution_count": 35,
     "metadata": {},
     "output_type": "execute_result"
    }
   ],
   "source": [
    "np.around(fa3_rotate.noise_variance_, 2)"
   ],
   "metadata": {
    "collapsed": false
   }
  },
  {
   "cell_type": "code",
   "execution_count": 37,
   "outputs": [
    {
     "name": "stdout",
     "output_type": "stream",
     "text": [
      "0.88 & 0.37 & -0.36 & -0.44 & -0.78\n",
      "0.9 & 0.33 & -0.31 & -0.19 & -0.9\n",
      "0.77 & 0.52 & -0.53 & -0.44 & -0.64\n",
      "0.25 & 0.92 & -0.95 & -0.03 & -0.26\n",
      "0.53 & 0.5 & -0.46 & -0.21 & -0.54\n",
      "0.59 & 0.05 & -0.04 & -0.94 & -0.29\n",
      "0.96 & 0.17 & -0.17 & -0.3 & -0.91\n"
     ]
    }
   ],
   "source": [
    "for i in range(7):\n",
    "    print(\" & \"\n",
    "          .join(\n",
    "        [str(np.around(fa2_rotate.components_.T[i][j], 2)) for j in range(2)] +\n",
    "        [str(np.around(fa3_rotate.components_.T[i][j], 2)) for j in range(3)]\n",
    "    ))"
   ],
   "metadata": {
    "collapsed": false
   }
  },
  {
   "cell_type": "code",
   "execution_count": 38,
   "outputs": [
    {
     "data": {
      "text/plain": "array([[-0.9739665 , -0.02915019],\n       [-1.46826049, -0.24536029],\n       [-0.55347387, -0.65121202],\n       [ 0.09515628,  0.59973273],\n       [ 0.18535585, -0.43821143],\n       [-0.76408395,  0.20445631],\n       [-0.58140362, -0.33600054],\n       [ 2.07302098,  0.60121101],\n       [ 0.18784636, -0.3256912 ],\n       [ 0.95297479,  0.0659501 ],\n       [ 0.32648043,  0.10576176],\n       [ 0.08899151, -0.38373239],\n       [ 0.6353074 ,  1.03246205],\n       [ 0.10416132, -1.14735972],\n       [ 0.26580757,  0.11025924],\n       [-1.60657592, -0.36206716],\n       [ 0.13348251, -0.23107591],\n       [ 0.44338555, -0.39268966],\n       [-0.24961167, -1.55683002],\n       [ 0.08339221,  1.73650279],\n       [-1.36258431,  0.5037334 ],\n       [ 0.6322209 , -2.37429702],\n       [-1.41766083,  0.15171578],\n       [ 0.71124037, -0.22979079],\n       [ 1.15837543,  0.76066019],\n       [-0.68332041,  0.05827651],\n       [ 1.00655304,  0.18827026],\n       [ 1.40430854, -1.53882066],\n       [-1.20827041, -0.06707242],\n       [ 1.12078494, -1.43604882],\n       [ 1.37358886,  0.97777822],\n       [-1.57024435,  1.58595576],\n       [-0.40587199, -0.8990243 ],\n       [-0.96393035,  0.30563799],\n       [ 1.37374766,  1.07262455],\n       [ 1.20910229, -1.8865564 ],\n       [-0.68398495,  2.51648188],\n       [-0.07129486,  0.52853314],\n       [ 1.27540182,  0.36771812],\n       [ 0.92879361,  0.36576764],\n       [ 0.22318367, -0.64056211],\n       [-0.58972109,  0.83666536],\n       [ 0.56960098,  1.45419933],\n       [-1.85503768, -1.78895517],\n       [-0.62007023, -0.70030213],\n       [ 0.89271186,  1.35741868],\n       [-1.39945315, -0.10731421],\n       [-1.94935422,  0.31613326],\n       [ 0.6264026 ,  0.32303381],\n       [ 0.89679554, -0.35881533]])"
     },
     "execution_count": 38,
     "metadata": {},
     "output_type": "execute_result"
    }
   ],
   "source": [
    "fa2.transform(data_standard)"
   ],
   "metadata": {
    "collapsed": false
   }
  },
  {
   "cell_type": "code",
   "execution_count": 48,
   "outputs": [
    {
     "name": "stdout",
     "output_type": "stream",
     "text": [
      "0.91 & 0.91 & 0.86 & 0.92 & 0.53 & 0.35 & 0.96\n"
     ]
    }
   ],
   "source": [
    "print(\" & \"\n",
    "      .join(\n",
    "    [str(np.around((fa2.components_ ** 2).sum(axis=0), 2)[i]) for i in range(7)]\n",
    "))"
   ],
   "metadata": {
    "collapsed": false
   }
  },
  {
   "cell_type": "code",
   "execution_count": 71,
   "outputs": [],
   "source": [
    "sigma2 = fa2.components_.T @ fa2.components_ + fa2.noise_variance_.T"
   ],
   "metadata": {
    "collapsed": false
   }
  },
  {
   "cell_type": "code",
   "execution_count": 72,
   "outputs": [
    {
     "name": "stdout",
     "output_type": "stream",
     "text": [
      "0.98 & 0.98 & 0.99 & 0.63 & 1.1 & 1.16 & 0.93\n",
      "0.98 & 0.98 & 0.98 & 0.59 & 1.09 & 1.17 & 0.94\n",
      "0.94 & 0.93 & 0.98 & 0.74 & 1.12 & 1.1 & 0.85\n",
      "0.63 & 0.6 & 0.8 & 0.98 & 1.05 & 0.82 & 0.42\n",
      "0.72 & 0.71 & 0.78 & 0.66 & 0.98 & 0.96 & 0.62\n",
      "0.61 & 0.62 & 0.6 & 0.25 & 0.79 & 0.98 & 0.6\n",
      "0.98 & 0.99 & 0.95 & 0.47 & 1.05 & 1.21 & 0.98\n"
     ]
    }
   ],
   "source": [
    "for i in range(7):\n",
    "    print(\n",
    "        \" & \".join(\n",
    "            [str(np.around(sigma2[i][j], 2)) for j in range(7)]\n",
    "        )\n",
    "    )"
   ],
   "metadata": {
    "collapsed": false
   }
  },
  {
   "cell_type": "code",
   "execution_count": 57,
   "outputs": [
    {
     "name": "stdout",
     "output_type": "stream",
     "text": [
      "0.94 & 0.95 & 0.89 & 0.97 & 0.54 & 0.97 & 0.94\n"
     ]
    }
   ],
   "source": [
    "print(\" & \"\n",
    "      .join(\n",
    "    [str(np.around((fa3.components_ ** 2).sum(axis=0), 2)[i]) for i in range(7)]\n",
    "))"
   ],
   "metadata": {
    "collapsed": false
   }
  },
  {
   "cell_type": "code",
   "execution_count": 59,
   "outputs": [
    {
     "name": "stdout",
     "output_type": "stream",
     "text": [
      "0.04 & 0.03 & 0.09 & 0.01 & 0.44 & 0.01 & 0.04\n"
     ]
    }
   ],
   "source": [
    "print(\" & \"\n",
    "      .join(\n",
    "    [str(np.around(fa3.noise_variance_, 2)[i]) for i in range(7)]\n",
    "))"
   ],
   "metadata": {
    "collapsed": false
   }
  },
  {
   "cell_type": "code",
   "execution_count": 55,
   "outputs": [],
   "source": [
    "sigma3 = fa3.components_.T @ fa3.components_ + fa3.noise_variance_"
   ],
   "metadata": {
    "collapsed": false
   }
  },
  {
   "cell_type": "code",
   "execution_count": 56,
   "outputs": [
    {
     "name": "stdout",
     "output_type": "stream",
     "text": [
      "0.98 & 0.94 & 0.98 & 0.57 & 1.12 & 0.67 & 0.94\n",
      "0.94 & 0.98 & 0.92 & 0.54 & 1.1 & 0.47 & 0.97\n",
      "0.93 & 0.86 & 0.98 & 0.69 & 1.12 & 0.64 & 0.85\n",
      "0.6 & 0.56 & 0.77 & 0.98 & 1.01 & 0.16 & 0.44\n",
      "0.72 & 0.7 & 0.77 & 0.59 & 0.98 & 0.39 & 0.67\n",
      "0.7 & 0.49 & 0.71 & 0.15 & 0.81 & 0.98 & 0.59\n",
      "0.94 & 0.96 & 0.9 & 0.41 & 1.07 & 0.57 & 0.98\n"
     ]
    }
   ],
   "source": [
    "for i in range(7):\n",
    "    print(\n",
    "        \" & \".join(\n",
    "            [str(np.around(sigma3[i][j], 2)) for j in range(7)]\n",
    "        )\n",
    "    )"
   ],
   "metadata": {
    "collapsed": false
   }
  },
  {
   "cell_type": "code",
   "execution_count": 61,
   "outputs": [
    {
     "data": {
      "text/plain": "array([[1.        , 0.92607578, 0.88400227, 0.5720363 , 0.70807381,\n        0.67440731, 0.92731157],\n       [0.92607578, 1.        , 0.84252323, 0.54150803, 0.74590974,\n        0.46538802, 0.94429598],\n       [0.88400227, 0.84252323, 1.        , 0.70036303, 0.63747116,\n        0.64108861, 0.85256816],\n       [0.5720363 , 0.54150803, 0.70036303, 1.        , 0.59073605,\n        0.14690742, 0.41263945],\n       [0.70807381, 0.74590974, 0.63747116, 0.59073605, 1.        ,\n        0.38595021, 0.57455327],\n       [0.67440731, 0.46538802, 0.64108861, 0.14690742, 0.38595021,\n        1.        , 0.56637215],\n       [0.92731157, 0.94429598, 0.85256816, 0.41263945, 0.57455327,\n        0.56637215, 1.        ]])"
     },
     "execution_count": 61,
     "metadata": {},
     "output_type": "execute_result"
    }
   ],
   "source": [
    "data_standard.corr().values"
   ],
   "metadata": {
    "collapsed": false
   }
  },
  {
   "cell_type": "code",
   "execution_count": 62,
   "outputs": [
    {
     "name": "stdout",
     "output_type": "stream",
     "text": [
      "1.0 & 0.93 & 0.88 & 0.57 & 0.71 & 0.67 & 0.93\n",
      "0.93 & 1.0 & 0.84 & 0.54 & 0.75 & 0.47 & 0.94\n",
      "0.88 & 0.84 & 1.0 & 0.7 & 0.64 & 0.64 & 0.85\n",
      "0.57 & 0.54 & 0.7 & 1.0 & 0.59 & 0.15 & 0.41\n",
      "0.71 & 0.75 & 0.64 & 0.59 & 1.0 & 0.39 & 0.57\n",
      "0.67 & 0.47 & 0.64 & 0.15 & 0.39 & 1.0 & 0.57\n",
      "0.93 & 0.94 & 0.85 & 0.41 & 0.57 & 0.57 & 1.0\n"
     ]
    }
   ],
   "source": [
    "for i in range(7):\n",
    "    print(\n",
    "        \" & \".join(\n",
    "            [str(np.around(data_standard.corr().values[i][j], 2)) for j in range(7)]\n",
    "        )\n",
    "    )"
   ],
   "metadata": {
    "collapsed": false
   }
  },
  {
   "cell_type": "code",
   "execution_count": 63,
   "outputs": [],
   "source": [
    "u = (2/49-1/98) * ((2*7*7+3*7-1)/(6*8))"
   ],
   "metadata": {
    "collapsed": false
   }
  },
  {
   "cell_type": "code",
   "execution_count": 65,
   "outputs": [],
   "source": [
    "s1 = data_standard.cov().values"
   ],
   "metadata": {
    "collapsed": false
   }
  },
  {
   "cell_type": "code",
   "execution_count": 74,
   "outputs": [],
   "source": [
    "m = 98 * np.log(np.linalg.det(1/2 * (sigma2 + s1))) - 49 * np.log(np.linalg.det(s1)) - 49 * np.log(np.abs(np.linalg.det(sigma2)))"
   ],
   "metadata": {
    "collapsed": false
   }
  },
  {
   "cell_type": "code",
   "execution_count": 76,
   "outputs": [
    {
     "name": "stdout",
     "output_type": "stream",
     "text": [
      "297098.0691864721\n"
     ]
    }
   ],
   "source": [
    "chi = (1-u) * 49 * m\n",
    "print(chi)"
   ],
   "metadata": {
    "collapsed": false
   }
  },
  {
   "cell_type": "code",
   "execution_count": 77,
   "outputs": [],
   "source": [
    "m = 98 * np.log(np.linalg.det(1/2 * (sigma3 + s1))) - 49 * np.log(np.linalg.det(s1)) - 49 * np.log(np.abs(np.linalg.det(sigma3)))"
   ],
   "metadata": {
    "collapsed": false
   }
  },
  {
   "cell_type": "code",
   "execution_count": 78,
   "outputs": [
    {
     "name": "stdout",
     "output_type": "stream",
     "text": [
      "212435.7030203306\n"
     ]
    }
   ],
   "source": [
    "chi = (1-u) * 49 * m\n",
    "print(chi)"
   ],
   "metadata": {
    "collapsed": false
   }
  },
  {
   "cell_type": "code",
   "execution_count": null,
   "outputs": [],
   "source": [],
   "metadata": {
    "collapsed": false
   }
  }
 ],
 "metadata": {
  "kernelspec": {
   "display_name": "Python 3",
   "language": "python",
   "name": "python3"
  },
  "language_info": {
   "codemirror_mode": {
    "name": "ipython",
    "version": 2
   },
   "file_extension": ".py",
   "mimetype": "text/x-python",
   "name": "python",
   "nbconvert_exporter": "python",
   "pygments_lexer": "ipython2",
   "version": "2.7.6"
  }
 },
 "nbformat": 4,
 "nbformat_minor": 0
}

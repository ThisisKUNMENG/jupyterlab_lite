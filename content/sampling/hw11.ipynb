{
 "cells": [
  {
   "cell_type": "code",
   "execution_count": 1,
   "metadata": {
    "collapsed": true
   },
   "outputs": [],
   "source": [
    "import pandas as pd\n",
    "import numpy as np"
   ]
  },
  {
   "cell_type": "markdown",
   "source": [
    "## 5.8.14"
   ],
   "metadata": {
    "collapsed": false
   }
  },
  {
   "cell_type": "code",
   "execution_count": 63,
   "outputs": [],
   "source": [
    "school = np.array([1,2,3,4])\n",
    "female_students_interviewed = np.array([25, 15, 20, 40])\n",
    "number_of_smokers = np.array([10,3,6,27])\n",
    "female_students = np.array([792, 447, 511, 800])"
   ],
   "metadata": {
    "collapsed": false
   }
  },
  {
   "cell_type": "code",
   "execution_count": 64,
   "outputs": [],
   "source": [
    "p = number_of_smokers / female_students_interviewed"
   ],
   "metadata": {
    "collapsed": false
   }
  },
  {
   "cell_type": "code",
   "execution_count": 65,
   "outputs": [
    {
     "name": "stdout",
     "output_type": "stream",
     "text": [
      "0.43117647058823527\n",
      "0.23957877265361247 0.622774168522858\n"
     ]
    }
   ],
   "source": [
    "p_bar = np.sum(female_students * p)/np.sum(female_students)\n",
    "var_p = (1/np.mean(female_students)**2) * (1/4-1/29) * (1/3) * np.sum(female_students**2 * (p-p_bar)**2) + 1/(4 * 29 * np.mean(female_students)**2) * np.sum((1/female_students_interviewed - 1/female_students)*female_students**2*(p-p_bar)**2 * female_students_interviewed/(female_students_interviewed-1))\n",
    "se_p = np.sqrt(var_p)\n",
    "print(p_bar)\n",
    "print(p_bar - 1.96 * se_p, p_bar + 1.96 * se_p)"
   ],
   "metadata": {
    "collapsed": false
   }
  },
  {
   "cell_type": "code",
   "execution_count": 66,
   "outputs": [
    {
     "name": "stdout",
     "output_type": "stream",
     "text": [
      "7971.375\n",
      "7688.402353949749 8254.347646050252\n"
     ]
    }
   ],
   "source": [
    "t_hat = np.sum(29/4 * female_students * p)\n",
    "var_t = 29**2 * (1/4-1/29) * np.var(number_of_smokers, ddof=1) + 29/4 * np.sum((1/female_students_interviewed - 1/female_students)*(p-p_bar)**2 * female_students_interviewed/(female_students_interviewed-1))\n",
    "se_t = np.sqrt(var_t)\n",
    "print(t_hat)\n",
    "print(t_hat - 1.96 * se_t, t_hat + 1.96 * se_t)"
   ],
   "metadata": {
    "collapsed": false
   }
  },
  {
   "cell_type": "code",
   "execution_count": 76,
   "outputs": [
    {
     "name": "stdout",
     "output_type": "stream",
     "text": [
      "0.10363828502415473\n"
     ]
    }
   ],
   "source": [
    "msw = np.sum(p * (1-p) * female_students_interviewed)/(4 * (np.mean(female_students_interviewed)-1))\n",
    "s_2 = np.sum(number_of_smokers)/np.sum(female_students_interviewed) * (1-np.sum(number_of_smokers)/np.sum(female_students_interviewed))\n",
    "r_a_2 = 1 - msw/s_2\n",
    "print(r_a_2)"
   ],
   "metadata": {
    "collapsed": false
   }
  },
  {
   "cell_type": "code",
   "execution_count": 75,
   "outputs": [],
   "source": [
    "m_opt = np.ceil(np.sqrt(75 * (1-r_a_2)/r_a_2))  # 26\n",
    "n_opt = 300/(50+2/3*m_opt)  # 4"
   ],
   "metadata": {
    "collapsed": false
   }
  },
  {
   "cell_type": "markdown",
   "source": [
    "## 5.8.19"
   ],
   "metadata": {
    "collapsed": false
   }
  },
  {
   "cell_type": "code",
   "execution_count": 77,
   "outputs": [],
   "source": [
    "schools = pd.read_csv('./data/schools.csv')"
   ],
   "metadata": {
    "collapsed": false
   }
  },
  {
   "cell_type": "code",
   "execution_count": 91,
   "outputs": [],
   "source": [
    "t = schools[schools['readlevel']==2][['schoolid', 'readlevel']]\n",
    "t_i = t.groupby('schoolid').count().values\n",
    "Mi = schools.Mi.groupby(schools.schoolid).mean().values\n",
    "t_hat = np.sum(75/10*Mi/20 * t_i)"
   ],
   "metadata": {
    "collapsed": false
   }
  },
  {
   "cell_type": "code",
   "execution_count": 92,
   "outputs": [
    {
     "name": "stdout",
     "output_type": "stream",
     "text": [
      "90680.625\n",
      "31950.15871732329 149411.0912826767\n"
     ]
    }
   ],
   "source": [
    "st = 1/9 * np.sum((t_i - t_hat/75)**2)\n",
    "v_wr = 75**2 * st / 10\n",
    "se = np.sqrt(v_wr)\n",
    "print(t_hat)\n",
    "print(t_hat - 1.96 * se, t_hat + 1.96 * se)"
   ],
   "metadata": {
    "collapsed": false
   }
  },
  {
   "cell_type": "code",
   "execution_count": null,
   "outputs": [],
   "source": [],
   "metadata": {
    "collapsed": false
   }
  },
  {
   "cell_type": "markdown",
   "source": [
    "## 5.8.22"
   ],
   "metadata": {
    "collapsed": false
   }
  },
  {
   "cell_type": "code",
   "execution_count": 14,
   "outputs": [],
   "source": [
    "agsrs = pd.read_csv('./data/agsrs.csv')"
   ],
   "metadata": {
    "collapsed": false
   }
  },
  {
   "cell_type": "code",
   "execution_count": 93,
   "outputs": [
    {
     "name": "stdout",
     "output_type": "stream",
     "text": [
      "59910564633.05428 488760018795.4477 118716008180.40588\n",
      "15456925675328.006 20039160770613.355 35496086445941.36\n",
      "C(state)     41.0\n",
      "Residual    258.0\n",
      "Name: df, dtype: float64\n"
     ]
    }
   ],
   "source": [
    "from statsmodels.formula.api import ols\n",
    "import statsmodels.api as sm\n",
    "\n",
    "model = ols('acres92 ~ C(state)', data=agsrs).fit()\n",
    "anova_table = sm.stats.anova_lm(model, typ=2)\n",
    "ssw = anova_table['sum_sq']['Residual']\n",
    "ssb = anova_table['sum_sq']['C(state)']\n",
    "ssto = ssw + ssb\n",
    "msw = ssw / anova_table['df']['Residual']\n",
    "msb = ssb / anova_table['df']['C(state)']\n",
    "msto = ssto / (anova_table['df']['Residual'] + anova_table['df']['C(state)'])\n",
    "print(msw, msb, msto)\n",
    "print(ssw, ssb, ssto)\n",
    "print(anova_table['df'])"
   ],
   "metadata": {
    "collapsed": false
   }
  },
  {
   "cell_type": "code",
   "execution_count": 94,
   "outputs": [
    {
     "name": "stdout",
     "output_type": "stream",
     "text": [
      "0.4953455262578266\n"
     ]
    }
   ],
   "source": [
    "r_a_2 = 1 - msw/msto\n",
    "print(r_a_2)"
   ],
   "metadata": {
    "collapsed": false
   }
  },
  {
   "cell_type": "code",
   "execution_count": 95,
   "outputs": [
    {
     "name": "stdout",
     "output_type": "stream",
     "text": [
      "3.9092061275213994\n"
     ]
    }
   ],
   "source": [
    "m_opt = np.sqrt(15 * (1-r_a_2)/r_a_2)\n",
    "print(m_opt)"
   ],
   "metadata": {
    "collapsed": false
   }
  },
  {
   "cell_type": "markdown",
   "source": [
    "## 5.8.24"
   ],
   "metadata": {
    "collapsed": false
   }
  },
  {
   "cell_type": "code",
   "execution_count": 22,
   "outputs": [],
   "source": [
    "ozone = pd.read_csv('./data/ozone.csv')"
   ],
   "metadata": {
    "collapsed": false
   }
  },
  {
   "cell_type": "code",
   "execution_count": 23,
   "outputs": [],
   "source": [
    "ozone_total_data = ozone[[\"hr0\", \"hr1\", \"hr2\", \"hr3\", \"hr4\", \"hr5\", \"hr6\", \"hr7\", \"hr8\", \"hr9\", \"hr10\", \"hr11\", \"hr12\", \"hr13\", \"hr14\", \"hr15\", \"hr16\", \"hr17\", \"hr18\", \"hr19\", \"hr20\", \"hr21\", \"hr22\", \"hr23\"]].values.flatten()"
   ],
   "metadata": {
    "collapsed": false
   }
  },
  {
   "cell_type": "code",
   "execution_count": 33,
   "outputs": [],
   "source": [
    "ozone_total_data = ozone_total_data[~np.isnan(ozone_total_data)]\n",
    "ozone_total_data = ozone_total_data[ozone_total_data >= 0]"
   ],
   "metadata": {
    "collapsed": false
   }
  },
  {
   "cell_type": "code",
   "execution_count": 144,
   "outputs": [
    {
     "data": {
      "text/plain": "<Figure size 640x480 with 1 Axes>",
      "image/png": "[encoded data removed]"
     },
     "metadata": {},
     "output_type": "display_data"
    }
   ],
   "source": [
    "import matplotlib.pyplot as plt\n",
    "plt.hist(ozone_total_data, bins=30, color='gray')\n",
    "plt.savefig(\"./figure/5.8.24a.pdf\")"
   ],
   "metadata": {
    "collapsed": false
   }
  },
  {
   "cell_type": "code",
   "execution_count": 37,
   "outputs": [
    {
     "name": "stdout",
     "output_type": "stream",
     "text": [
      "25.781901489117985\n",
      "11.372726868704715\n",
      "26.0\n"
     ]
    }
   ],
   "source": [
    "print(np.mean(ozone_total_data))\n",
    "print(np.std(ozone_total_data))\n",
    "print(np.median(ozone_total_data))"
   ],
   "metadata": {
    "collapsed": false
   }
  },
  {
   "cell_type": "code",
   "execution_count": 145,
   "outputs": [
    {
     "data": {
      "text/plain": "<Figure size 640x480 with 1 Axes>",
      "image/png": "[encoded data removed]"
     },
     "metadata": {},
     "output_type": "display_data"
    }
   ],
   "source": [
    "h = 14\n",
    "plt.hist(ozone[\"hr\"+str(h)], bins=20, color='gray')\n",
    "plt.xlabel(\"hr\"+str(h))\n",
    "plt.savefig(\"./figure/5.8.24b.pdf\")"
   ],
   "metadata": {
    "collapsed": false
   }
  },
  {
   "cell_type": "code",
   "execution_count": 97,
   "outputs": [
    {
     "name": "stdout",
     "output_type": "stream",
     "text": [
      "34.964383561643835\n",
      "10.728286136154654\n",
      "36.0\n",
      "34.20250932715018 35.72625779613749\n"
     ]
    }
   ],
   "source": [
    "srs = ozone[\"hr\"+str(h)]\n",
    "print(np.mean(srs))\n",
    "print(np.std(srs, ddof=1))\n",
    "print(np.median(srs))\n",
    "var = (1/srs.shape[0] - 1/(srs.shape[0] * 24)) * np.var(srs, ddof=1)\n",
    "se = np.sqrt(var)\n",
    "print(np.mean(srs) - 1.96 * se, np.mean(srs) + 1.96 * se)"
   ],
   "metadata": {
    "collapsed": false
   }
  },
  {
   "cell_type": "code",
   "execution_count": 137,
   "outputs": [],
   "source": [
    "def sample(h, start, interval=4):\n",
    "    all = ozone[\"hr\"+str(h)]\n",
    "    target = all[start::interval]\n",
    "    if target.shape[0] == 182:\n",
    "        target = np.append(target, np.mean(target))\n",
    "    return target\n",
    "\n",
    "# h_select = np.random.randint(0, 95, 4)\n",
    "# print(h_select)  # [92 61 15 86]\n",
    "\n",
    "h_select = np.array([92, 61, 15, 86])\n",
    "h_24, h_start = np.divmod(h_select, 4)\n",
    "\n",
    "# for i in range(3):\n",
    "#     h_sample.append(np.array(sample(h_24[i], h_start[i])))\n",
    "h_sample = np.array([sample(h_24[i], h_start[i]) for i in range(4)])"
   ],
   "metadata": {
    "collapsed": false
   }
  },
  {
   "cell_type": "code",
   "execution_count": 139,
   "outputs": [
    {
     "name": "stdout",
     "output_type": "stream",
     "text": [
      "24.494513000660543\n",
      "17.108133344524255 31.88089265679683\n"
     ]
    }
   ],
   "source": [
    "N = 96\n",
    "n = 4\n",
    "M = 183\n",
    "t_hat = N/n * np.sum(h_sample)\n",
    "y_bar = 1/(n*M) * np.sum(h_sample)\n",
    "s_2 = 1/(n-1) * np.sum((np.sum(h_sample, axis=1) - t_hat/N)**2)\n",
    "se = 1/M * np.sqrt((1-n/N)*s_2/n)\n",
    "print(y_bar)\n",
    "print(y_bar - 1.96 * se, y_bar + 1.96 * se)"
   ],
   "metadata": {
    "collapsed": false
   }
  },
  {
   "cell_type": "code",
   "execution_count": null,
   "outputs": [],
   "source": [],
   "metadata": {
    "collapsed": false
   }
  }
 ],
 "metadata": {
  "kernelspec": {
   "display_name": "Python 3",
   "language": "python",
   "name": "python3"
  },
  "language_info": {
   "codemirror_mode": {
    "name": "ipython",
    "version": 2
   },
   "file_extension": ".py",
   "mimetype": "text/x-python",
   "name": "python",
   "nbconvert_exporter": "python",
   "pygments_lexer": "ipython2",
   "version": "2.7.6"
  }
 },
 "nbformat": 4,
 "nbformat_minor": 0
}

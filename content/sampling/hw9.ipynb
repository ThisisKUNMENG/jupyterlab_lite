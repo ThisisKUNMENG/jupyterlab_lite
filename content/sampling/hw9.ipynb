{
 "cells": [
  {
   "cell_type": "code",
   "execution_count": 1,
   "metadata": {
    "collapsed": true
   },
   "outputs": [],
   "source": [
    "import numpy as np\n",
    "import pandas as pd"
   ]
  },
  {
   "cell_type": "markdown",
   "source": [
    "## 4.18\n",
    "### a"
   ],
   "metadata": {
    "collapsed": false
   }
  },
  {
   "cell_type": "code",
   "execution_count": 2,
   "outputs": [],
   "source": [
    "mystery = pd.read_csv('./data/mysteries.csv')\n",
    "mystery_group = mystery.groupby(\"stratum\")"
   ],
   "metadata": {
    "collapsed": false
   }
  },
  {
   "cell_type": "code",
   "execution_count": 3,
   "outputs": [],
   "source": [
    "male_female_h = np.array(\n",
    "    mystery_group[\"authorgender\"]\\\n",
    "    .sum()\\\n",
    "    .apply(lambda x: [x.count(\"M\") / len(x), x.count(\"F\") / len(x)])\\\n",
    "    .tolist()\n",
    ")\n",
    "weights = mystery_group[\"p1weight\"].mean()"
   ],
   "metadata": {
    "collapsed": false
   }
  },
  {
   "cell_type": "code",
   "execution_count": 4,
   "outputs": [],
   "source": [
    "x_bar = (male_female_h[:, 1] * weights).sum()\n",
    "y_bar = (male_female_h[:, 0] * weights).sum()\n",
    "b_hat =  y_bar / x_bar"
   ],
   "metadata": {
    "collapsed": false
   }
  },
  {
   "cell_type": "code",
   "execution_count": 5,
   "outputs": [],
   "source": [
    "ei = mystery[\"authorgender\"].apply(lambda y: (y.count(\"M\") - b_hat * y.count(\"F\")) ** 2)\n",
    "fpc = 1/60 - 1/655\n",
    "b_hat_var = (ei * weights).var(ddof=1) * fpc / (x_bar ** 2)"
   ],
   "metadata": {
    "collapsed": false
   }
  },
  {
   "cell_type": "code",
   "execution_count": 6,
   "outputs": [
    {
     "name": "stdout",
     "output_type": "stream",
     "text": [
      "b_hat: 2.207505518781457\n",
      "b_hat_var: 0.00145783268500254\n",
      "b_hat_ci: [2.13266963 2.28234141]\n"
     ]
    }
   ],
   "source": [
    "b_hat_ci = np.array([b_hat - 1.96 * np.sqrt(b_hat_var), b_hat + 1.96 * np.sqrt(b_hat_var)])\n",
    "print(f\"b_hat: {b_hat}\")\n",
    "print(f\"b_hat_var: {b_hat_var}\")\n",
    "print(f\"b_hat_ci: {b_hat_ci}\")"
   ],
   "metadata": {
    "collapsed": false
   }
  },
  {
   "cell_type": "markdown",
   "source": [
    "### b"
   ],
   "metadata": {
    "collapsed": false
   }
  },
  {
   "cell_type": "code",
   "execution_count": 7,
   "outputs": [],
   "source": [
    "md_t = mystery[\"mdetect\"] * mystery[\"p1weight\"]\n",
    "fd_t = mystery[\"fdetect\"] * mystery[\"p1weight\"]"
   ],
   "metadata": {
    "collapsed": false
   }
  },
  {
   "cell_type": "code",
   "execution_count": 8,
   "outputs": [],
   "source": [
    "b_hat = fd_t.sum() / md_t.sum()"
   ],
   "metadata": {
    "collapsed": false
   }
  },
  {
   "cell_type": "code",
   "execution_count": 9,
   "outputs": [],
   "source": [
    "ei = mystery[\"mdetect\"] - b_hat * mystery[\"fdetect\"]\n",
    "b_hat_var = (ei * mystery[\"p1weight\"]).var(ddof=1) * fpc / ((fd_t.sum()/60) ** 2)"
   ],
   "metadata": {
    "collapsed": false
   }
  },
  {
   "cell_type": "code",
   "execution_count": 10,
   "outputs": [
    {
     "name": "stdout",
     "output_type": "stream",
     "text": [
      "b_hat: 0.2558364582053497\n",
      "b_hat_ci: [-0.67775425  1.18942716]\n"
     ]
    }
   ],
   "source": [
    "b_hat_ci = np.array([b_hat - 1.96 * np.sqrt(b_hat_var), b_hat + 1.96 * np.sqrt(b_hat_var)])\n",
    "print(f\"b_hat: {b_hat}\")\n",
    "print(f\"b_hat_ci: {b_hat_ci}\")"
   ],
   "metadata": {
    "collapsed": false
   }
  },
  {
   "cell_type": "markdown",
   "source": [
    "## 2补充"
   ],
   "metadata": {
    "collapsed": false
   }
  },
  {
   "cell_type": "markdown",
   "source": [
    "### a"
   ],
   "metadata": {
    "collapsed": false
   }
  },
  {
   "cell_type": "code",
   "execution_count": 11,
   "outputs": [],
   "source": [
    "agpop = pd.read_csv('./data/agpop.csv')\n",
    "agstrat = pd.read_csv('./data/agstrat.csv')"
   ],
   "metadata": {
    "collapsed": false
   }
  },
  {
   "cell_type": "code",
   "execution_count": 12,
   "outputs": [],
   "source": [
    "agpop_region = agpop.groupby(\"region\")\n",
    "agstrat_region = agstrat.groupby(\"region\")"
   ],
   "metadata": {
    "collapsed": false
   }
  },
  {
   "cell_type": "code",
   "execution_count": 13,
   "outputs": [
    {
     "name": "stdout",
     "output_type": "stream",
     "text": [
      "xhu_bar: region\n",
      "NC    332487.292220\n",
      "NE    100126.845455\n",
      "S     203019.015195\n",
      "W     735598.627962\n",
      "Name: acres87, dtype: float64\n",
      "x_u_bar: 313016.37816764135\n"
     ]
    }
   ],
   "source": [
    "xhu_bar = agpop_region[\"acres87\"].mean()\n",
    "x_u_bar = agpop[\"acres87\"].mean()\n",
    "print(f\"xhu_bar: {xhu_bar}\")\n",
    "print(f\"x_u_bar: {x_u_bar}\")"
   ],
   "metadata": {
    "collapsed": false
   }
  },
  {
   "cell_type": "markdown",
   "source": [
    "### b\n",
    "* 分别比估计"
   ],
   "metadata": {
    "collapsed": false
   }
  },
  {
   "cell_type": "code",
   "execution_count": 14,
   "outputs": [],
   "source": [
    "N = agpop.shape[0]\n",
    "n_h = agstrat_region[\"acres87\"].count()\n",
    "N_h = agpop_region[\"acres87\"].count()\n",
    "W_h = N_h / N\n",
    "fpc_h = 1/n_h - 1/N_h"
   ],
   "metadata": {
    "collapsed": false
   }
  },
  {
   "cell_type": "code",
   "execution_count": 15,
   "outputs": [],
   "source": [
    "b_h_hat = agstrat_region[\"acres92\"].sum() / agstrat_region[\"acres87\"].sum()"
   ],
   "metadata": {
    "collapsed": false
   }
  },
  {
   "cell_type": "code",
   "execution_count": 16,
   "outputs": [],
   "source": [
    "y_rs_bar = 1/N * np.sum(b_h_hat * agpop_region[\"acres87\"].sum())"
   ],
   "metadata": {
    "collapsed": false
   }
  },
  {
   "cell_type": "code",
   "execution_count": 17,
   "outputs": [],
   "source": [
    "y_rs_bar_var = np.sum(\n",
    "    W_h ** 2 * fpc_h *\n",
    "    (\n",
    "            agstrat_region[\"acres92\"].var(ddof=1)\n",
    "            - 2 * b_h_hat * agstrat_region[[\"acres87\", \"acres92\"]].apply(lambda x: x['acres87'].cov(x['acres92'], ddof=1))\n",
    "            + b_h_hat ** 2 * agstrat_region[\"acres87\"].var(ddof=1)\n",
    "    )\n",
    ")"
   ],
   "metadata": {
    "collapsed": false
   }
  },
  {
   "cell_type": "code",
   "execution_count": 18,
   "outputs": [
    {
     "name": "stdout",
     "output_type": "stream",
     "text": [
      "y_rs_bar: 310050.0749555694\n",
      "y_rs_bar_var: 3277183.202007093\n",
      "y_rs_bar_se: 1810.2992023439365\n",
      "y_rs_bar_ci: [306501.88851898 313598.26139216]\n"
     ]
    }
   ],
   "source": [
    "y_rs_bar_ci = np.array([y_rs_bar - 1.96 * np.sqrt(y_rs_bar_var), y_rs_bar + 1.96 * np.sqrt(y_rs_bar_var)])\n",
    "print(f\"y_rs_bar: {y_rs_bar}\")\n",
    "print(f\"y_rs_bar_var: {y_rs_bar_var}\")\n",
    "print(f\"y_rs_bar_se: {np.sqrt(y_rs_bar_var)}\")\n",
    "print(f\"y_rs_bar_ci: {y_rs_bar_ci}\")"
   ],
   "metadata": {
    "collapsed": false
   }
  },
  {
   "cell_type": "markdown",
   "source": [
    "* 联合比估计"
   ],
   "metadata": {
    "collapsed": false
   }
  },
  {
   "cell_type": "code",
   "execution_count": 19,
   "outputs": [],
   "source": [
    "b_hat = np.sum(N_h * agstrat_region[\"acres92\"].sum()) / np.sum(N_h * agstrat_region[\"acres87\"].sum())"
   ],
   "metadata": {
    "collapsed": false
   }
  },
  {
   "cell_type": "code",
   "execution_count": 20,
   "outputs": [],
   "source": [
    "y_rc_bar = b_hat * x_u_bar"
   ],
   "metadata": {
    "collapsed": false
   }
  },
  {
   "cell_type": "code",
   "execution_count": 21,
   "outputs": [],
   "source": [
    "y_rc_bar_var = np.sum(\n",
    "    W_h ** 2 * fpc_h *\n",
    "    (\n",
    "            agstrat_region[\"acres92\"].var(ddof=1)\n",
    "            - 2 * b_hat * agstrat_region[[\"acres87\", \"acres92\"]].apply(lambda x: x['acres87'].cov(x['acres92'], ddof=1))\n",
    "            + b_hat ** 2 * agstrat_region[\"acres87\"].var(ddof=1)\n",
    "    )\n",
    ")"
   ],
   "metadata": {
    "collapsed": false
   }
  },
  {
   "cell_type": "code",
   "execution_count": 22,
   "outputs": [
    {
     "name": "stdout",
     "output_type": "stream",
     "text": [
      "y_rc_bar: 309305.8056693079\n",
      "y_rc_bar_var: 3422373.3277662937\n",
      "y_rc_bar_se: 1849.9657639443747\n",
      "y_rc_bar_ci: [305679.87277198 312931.73856664]\n"
     ]
    }
   ],
   "source": [
    "y_rc_bar_ci = np.array([y_rc_bar - 1.96 * np.sqrt(y_rc_bar_var), y_rc_bar + 1.96 * np.sqrt(y_rc_bar_var)])\n",
    "print(f\"y_rc_bar: {y_rc_bar}\")\n",
    "print(f\"y_rc_bar_var: {y_rc_bar_var}\")\n",
    "print(f\"y_rc_bar_se: {np.sqrt(y_rc_bar_var)}\")\n",
    "print(f\"y_rc_bar_ci: {y_rc_bar_ci}\")"
   ],
   "metadata": {
    "collapsed": false
   }
  },
  {
   "cell_type": "markdown",
   "source": [
    "### c\n",
    "* 分别回归估计"
   ],
   "metadata": {
    "collapsed": false
   }
  },
  {
   "cell_type": "code",
   "execution_count": 23,
   "outputs": [],
   "source": [
    "b_1h_hat = agstrat_region[[\"acres87\", \"acres92\"]].apply(lambda x: x['acres87'].cov(x['acres92'], ddof=1)) / agstrat_region[\"acres87\"].var(ddof=1)"
   ],
   "metadata": {
    "collapsed": false
   }
  },
  {
   "cell_type": "code",
   "execution_count": 24,
   "outputs": [],
   "source": [
    "y_h_bar = agstrat_region[\"acres92\"].mean()\n",
    "x_h_bar = agstrat_region[\"acres87\"].mean()\n",
    "y_reg_s_bar = np.sum(W_h * (y_h_bar + b_1h_hat * (xhu_bar - x_h_bar)))"
   ],
   "metadata": {
    "collapsed": false
   }
  },
  {
   "cell_type": "code",
   "execution_count": 25,
   "outputs": [],
   "source": [
    "y_reg_s_bar_var = np.sum(\n",
    "    W_h ** 2 * fpc_h * agstrat_region[\"acres92\"].var(ddof=1) *\n",
    "    (\n",
    "            1 - agstrat_region[[\"acres87\", \"acres92\"]].apply(lambda x: x['acres87'].corr(x['acres92']))\n",
    "    )\n",
    ")"
   ],
   "metadata": {
    "collapsed": false
   }
  },
  {
   "cell_type": "code",
   "execution_count": 26,
   "outputs": [
    {
     "name": "stdout",
     "output_type": "stream",
     "text": [
      "y_reg_s_bar: 310511.97728841845\n",
      "y_reg_s_bar_var: 1581589.5853079702\n",
      "y_reg_s_bar_se: 1257.6126531281284\n",
      "y_reg_s_bar_ci: [308047.05648829 312976.89808855]\n"
     ]
    }
   ],
   "source": [
    "y_reg_s_bar_ci = np.array([y_reg_s_bar - 1.96 * np.sqrt(y_reg_s_bar_var), y_reg_s_bar + 1.96 * np.sqrt(y_reg_s_bar_var)])\n",
    "print(f\"y_reg_s_bar: {y_reg_s_bar}\")\n",
    "print(f\"y_reg_s_bar_var: {y_reg_s_bar_var}\")\n",
    "print(f\"y_reg_s_bar_se: {np.sqrt(y_reg_s_bar_var)}\")\n",
    "print(f\"y_reg_s_bar_ci: {y_reg_s_bar_ci}\")"
   ],
   "metadata": {
    "collapsed": false
   }
  },
  {
   "cell_type": "markdown",
   "source": [
    "* 联合回归估计"
   ],
   "metadata": {
    "collapsed": false
   }
  },
  {
   "cell_type": "code",
   "execution_count": 27,
   "outputs": [],
   "source": [
    "b_1_hat = (\n",
    "        np.sum(\n",
    "            W_h ** 2 * fpc_h *\n",
    "            agstrat_region[[\"acres87\", \"acres92\"]].apply(lambda x: x['acres87'].cov(x['acres92'], ddof=1))\n",
    "        ) /\n",
    "        np.sum(\n",
    "            W_h ** 2 * fpc_h *\n",
    "            agstrat_region[\"acres87\"].var(ddof=1)\n",
    "        )\n",
    ")"
   ],
   "metadata": {
    "collapsed": false
   }
  },
  {
   "cell_type": "code",
   "execution_count": 28,
   "outputs": [],
   "source": [
    "y_str_bar = np.sum(agstrat_region[\"acres92\"].mean() * W_h)\n",
    "x_str_bar = np.sum(agstrat_region[\"acres87\"].mean() * W_h)\n",
    "y_reg_c_bar = y_str_bar + b_1_hat * (x_u_bar - x_str_bar)"
   ],
   "metadata": {
    "collapsed": false
   }
  },
  {
   "cell_type": "code",
   "execution_count": 29,
   "outputs": [],
   "source": [
    "y_reg_c_bar_var = np.sum(\n",
    "    W_h ** 2 * fpc_h *\n",
    "    (\n",
    "            agstrat_region[\"acres92\"].var(ddof=1)\n",
    "            - 2 * b_1_hat * agstrat_region[[\"acres87\", \"acres92\"]].apply(lambda x: x['acres87'].cov(x['acres92'], ddof=1))\n",
    "            + b_1_hat ** 2 * agstrat_region[\"acres87\"].var(ddof=1)\n",
    "    )\n",
    ")"
   ],
   "metadata": {
    "collapsed": false
   }
  },
  {
   "cell_type": "code",
   "execution_count": 30,
   "outputs": [
    {
     "name": "stdout",
     "output_type": "stream",
     "text": [
      "y_reg_c_bar: 310014.99012591864\n",
      "y_reg_c_bar_var: 3391330.4534413912\n",
      "y_reg_c_bar_se: 1841.5565300694386\n",
      "y_reg_c_bar_ci: [306405.53932698 313624.44092485]\n"
     ]
    }
   ],
   "source": [
    "y_reg_c_bar_ci = np.array([y_reg_c_bar - 1.96 * np.sqrt(y_reg_c_bar_var), y_reg_c_bar + 1.96 * np.sqrt(y_reg_c_bar_var)])\n",
    "print(f\"y_reg_c_bar: {y_reg_c_bar}\")\n",
    "print(f\"y_reg_c_bar_var: {y_reg_c_bar_var}\")\n",
    "print(f\"y_reg_c_bar_se: {np.sqrt(y_reg_c_bar_var)}\")\n",
    "print(f\"y_reg_c_bar_ci: {y_reg_c_bar_ci}\")"
   ],
   "metadata": {
    "collapsed": false
   }
  },
  {
   "cell_type": "markdown",
   "source": [
    "### d"
   ],
   "metadata": {
    "collapsed": false
   }
  },
  {
   "cell_type": "code",
   "execution_count": 31,
   "outputs": [],
   "source": [
    "import seaborn as sns\n",
    "import matplotlib.pyplot as plt"
   ],
   "metadata": {
    "collapsed": false
   }
  },
  {
   "cell_type": "code",
   "execution_count": 32,
   "outputs": [
    {
     "data": {
      "text/plain": "<Figure size 870.125x600 with 1 Axes>",
      "image/png": "[encoded data removed]"
     },
     "metadata": {},
     "output_type": "display_data"
    }
   ],
   "source": [
    "sns.set_style(\"white\")\n",
    "sns.lmplot(\n",
    "    x=\"acres87\",\n",
    "    y=\"acres92\",\n",
    "    data=agstrat,\n",
    "    hue=\"region\",\n",
    "    palette=['black', 'dimgrey', 'lightgrey', 'darkgrey'],\n",
    "    height=6,\n",
    "    aspect=8/6\n",
    ")\n",
    "plt.savefig(\"figure/9_2d.pdf\")"
   ],
   "metadata": {
    "collapsed": false
   }
  },
  {
   "cell_type": "markdown",
   "source": [
    "## 5.8.11\n",
    "### a"
   ],
   "metadata": {
    "collapsed": false
   }
  },
  {
   "cell_type": "code",
   "execution_count": 33,
   "outputs": [],
   "source": [
    "errors = np.array([4, 3, 2, 1, 0])\n",
    "M = 215\n",
    "error_rate = errors / M\n",
    "number_error = np.array([1, 1, 4, 22, 57])\n",
    "error_rate_all = np.repeat(error_rate, number_error)\n",
    "error_all = np.repeat(errors, number_error)\n",
    "n = np.sum(number_error)\n",
    "N = 828\n",
    "fpc = 1/n - 1/N"
   ],
   "metadata": {
    "collapsed": false
   }
  },
  {
   "cell_type": "code",
   "execution_count": 34,
   "outputs": [
    {
     "name": "stdout",
     "output_type": "stream",
     "text": [
      "p_bar: 0.0020246238030095756\n"
     ]
    }
   ],
   "source": [
    "p_bar = 1/n * np.sum(number_error * error_rate)\n",
    "print(f\"p_bar: {p_bar}\")"
   ],
   "metadata": {
    "collapsed": false
   }
  },
  {
   "cell_type": "code",
   "execution_count": 35,
   "outputs": [
    {
     "name": "stdout",
     "output_type": "stream",
     "text": [
      "p_bar_var: 1.2749751318442425e-07\n",
      "p_bar_se: 0.0003570679391718392\n"
     ]
    }
   ],
   "source": [
    "p_bar_var = fpc * 1/(n-1) * np.sum((error_rate_all - p_bar)**2)\n",
    "p_bar_se = np.sqrt(p_bar_var)\n",
    "print(f\"p_bar_var: {p_bar_var}\")\n",
    "print(f\"p_bar_se: {p_bar_se}\")"
   ],
   "metadata": {
    "collapsed": false
   }
  },
  {
   "cell_type": "code",
   "execution_count": 36,
   "outputs": [
    {
     "name": "stdout",
     "output_type": "stream",
     "text": [
      "t_hat: 360.42352941176466\n",
      "t_hat_se: 63.565234531370805\n"
     ]
    }
   ],
   "source": [
    "t_hat = N / n * np.sum(error_all)\n",
    "t_hat_se = p_bar_se * N * M\n",
    "print(f\"t_hat: {t_hat}\")\n",
    "print(f\"t_hat_se: {t_hat_se}\")"
   ],
   "metadata": {
    "collapsed": false
   }
  },
  {
   "cell_type": "code",
   "execution_count": 37,
   "outputs": [
    {
     "name": "stdout",
     "output_type": "stream",
     "text": [
      "v_p_srs: 9.921766922548389e-08\n"
     ]
    }
   ],
   "source": [
    "v_p_srs = (1 - n/N) / (n * M - 1) * p_bar * (1 - p_bar)\n",
    "print(f\"v_p_srs: {v_p_srs}\")"
   ],
   "metadata": {
    "collapsed": false
   }
  }
 ],
 "metadata": {
  "kernelspec": {
   "display_name": "Python 3",
   "language": "python",
   "name": "python3"
  },
  "language_info": {
   "codemirror_mode": {
    "name": "ipython",
    "version": 2
   },
   "file_extension": ".py",
   "mimetype": "text/x-python",
   "name": "python",
   "nbconvert_exporter": "python",
   "pygments_lexer": "ipython2",
   "version": "2.7.6"
  }
 },
 "nbformat": 4,
 "nbformat_minor": 0
}

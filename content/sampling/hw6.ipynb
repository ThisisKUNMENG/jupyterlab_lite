{
 "cells": [
  {
   "cell_type": "code",
   "execution_count": 2,
   "metadata": {},
   "outputs": [],
   "source": [
    "import numpy as np\n",
    "import pandas as pd\n",
    "import scipy.stats as stats"
   ]
  },
  {
   "attachments": {},
   "cell_type": "markdown",
   "metadata": {},
   "source": [
    "## 3.8.6"
   ]
  },
  {
   "cell_type": "code",
   "execution_count": 3,
   "metadata": {},
   "outputs": [],
   "source": [
    "N = 90_000\n",
    "N_h = pd.Series([35000, 45000, 10000], [\"house\", \"apartments\", \"condominium\"])"
   ]
  },
  {
   "cell_type": "markdown",
   "metadata": {},
   "source": [
    "### a"
   ]
  },
  {
   "cell_type": "code",
   "execution_count": 4,
   "metadata": {},
   "outputs": [
    {
     "name": "stdout",
     "output_type": "stream",
     "text": [
      "allocation: house          504.0\n",
      "apartments     324.0\n",
      "condominium     72.0\n",
      "dtype: float64\n"
     ]
    }
   ],
   "source": [
    "s = [2, 1, 1]\n",
    "n = 900\n",
    "n_h = N_h * s / np.sum(N_h * s) * n\n",
    "print(f\"allocation: {n_h}\")"
   ]
  },
  {
   "cell_type": "markdown",
   "metadata": {},
   "source": [
    "### b"
   ]
  },
  {
   "cell_type": "code",
   "execution_count": 5,
   "metadata": {},
   "outputs": [
    {
     "name": "stdout",
     "output_type": "stream",
     "text": [
      "p from prop: 0.3033333333333334\n",
      "proportional stratified:\n",
      "variance: 0.0002125566666666667\n",
      "simple random sampling:\n",
      "variance: 0.00023245444444444446\n"
     ]
    }
   ],
   "source": [
    "p_h = pd.Series([0.45, 0.25, 0.03], [\"house\", \"apartments\", \"condominium\"])\n",
    "we = N_h / N\n",
    "p_str = np.sum(p_h * we)\n",
    "\n",
    "print(f\"p from prop: {p_str}\")\n",
    "v_prop = np.sum(we**2 * p_h * (1 - p_h) / (n * we) * (1 - n / N) )\n",
    "print(\"proportional stratified:\")\n",
    "print(f\"variance: {v_prop}\")\n",
    "v_srs = (1 - n / N) * p_str * (1 - p_str) / n\n",
    "print(\"simple random sampling:\")\n",
    "print(f\"variance: {v_srs}\")\n"
   ]
  },
  {
   "attachments": {},
   "cell_type": "markdown",
   "metadata": {},
   "source": [
    "## 3.8.8"
   ]
  },
  {
   "cell_type": "code",
   "execution_count": 6,
   "metadata": {},
   "outputs": [
    {
     "name": "stdout",
     "output_type": "stream",
     "text": [
      "all in person allocation: [4396.  423.]\n"
     ]
    }
   ],
   "source": [
    "def get_n_h_with_costs(N_h, cost, budget):\n",
    "    n_h_div_n = N_h / np.sqrt(cost) / np.sum(N_h / np.sqrt(cost))\n",
    "    n = np.floor(np.sum(budget / (cost * n_h_div_n)))\n",
    "    return np.floor(n_h_div_n * n)\n",
    "    \n",
    "\n",
    "\n",
    "costs = np.array([300, 400])\n",
    "N_h_p = np.array([0.9, 0.1])\n",
    "budget = 150_000\n",
    "n_h = get_n_h_with_costs(N_h_p, costs, budget)\n",
    "print(f\"all in person allocation: {n_h}\")"
   ]
  },
  {
   "cell_type": "code",
   "execution_count": 7,
   "metadata": {},
   "outputs": [
    {
     "name": "stdout",
     "output_type": "stream",
     "text": [
      "telephone and in person allocation: [8249.  458.]\n"
     ]
    }
   ],
   "source": [
    "costs = np.array([100, 400])\n",
    "n_h = get_n_h_with_costs(N_h_p, costs, budget)\n",
    "print(f\"telephone and in person allocation: {n_h}\")"
   ]
  },
  {
   "attachments": {},
   "cell_type": "markdown",
   "metadata": {},
   "source": [
    "## 3.8.25"
   ]
  },
  {
   "cell_type": "code",
   "execution_count": 8,
   "metadata": {},
   "outputs": [
    {
     "name": "stdout",
     "output_type": "stream",
     "text": [
      "required sample obs.: 666.0\n",
      "allocation: 0      4.087231\n",
      "1     75.838121\n",
      "2    179.911934\n",
      "3    406.162714\n",
      "dtype: float64\n"
     ]
    }
   ],
   "source": [
    "acre = pd.DataFrame(\n",
    "    np.array([[220, 1054, 1382, 422],\n",
    "              [21, 103, 135, 41],\n",
    "              [97629.8, 300504.2, 211315, 662295.5],\n",
    "              [7647472708, 29618183543, 53587487856, 396185950266]]).T,\n",
    "    columns=[\"N_h\", \"n_h\", \"y_bar\", \"s2\"])\n",
    "\n",
    "y_u = np.sum(acre[\"n_h\"] / acre[\"N_h\"] * acre[\"y_bar\"])\n",
    "r = 0.1\n",
    "v_m = (r * y_u / 1.96) ** 2\n",
    "n_h_div_n = acre[\"N_h\"] * acre[\"s2\"] / np.sum(acre[\"N_h\"] * acre[\"s2\"])\n",
    "def get_v(n):\n",
    "    return np.sum((n_h_div_n * n / acre[\"N_h\"])**2 * acre[\"s2\"] * (1 / (n_h_div_n * n) - 1 / acre[\"N_h\"]))\n",
    "\n",
    "def bisection_n():\n",
    "    n_min = 1\n",
    "    n_max = np.floor(np.min(acre[\"N_h\"] / n_h_div_n))\n",
    "    while n_max - n_min > 1:\n",
    "        n_mid = np.round((n_min + n_max) / 2)\n",
    "        v_mid = get_v(n_mid)\n",
    "        if v_mid > v_m:\n",
    "            n_min = n_mid\n",
    "        else:\n",
    "            n_max = n_mid\n",
    "    return n_min\n",
    "\n",
    "n = bisection_n()\n",
    "n_h = n_h_div_n * n\n",
    "print(f\"required sample obs.: {n}\")\n",
    "print(f\"allocation: {n_h}\")"
   ]
  },
  {
   "attachments": {},
   "cell_type": "markdown",
   "metadata": {},
   "source": [
    "## 3.8.27"
   ]
  },
  {
   "cell_type": "code",
   "execution_count": 9,
   "metadata": {},
   "outputs": [
    {
     "name": "stdout",
     "output_type": "stream",
     "text": [
      "proportional allocation: female    404.800558\n",
      "male      695.199442\n",
      "dtype: float64\n",
      "Neyman allocation: female    617.758637\n",
      "male      482.241363\n",
      "dtype: float64\n"
     ]
    }
   ],
   "source": [
    "n = 1100\n",
    "N = 15769\n",
    "N_h = pd.Series([5803, 9966], [\"female\", \"male\"])\n",
    "we_prop = N_h / N\n",
    "print(f\"proportional allocation: {we_prop * n}\")\n",
    "s = [11/5, 1]\n",
    "n_h = N_h * s / np.sum(N_h * s) * n\n",
    "print(f\"Neyman allocation: {n_h}\")"
   ]
  },
  {
   "attachments": {},
   "cell_type": "markdown",
   "metadata": {},
   "source": [
    "## 3.8.50"
   ]
  },
  {
   "cell_type": "code",
   "execution_count": 21,
   "metadata": {},
   "outputs": [],
   "source": [
    "baseball = pd.read_csv(\"./baseball.csv\")\n",
    "baseball[\"logsal\"] = np.log(baseball[\"salary\"])\n",
    "baseball[\"is_pitcher\"] = baseball[\"pos\"] == \"P\""
   ]
  },
  {
   "attachments": {},
   "cell_type": "markdown",
   "metadata": {},
   "source": [
    "### a"
   ]
  },
  {
   "cell_type": "code",
   "execution_count": 22,
   "metadata": {},
   "outputs": [],
   "source": [
    "stratified_baseball = baseball.groupby(\"team\", group_keys=False).apply(lambda x: x.sample(frac=150 / baseball.shape[0], random_state=2023))"
   ]
  },
  {
   "attachments": {},
   "cell_type": "markdown",
   "metadata": {},
   "source": [
    "### b"
   ]
  },
  {
   "cell_type": "code",
   "execution_count": 29,
   "metadata": {},
   "outputs": [
    {
     "name": "stdout",
     "output_type": "stream",
     "text": [
      "proportion of pitchers: 0.3959849435382685\n",
      "95% CI: (0.3298682908550369, 0.46210159622150015)\n"
     ]
    }
   ],
   "source": [
    "def get_mean_and_ci(sample_df, strata, target, N_h, we):\n",
    "    n_h = sample_df.groupby(strata).size()\n",
    "    y_bar = sample_df.groupby(strata)[target].mean()\n",
    "    s2 = sample_df.groupby(strata)[target].var()\n",
    "    y_str = np.sum(we * y_bar)\n",
    "    v_m = np.sum((we)**2 * s2 * (1 / n_h - 1 / N_h))\n",
    "    ci = stats.norm.interval(0.95, loc=y_str, scale=np.sqrt(v_m))\n",
    "    return y_str, ci\n",
    "    \n",
    "p_pitcher, p_pitcher_ci = get_mean_and_ci(stratified_baseball, \"team\", \"is_pitcher\", baseball.groupby(\"team\").size(), baseball.groupby(\"team\").size() / baseball.shape[0])\n",
    "print(f\"proportion of pitchers: {p_pitcher}\")\n",
    "print(f\"95% CI: {p_pitcher_ci}\")"
   ]
  },
  {
   "attachments": {},
   "cell_type": "markdown",
   "metadata": {},
   "source": [
    "### c"
   ]
  },
  {
   "cell_type": "code",
   "execution_count": 30,
   "metadata": {},
   "outputs": [
    {
     "name": "stdout",
     "output_type": "stream",
     "text": [
      "mean log salary: 13.84882748784042\n",
      "95% CI: (13.675176032005984, 14.022478943674857)\n"
     ]
    }
   ],
   "source": [
    "logsal, logsal_ci = get_mean_and_ci(stratified_baseball, \"team\", \"logsal\", baseball.groupby(\"team\").size(), baseball.groupby(\"team\").size() / baseball.shape[0])\n",
    "print(f\"mean log salary: {logsal}\")\n",
    "print(f\"95% CI: {logsal_ci}\")"
   ]
  },
  {
   "attachments": {},
   "cell_type": "markdown",
   "metadata": {},
   "source": [
    "### d"
   ]
  },
  {
   "cell_type": "code",
   "execution_count": 35,
   "metadata": {},
   "outputs": [
    {
     "data": {
      "text/plain": [
       "(array([4., 4., 4., 3., 4., 6., 3., 0., 1., 1.]),\n",
       " array([0.02639362, 0.39229791, 0.7582022 , 1.12410649, 1.49001078,\n",
       "        1.85591508, 2.22181937, 2.58772366, 2.95362795, 3.31953225,\n",
       "        3.68543654]),\n",
       " <BarContainer object of 10 artists>)"
      ]
     },
     "execution_count": 35,
     "metadata": {},
     "output_type": "execute_result"
    },
    {
     "data": {
      "image/png": "[encoded data removed]",
      "text/plain": [
       "<Figure size 640x480 with 1 Axes>"
      ]
     },
     "metadata": {},
     "output_type": "display_data"
    }
   ],
   "source": [
    "logsal_sample_var = stratified_baseball.groupby(\"team\")[\"logsal\"].var()\n",
    "import matplotlib.pyplot as plt\n",
    "plt.hist(logsal_sample_var)"
   ]
  },
  {
   "cell_type": "markdown",
   "metadata": {},
   "source": [
    "### e"
   ]
  },
  {
   "cell_type": "code",
   "execution_count": 42,
   "metadata": {},
   "outputs": [
    {
     "name": "stdout",
     "output_type": "stream",
     "text": [
      "diff: 279.0\n"
     ]
    }
   ],
   "source": [
    "we = baseball.groupby(\"team\").size() / baseball.shape[0]\n",
    "n_h_div_n = we * logsal_sample_var / np.sum(we * logsal_sample_var)\n",
    "n_h = n_h_div_n * 150\n",
    "n_h = n_h.round()\n",
    "diff = np.sum((stratified_baseball.groupby(\"team\").size() - n_h)**2)\n",
    "print(f\"diff: {diff}\")"
   ]
  }
 ],
 "metadata": {
  "kernelspec": {
   "display_name": "Python 3",
   "language": "python",
   "name": "python3"
  },
  "language_info": {
   "codemirror_mode": {
    "name": "ipython",
    "version": 3
   },
   "file_extension": ".py",
   "mimetype": "text/x-python",
   "name": "python",
   "nbconvert_exporter": "python",
   "pygments_lexer": "ipython3",
   "version": "3.10.4"
  },
  "orig_nbformat": 4
 },
 "nbformat": 4,
 "nbformat_minor": 2
}

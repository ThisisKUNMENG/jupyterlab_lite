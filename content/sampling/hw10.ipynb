{
 "cells": [
  {
   "cell_type": "code",
   "execution_count": 1,
   "id": "d7c15993-7861-4885-be1e-943d254e5f11",
   "metadata": {},
   "outputs": [],
   "source": [
    "import numpy as np\n",
    "import pandas as pd"
   ]
  },
  {
   "cell_type": "markdown",
   "id": "3a7680f3-46a2-4142-aaa3-57909f6ea0bd",
   "metadata": {},
   "source": [
    "## 5.8.4"
   ]
  },
  {
   "cell_type": "code",
   "execution_count": 2,
   "id": "52d412c7-5460-407c-a22c-02b01dbdefd9",
   "metadata": {},
   "outputs": [],
   "source": [
    "journal = pd.read_csv(\"./data/journal.csv\")"
   ]
  },
  {
   "cell_type": "code",
   "execution_count": 3,
   "id": "33802b40-77a5-417f-a3b7-838a99f25318",
   "metadata": {},
   "outputs": [
    {
     "name": "stdout",
     "output_type": "stream",
     "text": [
      "0.9256756756756757\n",
      "0.033986721952566884\n"
     ]
    }
   ],
   "source": [
    "n = 26\n",
    "N = 1285\n",
    "y_r = journal[\"nonprob\"].sum() / journal[\"numemp\"].sum()\n",
    "\n",
    "v_y_r =(1/n - 1/N) * 1/(journal[\"numemp\"].mean()**2) * np.sum((journal[\"nonprob\"] - journal[\"numemp\"] * y_r)**2) / (n-1)\n",
    "se_y_r = np.sqrt(v_y_r)\n",
    "print(y_r)\n",
    "print(se_y_r)"
   ]
  },
  {
   "cell_type": "markdown",
   "id": "d39aa456-5930-4e50-9ac0-680af31096f8",
   "metadata": {},
   "source": [
    "## 5.8.5"
   ]
  },
  {
   "cell_type": "code",
   "execution_count": 4,
   "id": "f7457b97-9785-43c3-9f2c-6b71f46be238",
   "metadata": {},
   "outputs": [],
   "source": [
    "spanish = pd.read_csv(\"./data/spanish.csv\")"
   ]
  },
  {
   "cell_type": "code",
   "execution_count": 5,
   "id": "8943fb89-299a-42f6-899b-90a93df063e2",
   "metadata": {},
   "outputs": [],
   "source": [
    "class OneStageCluster:\n",
    "    def __init__(self, data, group, n, N):\n",
    "        self.data = data\n",
    "        self.data_group = data.groupby(group)\n",
    "        self.n = n\n",
    "        self.N = N\n",
    "        self.Mi = self.data_group.count().iloc[:,0]\n",
    "        \n",
    "    def get_t_unb(self, y):\n",
    "        return self.N / self.n * self.data[y].sum()\n",
    "    \n",
    "    def get_s_t_2(self, y):\n",
    "        return self.data_group[y].sum().var(ddof=1)\n",
    "    \n",
    "    def get_var_t_unb(self, y):\n",
    "        return self.N**2 * (1-self.n/self.N) * self.get_s_t_2(y) / self.n\n",
    "    \n",
    "    def get_se_t_unb(self, y):\n",
    "        return np.sqrt(self.get_var_t_unb(y))\n",
    "    \n",
    "    def get_ci_t_unb(self, y):\n",
    "        t_unb = self.get_t_unb(y)\n",
    "        se = self.get_se_t_unb(y)\n",
    "        return (t_unb - 1.96 * se, t_unb + 1.96 * se)\n",
    "    \n",
    "    def get_y_r(self, y):\n",
    "        return np.sum(self.Mi * self.data_group[y].mean()) / np.sum(self.Mi)\n",
    "    \n",
    "    def get_s_r_2(self, y):\n",
    "        return 1/(self.n-1) * np.sum(self.Mi**2 * (self.data_group[y].mean() - self.get_y_r(y))**2)\n",
    "    \n",
    "    def get_se_y_r(self, y):\n",
    "        return np.sqrt((1-self.n/self.N) * self.get_s_r_2(y) / n / self.Mi.mean()**2)\n",
    "    \n",
    "    def get_ci_y_r(self, y):\n",
    "        y_r = self.get_y_r(y)\n",
    "        se = self.get_se_y_r(y)\n",
    "        return (y_r - 1.96 * se, y_r + 1.96 * se)\n",
    "    "
   ]
  },
  {
   "cell_type": "code",
   "execution_count": 6,
   "id": "6c6079a6-7f2b-46a4-a3b2-44bf3d020eeb",
   "metadata": {},
   "outputs": [],
   "source": [
    "Sp = OneStageCluster(spanish, \"class\", 10, 72)"
   ]
  },
  {
   "cell_type": "code",
   "execution_count": 7,
   "id": "91e5ed14-9162-47b3-907f-9f8146f24a8b",
   "metadata": {},
   "outputs": [
    {
     "name": "stdout",
     "output_type": "stream",
     "text": [
      "453.6\n",
      "(234.4288772305987, 672.7711227694014)\n"
     ]
    }
   ],
   "source": [
    "print(Sp.get_t_unb(\"trip\"))\n",
    "print(Sp.get_ci_t_unb(\"trip\"))"
   ]
  },
  {
   "cell_type": "code",
   "execution_count": 8,
   "id": "fc6b10a1-044f-4100-9571-bdc414ec9894",
   "metadata": {},
   "outputs": [
    {
     "name": "stdout",
     "output_type": "stream",
     "text": [
      "66.79591836734694\n",
      "(63.5029015105676, 70.08893522412629)\n"
     ]
    }
   ],
   "source": [
    "print(Sp.get_y_r(\"score\"))\n",
    "print(Sp.get_ci_y_r(\"score\"))"
   ]
  },
  {
   "cell_type": "markdown",
   "id": "6dcdc91f-afaa-4ae5-bfd1-1bf51e0ff120",
   "metadata": {},
   "source": [
    "## 5.8.6"
   ]
  },
  {
   "cell_type": "code",
   "execution_count": 9,
   "id": "1be4ed51-4d51-43d1-928b-7c706b7fb4a8",
   "metadata": {},
   "outputs": [],
   "source": [
    "cans = pd.DataFrame()\n",
    "cans[\"Can1\"] = [1,4,0,3,4,0,5,3,7,3,4,0]\n",
    "cans[\"Can2\"] = [5,2,1,6,9,7,5,0,3,1,7,0]\n",
    "cans[\"Can3\"] = [7,4,2,6,8,3,1,2,5,4,9,0]\n",
    "n = 12\n",
    "N = 580\n",
    "m = 3\n",
    "M = 24"
   ]
  },
  {
   "cell_type": "code",
   "execution_count": 10,
   "id": "5562ecb5-5e09-491f-8263-d6af3ce75425",
   "metadata": {},
   "outputs": [],
   "source": [
    "class TwoStageCluster:\n",
    "    def __init__(self, data, n, N, m, M):\n",
    "        self.data = data\n",
    "        self.n = n\n",
    "        self.N = N\n",
    "        self.m = m\n",
    "        self.M = M\n",
    "        self.w = self.N * self.M / (self.n * self.m) \n",
    "\n",
    "    def get_t_unb(self):\n",
    "        return (self.w * self.data).sum().sum()\n",
    "    \n",
    "    def get_s_t_2(self):\n",
    "        return 1/(self.n-1) * np.sum((self.data.sum(axis=1) - self.get_t_unb()/self.N)**2)\n",
    "    \n",
    "    def get_var_t_unb(self):\n",
    "        s_i_2 = self.data.var(axis=1, ddof=1)\n",
    "        s_t_2 = self.get_s_t_2()\n",
    "        v = self.N**2 * (1-self.n/self.N) * s_t_2/self.n + self.N/self.n * (1-self.m/self.M) * self.M**2/self.m * np.sum(s_i_2)\n",
    "        return v\n",
    "    \n",
    "    def get_se_t_unb(self):\n",
    "        return np.sqrt(self.get_var_t_unb())\n",
    "    \n",
    "    def get_ci_t_unb(self):\n",
    "        t = self.get_t_unb()\n",
    "        se = self.get_se_t_unb()\n",
    "        return (t - 1.96*se, t + 1.96*se)\n",
    "    \n",
    "    def get_var_approx(self):\n",
    "        return self.N**2 * self.get_s_t_2() / n\n",
    "    \n",
    "    def get_anova_table(self):\n",
    "        ssb = np.sum(self.m * (self.data.mean(axis=1) - self.get_t_unb() / (self.N * self.M))**2)\n",
    "        ssw = np.sum(self.data.var(axis=1, ddof=self.m-1))\n",
    "        ssto = ssw + ssb\n",
    "        msb = ssb / (self.n-1)\n",
    "        msw = ssw / (self.n * (self.m-1))\n",
    "        msto = ssto / (self.n * self.m -1)\n",
    "        d = pd.DataFrame()\n",
    "        d[\"SS\"] = [ssb, ssw, ssto]\n",
    "        d[\"MS\"] = [msb, msw, msto]\n",
    "        d[\"df\"] = [self.n-1, (self.n * (self.m-1)), (self.n * self.m -1)]\n",
    "        return d\n",
    "        \n",
    "    def get_s_2_hat(self):\n",
    "        ssb = np.sum(self.m * (self.data.mean(axis=1) - self.get_t_unb() / (self.N * self.M))**2)\n",
    "        ssw = np.sum(self.data.var(axis=1, ddof=self.m-1))\n",
    "        msb = ssb / (self.n-1)\n",
    "        msw = ssw / (self.n * (self.m-1))\n",
    "        s = self.M * (self.N-1) / (self.m * (self.N * self.M - 1)) * msb + ((self.m - 1) * self.N * self.M + self.M - self.m) / (self.m * (self.N * self.M)) * msw\n",
    "        return s\n",
    "    \n",
    "    def get_icc(self):\n",
    "        ssb = np.sum(self.m * (self.data.mean(axis=1) - self.get_t_unb() / (self.N * self.M))**2)\n",
    "        ssw = np.sum(self.data.var(axis=1, ddof=self.m-1))\n",
    "        msb = ssb / (self.n-1)\n",
    "        msw = ssw / (self.n * (self.m-1))\n",
    "        msb_hat = self.M / self.m * msb - (self.M/self.m-1) * msw\n",
    "        icc = 1/(self.M-1) * (((self.N-1)*self.M*msb_hat)/((self.N * self.M -1)*self.get_s_2_hat())-1)\n",
    "        return icc\n",
    "    \n",
    "    def get_r_a_2(self):\n",
    "        ssw = np.sum(self.data.var(axis=1, ddof=self.m-1))\n",
    "        msw = ssw / (self.n * (self.m-1))\n",
    "        return 1-msw/(self.get_s_2_hat())\n",
    "        \n",
    "    def get_deff(self):\n",
    "        ssb = np.sum(self.m * (self.data.mean(axis=1) - self.get_t_unb() / (self.N * self.M))**2)\n",
    "        ssw = np.sum(self.data.var(axis=1, ddof=self.m-1))\n",
    "        msb = ssb / (self.n-1)\n",
    "        msw = ssw / (self.n * (self.m-1))\n",
    "        msb_hat = self.M / self.m * msb - (self.M/self.m-1) * msw\n",
    "        return msb_hat/self.get_s_2_hat()\n",
    "    \n",
    "    def get_msb_hat(self):\n",
    "        ssb = np.sum(self.m * (self.data.mean(axis=1) - self.get_t_unb() / (self.N * self.M))**2)\n",
    "        ssw = np.sum(self.data.var(axis=1, ddof=self.m-1))\n",
    "        msb = ssb / (self.n-1)\n",
    "        msw = ssw / (self.n * (self.m-1))\n",
    "        msb_hat = self.M / self.m * msb - (self.M/self.m-1) * msw\n",
    "        return msb_hat"
   ]
  },
  {
   "cell_type": "code",
   "execution_count": 11,
   "id": "9cabbe56-5238-42fb-9941-97c7526ce19f",
   "metadata": {},
   "outputs": [],
   "source": [
    "Cans = TwoStageCluster(cans, 12, 580, 3, 24)"
   ]
  },
  {
   "cell_type": "code",
   "execution_count": 12,
   "id": "93dd29a4-c10d-41da-8a46-3b12bfcc1c6d",
   "metadata": {},
   "outputs": [
    {
     "name": "stdout",
     "output_type": "stream",
     "text": [
      "50653.333333333336\n",
      "(24617.811594461407, 76688.85507220526)\n"
     ]
    }
   ],
   "source": [
    "print(Cans.get_t_unb())\n",
    "print(Cans.get_ci_t_unb())"
   ]
  },
  {
   "cell_type": "code",
   "execution_count": 13,
   "id": "9a145237-05dc-4c26-8dc9-71e37812ae37",
   "metadata": {},
   "outputs": [
    {
     "name": "stdout",
     "output_type": "stream",
     "text": [
      "176449498.18181822\n",
      "179726796.969697\n"
     ]
    }
   ],
   "source": [
    "print(Cans.get_var_t_unb())\n",
    "print(Cans.get_var_approx())"
   ]
  },
  {
   "cell_type": "markdown",
   "id": "92db8e44-8094-4dfb-8f61-4fb35a465a9d",
   "metadata": {},
   "source": [
    "## 5.8.7"
   ]
  },
  {
   "cell_type": "code",
   "execution_count": 14,
   "id": "aebfbf02-df57-4a08-8517-c4b34a6ba318",
   "metadata": {},
   "outputs": [],
   "source": [
    "m_i = np.array([10,4,7,8,2,3])\n",
    "M_i = np.array([52,19,37,39,8,14])\n",
    "city = np.array([1,2,3,4,5,6])\n",
    "sell = np.array([146,180,251,152,72,181,171,361,73,186,\n",
    "               99,101,52,121,\n",
    "               199,179,98,63,126,87,62,\n",
    "               226,129,57,46,86,43,85,165,\n",
    "               12,23,\n",
    "               87,43,59])\n",
    "sold = pd.DataFrame()\n",
    "sold[\"city\"] = np.repeat(city, m_i)\n",
    "sold[\"sell\"] = sell"
   ]
  },
  {
   "cell_type": "code",
   "execution_count": 15,
   "id": "15ebc0dc-9f9a-4a8d-9832-4a76ff06307d",
   "metadata": {},
   "outputs": [],
   "source": [
    "class UnequalTwoStageCluster:\n",
    "    def __init__(self, data, group, y, n, N, mi, Mi):\n",
    "        self.data = data\n",
    "        self.data_group = data.groupby(group)\n",
    "        self.n = n\n",
    "        self.N = N\n",
    "        self.mi = mi\n",
    "        self.Mi = Mi\n",
    "        self.y = y\n",
    "        self.w_ij = self.N * self.Mi / (self.n * self.mi) \n",
    "\n",
    "    def get_t_unb(self):\n",
    "        return (self.w_ij * self.data_group[self.y].sum()).sum()\n",
    "    \n",
    "    def get_s_t_2(self):\n",
    "        return 1/(self.n-1) * np.sum((self.Mi * self.data_group[self.y].mean() - self.get_t_unb()/self.N)**2)\n",
    "    \n",
    "    def get_var_t_unb(self):\n",
    "        s_i_2 = self.data_group[self.y].var(ddof=1)\n",
    "        s_t_2 = self.get_s_t_2()\n",
    "        v = self.N**2 * (1-self.n/self.N) * s_t_2/self.n + self.N/self.n * np.sum((1-self.mi/self.Mi) * self.Mi**2/self.mi * s_i_2)\n",
    "        return v\n",
    "    \n",
    "    def get_se_t_unb(self):\n",
    "        return np.sqrt(self.get_var_t_unb())\n",
    "    \n",
    "    def get_ci_t_unb(self):\n",
    "        t = self.get_t_unb()\n",
    "        se = self.get_se_t_unb()\n",
    "        return (t - 1.96*se, t + 1.96*se)\n",
    "    \n",
    "    def get_y_r(self):\n",
    "        return np.sum(self.Mi * self.data_group[self.y].mean()) / np.sum(self.Mi)\n",
    "    \n",
    "    def get_s_r_2(self):\n",
    "        return 1/(self.n-1) * np.sum(self.Mi**2 * (self.data_group[self.y].mean() - self.get_y_r())**2)\n",
    "    \n",
    "    def get_var_y_r(self):\n",
    "        s_i_2 = self.data_group[self.y].var(ddof=1)\n",
    "        s_r_2 = self.get_s_r_2()\n",
    "        v = 1/self.Mi.mean()**2 * (1-self.n/self.N) * s_r_2/self.n + 1/(self.n * self.N * self.Mi.mean()**2) * np.sum((1-self.mi/self.Mi) * self.Mi**2/self.mi * s_i_2)\n",
    "        return v\n",
    "    \n",
    "    def get_se_y_r(self):\n",
    "        return np.sqrt(self.get_var_y_r())\n"
   ]
  },
  {
   "cell_type": "code",
   "execution_count": 16,
   "id": "ae7c5949-0963-49b7-9537-b0f84a1fc102",
   "metadata": {},
   "outputs": [],
   "source": [
    "Sold = UnequalTwoStageCluster(sold, \"city\", \"sell\", 6, 45, m_i, M_i)"
   ]
  },
  {
   "cell_type": "code",
   "execution_count": 17,
   "id": "c5aa7b9a-6dce-441a-b3fd-5da6c6ebdd2e",
   "metadata": {},
   "outputs": [
    {
     "name": "stdout",
     "output_type": "stream",
     "text": [
      "[39.         35.625      39.64285714 36.5625     30.         35.        ]\n"
     ]
    }
   ],
   "source": [
    "print(Sold.w_ij)"
   ]
  },
  {
   "cell_type": "code",
   "execution_count": 18,
   "id": "e0ea87bf-4941-4ad0-a92f-bd62b4510c45",
   "metadata": {},
   "outputs": [
    {
     "name": "stdout",
     "output_type": "stream",
     "text": [
      "152972.2232142857\n",
      "56781.080266243705\n"
     ]
    }
   ],
   "source": [
    "print(Sold.get_t_unb())\n",
    "print(Sold.get_se_t_unb())"
   ]
  },
  {
   "cell_type": "code",
   "execution_count": 19,
   "id": "26ef2220-3c38-4394-b39c-470b97b7afe6",
   "metadata": {},
   "outputs": [
    {
     "name": "stdout",
     "output_type": "stream",
     "text": [
      "120.68814454775993\n",
      "20.04892852479213\n"
     ]
    }
   ],
   "source": [
    "print(Sold.get_y_r())\n",
    "print(Sold.get_se_y_r())"
   ]
  },
  {
   "cell_type": "markdown",
   "id": "1792c9ff-c04d-4f4f-8f15-e6f4c92a16e7",
   "metadata": {},
   "source": [
    "## 补充"
   ]
  },
  {
   "cell_type": "code",
   "execution_count": 20,
   "id": "089b8133-95ea-4cfb-8439-f42c19dc612c",
   "metadata": {},
   "outputs": [
    {
     "name": "stdout",
     "output_type": "stream",
     "text": [
      "           SS         MS  df\n",
      "0  149.638889  13.603535  11\n",
      "1  108.666667   4.527778  24\n",
      "2  258.305556   7.380159  35\n"
     ]
    }
   ],
   "source": [
    "print(Cans.get_anova_table())"
   ]
  },
  {
   "cell_type": "code",
   "execution_count": 21,
   "id": "d4c0d690-42f9-4046-98fa-38ae36c2298c",
   "metadata": {},
   "outputs": [
    {
     "name": "stdout",
     "output_type": "stream",
     "text": [
      "0.40010757653283174\n",
      "0.4001206706624777\n"
     ]
    }
   ],
   "source": [
    "print(Cans.get_icc())\n",
    "print(Cans.get_r_a_2())"
   ]
  },
  {
   "cell_type": "code",
   "execution_count": 22,
   "id": "4577417c-cc23-4d4b-8817-2f80c492fc23",
   "metadata": {},
   "outputs": [
    {
     "name": "stdout",
     "output_type": "stream",
     "text": [
      "10.219360911664591\n"
     ]
    }
   ],
   "source": [
    "print(Cans.get_deff())"
   ]
  },
  {
   "cell_type": "code",
   "execution_count": 23,
   "id": "8b1a8990-ea58-41fb-82b8-0a7376735b16",
   "metadata": {},
   "outputs": [
    {
     "name": "stdout",
     "output_type": "stream",
     "text": [
      "7.547814295881868\n"
     ]
    }
   ],
   "source": [
    "print(Cans.get_s_2_hat())"
   ]
  },
  {
   "cell_type": "code",
   "execution_count": 24,
   "id": "c37c9eeb-cc36-4e41-aae8-8476279c9fa3",
   "metadata": {},
   "outputs": [
    {
     "data": {
      "text/plain": [
       "77.13383838383837"
      ]
     },
     "execution_count": 24,
     "metadata": {},
     "output_type": "execute_result"
    }
   ],
   "source": [
    "Cans.get_msb_hat()"
   ]
  }
 ],
 "metadata": {
  "kernelspec": {
   "display_name": "Python 3 (ipykernel)",
   "language": "python",
   "name": "python3"
  },
  "language_info": {
   "codemirror_mode": {
    "name": "ipython",
    "version": 3
   },
   "file_extension": ".py",
   "mimetype": "text/x-python",
   "name": "python",
   "nbconvert_exporter": "python",
   "pygments_lexer": "ipython3",
   "version": "3.11.2"
  }
 },
 "nbformat": 4,
 "nbformat_minor": 5
}

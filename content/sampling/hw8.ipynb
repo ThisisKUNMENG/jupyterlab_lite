{
 "cells": [
  {
   "cell_type": "code",
   "execution_count": 1,
   "metadata": {
    "collapsed": true
   },
   "outputs": [],
   "source": [
    "import numpy as np\n",
    "import pandas as pd"
   ]
  },
  {
   "cell_type": "markdown",
   "source": [
    "## 4.8.3"
   ],
   "metadata": {
    "collapsed": false
   }
  },
  {
   "cell_type": "markdown",
   "source": [
    "### c"
   ],
   "metadata": {
    "collapsed": false
   }
  },
  {
   "cell_type": "code",
   "execution_count": 2,
   "outputs": [],
   "source": [
    "x = np.array([12, 11.4, 7.9, 9, 10.5, 7.9, 7.3, 10.2, 11.7, 11.3, 5.7, 8, 10.3, 12, 9.2, 8.5, 7, 10.7, 9.3, 8.2])\n",
    "y = np.array([125, 119, 83, 85, 99, 117, 69, 133, 154, 168, 61, 80, 114, 147, 122, 106, 82, 88, 97, 99])\n",
    "df = pd.DataFrame({\"x\": x, \"y\": y})"
   ],
   "metadata": {
    "collapsed": false
   }
  },
  {
   "cell_type": "code",
   "execution_count": 3,
   "outputs": [
    {
     "name": "stdout",
     "output_type": "stream",
     "text": [
      "y_reg: 118.36344896498008, se_y_reg: 4.07077364658146\n"
     ]
    }
   ],
   "source": [
    "b1 = np.cov(x, y, ddof=1)[0,1] / (x.var(ddof=1))\n",
    "b0 = df.mean(axis=0)[1] - b1 * df.mean(axis=0)[0]\n",
    "\n",
    "n = 20\n",
    "N = 1132\n",
    "xu_bar = 10.3\n",
    "y_reg = df.mean(axis=0)[1] + b1 * (xu_bar - df.mean(axis=0)[0])\n",
    "se_y_reg = np.sqrt((1/n - 1/N) * ((n-1)/(n-2)) * y.var(ddof=1) * (1 - np.corrcoef(x, y)[0, 1]**2))\n",
    "print(f\"y_reg: {y_reg}, se_y_reg: {se_y_reg}\")"
   ],
   "metadata": {
    "collapsed": false
   }
  },
  {
   "cell_type": "markdown",
   "source": [
    "## 4.8.11\n",
    "### c"
   ],
   "metadata": {
    "collapsed": false
   }
  },
  {
   "cell_type": "code",
   "execution_count": 4,
   "outputs": [
    {
     "name": "stdout",
     "output_type": "stream",
     "text": [
      "t_reg: 45201.83564512324, se_t_reg: 2253.968971566228\n",
      "ci_t_reg: 40784.05646085343, 49619.614829393046\n"
     ]
    }
   ],
   "source": [
    "cherry = pd.read_csv(\"./data/cherry.csv\")\n",
    "b1 = np.cov(cherry[\"diameter\"], cherry[\"volume\"], ddof=1)[0,1] / (cherry[\"diameter\"].var(ddof=1))\n",
    "\n",
    "n = cherry.shape[0]\n",
    "N = 2967\n",
    "tx_u = 41835\n",
    "y_reg = cherry.mean(axis=0)[\"volume\"] + b1 * (xu_bar - cherry.mean(axis=0)[\"diameter\"])\n",
    "t_reg = y_reg * N\n",
    "se_y_reg = np.sqrt((1/n - 1/N) * ((n-1)/(n-2)) * cherry[\"volume\"].var(ddof=1) * (1 - np.corrcoef(cherry[\"diameter\"], cherry[\"volume\"])[0, 1]**2))\n",
    "se_t_reg = se_y_reg * N\n",
    "print(f\"t_reg: {t_reg}, se_t_reg: {se_t_reg}\")\n",
    "print(f\"ci_t_reg: {t_reg - 1.96 * se_t_reg}, {t_reg + 1.96 * se_t_reg}\")"
   ],
   "metadata": {
    "collapsed": false
   }
  },
  {
   "cell_type": "markdown",
   "source": [
    "### 4.8.17"
   ],
   "metadata": {
    "collapsed": false
   }
  },
  {
   "cell_type": "code",
   "execution_count": 5,
   "outputs": [],
   "source": [
    "n = 121\n",
    "lead_m = 127\n",
    "lead_sd = 146\n",
    "copper_m = 35\n",
    "copper_sd = 16"
   ],
   "metadata": {
    "collapsed": false
   }
  },
  {
   "cell_type": "code",
   "execution_count": 6,
   "outputs": [
    {
     "name": "stdout",
     "output_type": "stream",
     "text": [
      "CI_lead: 100.98545454545454, 153.01454545454544\n",
      "CI_copper: 32.14909090909091, 37.85090909090909\n"
     ]
    }
   ],
   "source": [
    "print(f\"CI_lead: {lead_m - 1.96 * lead_sd / np.sqrt(n)}, {lead_m + 1.96 * lead_sd / np.sqrt(n)}\")\n",
    "print(f\"CI_copper: {copper_m - 1.96 * copper_sd / np.sqrt(n)}, {copper_m + 1.96 * copper_sd / np.sqrt(n)}\")"
   ],
   "metadata": {
    "collapsed": false
   }
  },
  {
   "cell_type": "code",
   "execution_count": 7,
   "outputs": [],
   "source": [
    "n_h = [82, 31, 8]\n",
    "W_h = np.divide(n_h, n)\n",
    "lead_post_m = [71, 259, 189]\n",
    "lead_post_sd = [28, 232, 79]\n",
    "copper_post_m = [28, 50, 45]\n",
    "copper_post_sd = [9, 18, 15]"
   ],
   "metadata": {
    "collapsed": false
   }
  },
  {
   "cell_type": "code",
   "execution_count": 8,
   "outputs": [
    {
     "name": "stdout",
     "output_type": "stream",
     "text": [
      "CI_lead_post: 105.0940160221729, 148.9059839778271\n",
      "CI_copper_post: 32.76937390365917, 37.23062609634083\n"
     ]
    }
   ],
   "source": [
    "lead_post_v = np.sum(W_h * np.power(lead_post_sd, 2)) / n + 1/(n**2) * np.sum((1-W_h) * np.power(lead_post_sd, 2))\n",
    "lead_post_se = np.sqrt(lead_post_v)\n",
    "copper_post_v = np.sum(W_h * np.power(copper_post_sd, 2)) / n + 1/(n**2) * np.sum((1-W_h) * np.power(copper_post_sd, 2))\n",
    "copper_post_se = np.sqrt(copper_post_v)\n",
    "print(f\"CI_lead_post: {lead_m - 1.96 * lead_post_se}, {lead_m + 1.96 * lead_post_se}\")\n",
    "print(f\"CI_copper_post: {copper_m - 1.96 * copper_post_se}, {copper_m + 1.96 * copper_post_se}\")"
   ],
   "metadata": {
    "collapsed": false
   }
  },
  {
   "cell_type": "markdown",
   "source": [
    "## 4.8.44\n",
    "### a"
   ],
   "metadata": {
    "collapsed": false
   }
  },
  {
   "cell_type": "code",
   "execution_count": 9,
   "outputs": [],
   "source": [
    "trucks = pd.read_csv(\"./data/vius.csv\")\n",
    "trucks[\"miles_annl_2\"] = trucks[\"miles_annl\"]**2"
   ],
   "metadata": {
    "collapsed": false
   }
  },
  {
   "cell_type": "code",
   "execution_count": 10,
   "outputs": [],
   "source": [
    "trucks_business = trucks.groupby(\"business\")"
   ],
   "metadata": {
    "collapsed": false
   }
  },
  {
   "cell_type": "code",
   "execution_count": 11,
   "outputs": [],
   "source": [
    "y_d = trucks_business[\"miles_annl\"].mean()"
   ],
   "metadata": {
    "collapsed": false
   }
  },
  {
   "cell_type": "code",
   "execution_count": 12,
   "outputs": [],
   "source": [
    "N = 85174776\n",
    "n_d = trucks[\"business\"].value_counts()\n",
    "n = trucks.shape[0]"
   ],
   "metadata": {
    "collapsed": false
   }
  },
  {
   "cell_type": "code",
   "execution_count": 13,
   "outputs": [],
   "source": [
    "t_u = N / n * n_d * y_d"
   ],
   "metadata": {
    "collapsed": false
   }
  },
  {
   "cell_type": "code",
   "execution_count": 14,
   "outputs": [],
   "source": [
    "se_t_u = N * np.sqrt((1/n-1/N) / (n-1) * (trucks_business[\"miles_annl_2\"].sum() - 1/n * (n_d * y_d)**2))"
   ],
   "metadata": {
    "collapsed": false
   }
  },
  {
   "cell_type": "code",
   "execution_count": 15,
   "outputs": [],
   "source": [
    "ci_t_u_low, ci_t_u_high = t_u - 1.96 * se_t_u, t_u + 1.96 * se_t_u"
   ],
   "metadata": {
    "collapsed": false
   }
  },
  {
   "cell_type": "code",
   "execution_count": 16,
   "outputs": [],
   "source": [
    "df = pd.DataFrame({\"t_u\": t_u, \"se_t_u\": se_t_u, \"ci_t_u_low\": ci_t_u_low, \"ci_t_u_high\": ci_t_u_high})"
   ],
   "metadata": {
    "collapsed": false
   }
  },
  {
   "cell_type": "code",
   "execution_count": 17,
   "outputs": [],
   "source": [
    "df.to_csv(\"./data/4.8.44.csv\")"
   ],
   "metadata": {
    "collapsed": false
   }
  }
 ],
 "metadata": {
  "kernelspec": {
   "display_name": "Python 3",
   "language": "python",
   "name": "python3"
  },
  "language_info": {
   "codemirror_mode": {
    "name": "ipython",
    "version": 2
   },
   "file_extension": ".py",
   "mimetype": "text/x-python",
   "name": "python",
   "nbconvert_exporter": "python",
   "pygments_lexer": "ipython2",
   "version": "2.7.6"
  }
 },
 "nbformat": 4,
 "nbformat_minor": 0
}

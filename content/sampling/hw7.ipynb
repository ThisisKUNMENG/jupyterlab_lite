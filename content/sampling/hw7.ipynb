{
 "cells": [
  {
   "cell_type": "code",
   "execution_count": 1,
   "metadata": {
    "collapsed": true
   },
   "outputs": [],
   "source": [
    "import numpy as np\n",
    "import pandas as pd\n",
    "import matplotlib.pyplot as plt"
   ]
  },
  {
   "cell_type": "markdown",
   "source": [
    "## 第四章补充题3\n",
    "### 1"
   ],
   "metadata": {
    "collapsed": false
   }
  },
  {
   "cell_type": "code",
   "execution_count": 2,
   "outputs": [],
   "source": [
    "agsrs = pd.read_csv('agsrs.csv')\n",
    "y = agsrs[\"acres92\"]\n",
    "x = agsrs[\"acres87\"]\n",
    "b_hat = y.mean() / x.mean()"
   ],
   "metadata": {
    "collapsed": false
   }
  },
  {
   "cell_type": "code",
   "execution_count": 3,
   "outputs": [],
   "source": [
    "n = 300\n",
    "N = 3078\n",
    "s_e2 = y.var() - 2 * b_hat * np.cov(y, x, ddof=1)[0,1] + b_hat**2 * x.var()\n",
    "v_b_hat = (1/n - 1/N) * s_e2 / (x.mean() ** 2)"
   ],
   "metadata": {
    "collapsed": false
   }
  },
  {
   "cell_type": "code",
   "execution_count": 4,
   "outputs": [
    {
     "name": "stdout",
     "output_type": "stream",
     "text": [
      "0.9865652371433473\n",
      "0.005750472694966445\n",
      "(0.9752943106612131, 0.9978361636254816)\n"
     ]
    }
   ],
   "source": [
    "print(b_hat)\n",
    "se_b_hat = np.sqrt(v_b_hat)\n",
    "print(se_b_hat)\n",
    "ci_b_hat = (b_hat - 1.96 * se_b_hat, b_hat + 1.96 * se_b_hat)\n",
    "print(ci_b_hat)"
   ],
   "metadata": {
    "collapsed": false
   }
  },
  {
   "cell_type": "markdown",
   "source": [
    "### 2"
   ],
   "metadata": {
    "collapsed": false
   }
  },
  {
   "cell_type": "markdown",
   "source": [
    "* Take 500 samples with replacement of size 100"
   ],
   "metadata": {
    "collapsed": false
   }
  },
  {
   "cell_type": "code",
   "execution_count": 5,
   "outputs": [],
   "source": [
    "bootstrap_time = 1000\n",
    "bootstrap_size = 100\n",
    "bootstrap_b_hat = np.zeros(bootstrap_time)\n",
    "for i in range(bootstrap_time):\n",
    "    bootstrap_sample = agsrs.sample(n=bootstrap_size, replace=True)\n",
    "    y = bootstrap_sample[\"acres92\"]\n",
    "    x = bootstrap_sample[\"acres87\"]\n",
    "    bootstrap_b_hat[i] = y.mean() / x.mean()"
   ],
   "metadata": {
    "collapsed": false
   }
  },
  {
   "cell_type": "code",
   "execution_count": 6,
   "outputs": [
    {
     "name": "stdout",
     "output_type": "stream",
     "text": [
      "(0.9650709024696571, 1.008621814102108)\n"
     ]
    }
   ],
   "source": [
    "bootstrap_ci95 = (np.percentile(bootstrap_b_hat, 2.5), np.percentile(bootstrap_b_hat, 97.5))\n",
    "print(bootstrap_ci95)"
   ],
   "metadata": {
    "collapsed": false
   }
  },
  {
   "cell_type": "markdown",
   "source": [
    "## 4.8.3\n",
    "### a"
   ],
   "metadata": {
    "collapsed": false
   }
  },
  {
   "cell_type": "code",
   "execution_count": 7,
   "outputs": [],
   "source": [
    "x = np.array([12, 11.4, 7.9, 9, 10.5, 7.9, 7.3, 10.2, 11.7, 11.3, 5.7, 8, 10.3, 12, 9.2, 8.5, 7, 10.7, 9.3, 8.2])\n",
    "y = np.array([125, 119, 83, 85, 99, 117, 69, 133, 154, 168, 61, 80, 114, 147, 122, 106, 82, 88, 97, 99])\n",
    "df = pd.DataFrame({\"x\": x, \"y\": y})"
   ],
   "metadata": {
    "collapsed": false
   }
  },
  {
   "cell_type": "code",
   "execution_count": 8,
   "outputs": [
    {
     "data": {
      "text/plain": "<Figure size 1200x600 with 1 Axes>",
      "image/png": "[encoded data removed]"
     },
     "metadata": {},
     "output_type": "display_data"
    }
   ],
   "source": [
    "fig, ax = plt.subplots(figsize=(12, 6))\n",
    "ax.scatter(x, y, color=\"black\")\n",
    "ax.set_xlabel(\"x\")\n",
    "ax.set_ylabel(\"y\")\n",
    "ax.set_title(\"scatter plot of x and y\")\n",
    "plt.savefig(\"4.8.3a.svg\")"
   ],
   "metadata": {
    "collapsed": false
   }
  },
  {
   "cell_type": "markdown",
   "source": [
    "### b"
   ],
   "metadata": {
    "collapsed": false
   }
  },
  {
   "cell_type": "code",
   "execution_count": 9,
   "outputs": [],
   "source": [
    "x_u = 10.3\n",
    "b_hat = y.mean() / x.mean()\n",
    "s_e2 = y.var() - 2 * b_hat * np.cov(y, x, ddof=1)[0,1] + b_hat**2 * x.var()"
   ],
   "metadata": {
    "collapsed": false
   }
  },
  {
   "cell_type": "code",
   "execution_count": 10,
   "outputs": [
    {
     "name": "stdout",
     "output_type": "stream",
     "text": [
      "117.62041467304627\n",
      "3.906462190381681\n",
      "(109.96374877989817, 125.27708056619437)\n"
     ]
    }
   ],
   "source": [
    "n = 20\n",
    "N = 1132\n",
    "y_b_hat = b_hat * x_u\n",
    "print(y_b_hat)\n",
    "v_y_b_hat = (1/n - 1/N) * s_e2 * (x_u / x.mean()) ** 2\n",
    "se_y_b_hat = np.sqrt(v_y_b_hat)\n",
    "print(se_y_b_hat)\n",
    "ci_y_b_hat = (y_b_hat - 1.96 * se_y_b_hat, y_b_hat + 1.96 * se_y_b_hat)\n",
    "print(ci_y_b_hat)"
   ],
   "metadata": {
    "collapsed": false
   }
  },
  {
   "cell_type": "markdown",
   "source": [
    "### c"
   ],
   "metadata": {
    "collapsed": false
   }
  },
  {
   "cell_type": "code",
   "execution_count": 11,
   "outputs": [
    {
     "name": "stdout",
     "output_type": "stream",
     "text": [
      "107.4\n",
      "6.191329854807021\n",
      "(95.26499348457824, 119.53500651542177)\n"
     ]
    }
   ],
   "source": [
    "y_bar = y.mean()\n",
    "print(y_bar)\n",
    "v_y_bar = (1/n - 1/N) * y.var()\n",
    "se_y_bar = np.sqrt(v_y_bar)\n",
    "print(se_y_bar)\n",
    "ci_y_bar = (y_bar - 1.96 * se_y_bar, y_bar + 1.96 * se_y_bar)\n",
    "print(ci_y_bar)"
   ],
   "metadata": {
    "collapsed": false
   }
  },
  {
   "cell_type": "markdown",
   "source": [
    "### d"
   ],
   "metadata": {
    "collapsed": false
   }
  },
  {
   "cell_type": "code",
   "execution_count": 12,
   "outputs": [
    {
     "data": {
      "text/plain": "<Figure size 1200x600 with 1 Axes>",
      "image/png": "[encoded data removed]"
     },
     "metadata": {},
     "output_type": "display_data"
    }
   ],
   "source": [
    "plt.rcParams[\"text.usetex\"] = True\n",
    "fig, ax = plt.subplots(figsize=(12, 6))\n",
    "ax.scatter(x, y, color=\"grey\", alpha=0.5)\n",
    "ax.set_xlabel(\"x\")\n",
    "ax.set_ylabel(\"y\")\n",
    "ax.set_title(\"scatter plot of x and y\")\n",
    "ax.scatter(x_u, y_b_hat, s=50, color=\"black\")\n",
    "ax.scatter(x_u, y_bar, s=50, color=\"black\")\n",
    "ax.text(x_u + 0.1, y_b_hat + 3, r\"$\\bar{y_r}=\" + f\"{y_b_hat:.2f}\" + r\"$\", color=\"black\", fontsize=20)\n",
    "ax.text(x_u + 0.1, y_bar, r\"$\\bar{y}=\" + f\"{y_bar:.2f}\" + r\"$\", color=\"black\", fontsize=20)\n",
    "plt.savefig(\"4.8.3d.svg\")"
   ],
   "metadata": {
    "collapsed": false
   }
  },
  {
   "cell_type": "code",
   "execution_count": 13,
   "outputs": [
    {
     "data": {
      "text/plain": "0.7816196606739746"
     },
     "execution_count": 13,
     "metadata": {},
     "output_type": "execute_result"
    }
   ],
   "source": [
    "np.corrcoef(x, y)[0,1]"
   ],
   "metadata": {
    "collapsed": false
   }
  },
  {
   "cell_type": "markdown",
   "source": [
    "## 4.8.4\n",
    "### a"
   ],
   "metadata": {
    "collapsed": false
   }
  },
  {
   "cell_type": "code",
   "execution_count": 14,
   "outputs": [],
   "source": [
    "children = np.array([0, 1, 2, 3, 4, 5])\n",
    "y = np.array([528, 189, 225, 76, 8, 2])\n",
    "df = pd.DataFrame({\"children\": children, \"y\": y})\n",
    "n = 1028"
   ],
   "metadata": {
    "collapsed": false
   }
  },
  {
   "cell_type": "code",
   "execution_count": 15,
   "outputs": [
    {
     "name": "stdout",
     "output_type": "stream",
     "text": [
      "0.48638132295719844\n",
      "0.015588785866183287\n",
      "(0.4558273026594792, 0.5169353432549176)\n"
     ]
    }
   ],
   "source": [
    "p_hat = (n - y[0]) / n\n",
    "print(p_hat)\n",
    "v_p_hat = p_hat * (1 - p_hat) / n\n",
    "se_p_hat = np.sqrt(v_p_hat)\n",
    "print(se_p_hat)\n",
    "ci_p_hat = (p_hat - 1.96 * se_p_hat, p_hat + 1.96 * se_p_hat)\n",
    "print(ci_p_hat)"
   ],
   "metadata": {
    "collapsed": false
   }
  },
  {
   "cell_type": "markdown",
   "source": [
    "### b"
   ],
   "metadata": {
    "collapsed": false
   }
  },
  {
   "cell_type": "code",
   "execution_count": 16,
   "outputs": [
    {
     "name": "stdout",
     "output_type": "stream",
     "text": [
      "0.8842412451361867\n",
      "0.032948157346772214\n",
      "(0.8196628567365132, 0.9488196335358603)\n"
     ]
    }
   ],
   "source": [
    "y_d = np.sum(children * y) / n\n",
    "se_y_d = np.sqrt(1/n**2 * (np.sum(children**2 * y) - (n * y_d**2)))\n",
    "print(y_d)\n",
    "print(se_y_d)\n",
    "ci_y_d = (y_d - 1.96 * se_y_d, y_d + 1.96 * se_y_d)\n",
    "print(ci_y_d)"
   ],
   "metadata": {
    "collapsed": false
   }
  },
  {
   "cell_type": "markdown",
   "source": [
    "### c"
   ],
   "metadata": {
    "collapsed": false
   }
  },
  {
   "cell_type": "code",
   "execution_count": 17,
   "outputs": [
    {
     "name": "stdout",
     "output_type": "stream",
     "text": [
      "242399.99999999997\n",
      "9035.200436263547\n",
      "(224691.0071449234, 260108.99285507653)\n"
     ]
    }
   ],
   "source": [
    "t_u = 400000 * n / 1500 * y_d\n",
    "se_t_u = 400000 * np.sqrt(1/1500 * (np.sum(children**2 * y) - (n * y_d**2)) / 1499)\n",
    "print(t_u)\n",
    "print(se_t_u)\n",
    "ci_t_u = (t_u - 1.96 * se_t_u, t_u + 1.96 * se_t_u)\n",
    "print(ci_t_u)"
   ],
   "metadata": {
    "collapsed": false
   }
  },
  {
   "cell_type": "markdown",
   "source": [
    "## 4.8.9\n",
    "### a"
   ],
   "metadata": {
    "collapsed": false
   }
  },
  {
   "cell_type": "code",
   "execution_count": 18,
   "outputs": [],
   "source": [
    "crimes = pd.read_csv(\"crimes.csv\")"
   ],
   "metadata": {
    "collapsed": false
   }
  },
  {
   "cell_type": "code",
   "execution_count": 19,
   "outputs": [
    {
     "name": "stdout",
     "output_type": "stream",
     "text": [
      "0.059\n",
      "0.0033322364862056236\n",
      "(0.052468816487036975, 0.06553118351296303)\n"
     ]
    }
   ],
   "source": [
    "n = 5000\n",
    "N = 7_048_107\n",
    "p_b = np.sum(crimes[\"crimetype\"] == \"burglary\") / n\n",
    "se_p_b = np.sqrt(p_b * (1 - p_b) / n)\n",
    "print(p_b)\n",
    "print(se_p_b)\n",
    "ci_p_b = (p_b - 1.96 * se_p_b, p_b + 1.96 * se_p_b)\n",
    "print(ci_p_b)"
   ],
   "metadata": {
    "collapsed": false
   }
  },
  {
   "cell_type": "markdown",
   "source": [
    "### b"
   ],
   "metadata": {
    "collapsed": false
   }
  },
  {
   "cell_type": "code",
   "execution_count": 20,
   "outputs": [],
   "source": [
    "p_agg_d = np.sum((crimes[\"crimetype\"] == \"aggasslt\") & (crimes[\"domestic\"] == 1)) / n\n",
    "se_p_agg_d = np.sqrt(p_agg_d * (1 - p_agg_d) / n)"
   ],
   "metadata": {
    "collapsed": false
   }
  },
  {
   "cell_type": "code",
   "execution_count": 21,
   "outputs": [
    {
     "name": "stdout",
     "output_type": "stream",
     "text": [
      "76119.5556\n",
      "10302.4714114285\n",
      "(55926.71163360015, 96312.39956639986)\n"
     ]
    }
   ],
   "source": [
    "t_agg_d = p_agg_d * N\n",
    "se_t_agg_d = np.sqrt(p_agg_d * (1 - p_agg_d) / n) * N\n",
    "print(t_agg_d)\n",
    "print(se_t_agg_d)\n",
    "ci_t_agg_d = (t_agg_d - 1.96 * se_t_agg_d, t_agg_d + 1.96 * se_t_agg_d)\n",
    "print(ci_t_agg_d)"
   ],
   "metadata": {
    "collapsed": false
   }
  },
  {
   "cell_type": "markdown",
   "source": [
    "## 4.8.11\n",
    "### a"
   ],
   "metadata": {
    "collapsed": false
   }
  },
  {
   "cell_type": "code",
   "execution_count": 22,
   "outputs": [],
   "source": [
    "cherry = pd.read_csv(\"cherry.csv\")"
   ],
   "metadata": {
    "collapsed": false
   }
  },
  {
   "cell_type": "code",
   "execution_count": 23,
   "outputs": [
    {
     "data": {
      "text/plain": "<Figure size 1200x600 with 1 Axes>",
      "image/png": "[encoded data removed]"
     },
     "metadata": {},
     "output_type": "display_data"
    }
   ],
   "source": [
    "fig, ax = plt.subplots(figsize=(12, 6))\n",
    "ax.scatter(cherry[\"diameter\"], cherry[\"volume\"], color=\"black\", alpha=0.9)\n",
    "ax.set_xlabel(\"diameter\")\n",
    "ax.set_ylabel(\"volume\")\n",
    "ax.set_title(\"scatter plot of diameter and volume\")\n",
    "plt.savefig(\"4.8.11a.svg\")"
   ],
   "metadata": {
    "collapsed": false
   }
  },
  {
   "cell_type": "markdown",
   "source": [
    "### b"
   ],
   "metadata": {
    "collapsed": false
   }
  },
  {
   "cell_type": "code",
   "execution_count": 24,
   "outputs": [
    {
     "name": "stdout",
     "output_type": "stream",
     "text": [
      "95272.15850986118\n",
      "(84548.14717184479, 105996.16984787758)\n"
     ]
    }
   ],
   "source": [
    "y = cherry[\"volume\"]\n",
    "x = cherry[\"diameter\"]\n",
    "n = 31\n",
    "N = 2967\n",
    "b_hat = y.mean() / x.mean()\n",
    "s_e2 = y.var() - 2 * b_hat * np.cov(y, x, ddof=1)[0,1] + b_hat**2 * x.var()\n",
    "t_r = b_hat * 41835\n",
    "v_t_r = (1/n - 1/N) * s_e2 * (41835 / x.mean())**2\n",
    "se_v_t_r = np.sqrt(v_t_r)\n",
    "ci_t_r = (t_r - 1.96 * se_v_t_r, t_r + 1.96 * se_v_t_r)\n",
    "print(t_r)\n",
    "print(ci_t_r)"
   ],
   "metadata": {
    "collapsed": false
   }
  },
  {
   "cell_type": "markdown",
   "source": [
    "### d"
   ],
   "metadata": {
    "collapsed": false
   }
  },
  {
   "cell_type": "code",
   "execution_count": 25,
   "outputs": [
    {
     "name": "stdout",
     "output_type": "stream",
     "text": [
      "89517.26129032257\n",
      "(72438.47743193789, 106596.04514870724)\n"
     ]
    }
   ],
   "source": [
    "y_bar = y.mean()\n",
    "se_y_bar = np.sqrt((1/n - 1/N) * y.var())\n",
    "t_hat = y_bar * N\n",
    "se_t_hat = se_y_bar * N\n",
    "ci_t_hat = (t_hat - 1.96 * se_t_hat, t_hat + 1.96 * se_t_hat)\n",
    "print(t_hat)\n",
    "print(ci_t_hat)"
   ],
   "metadata": {
    "collapsed": false
   }
  },
  {
   "cell_type": "code",
   "execution_count": 26,
   "outputs": [
    {
     "data": {
      "text/plain": "0.9671193682556305"
     },
     "execution_count": 26,
     "metadata": {},
     "output_type": "execute_result"
    }
   ],
   "source": [
    "np.corrcoef(x, y)[0,1]"
   ],
   "metadata": {
    "collapsed": false
   }
  },
  {
   "cell_type": "markdown",
   "source": [
    "## 4.8.13\n",
    "### a"
   ],
   "metadata": {
    "collapsed": false
   }
  },
  {
   "cell_type": "code",
   "execution_count": 27,
   "outputs": [],
   "source": [
    "counties = pd.read_csv(\"counties.csv\")"
   ],
   "metadata": {
    "collapsed": false
   }
  },
  {
   "cell_type": "code",
   "execution_count": 28,
   "outputs": [
    {
     "data": {
      "text/plain": "<Figure size 1200x600 with 1 Axes>",
      "image/png": "[encoded data removed]"
     },
     "metadata": {},
     "output_type": "display_data"
    }
   ],
   "source": [
    "fig, ax = plt.subplots(figsize=(12, 6))\n",
    "ax.hist(counties[\"physician\"], bins=25, color=\"grey\")\n",
    "ax.set_title(\"histogram of physician\")\n",
    "plt.savefig(\"4.8.13a.svg\")"
   ],
   "metadata": {
    "collapsed": false
   }
  },
  {
   "cell_type": "markdown",
   "source": [
    "### b"
   ],
   "metadata": {
    "collapsed": false
   }
  },
  {
   "cell_type": "code",
   "execution_count": 29,
   "outputs": [
    {
     "name": "stdout",
     "output_type": "stream",
     "text": [
      "933410.9700000001\n",
      "491982.7871364016\n"
     ]
    }
   ],
   "source": [
    "y = counties[\"physician\"]\n",
    "y_bar = y.mean()\n",
    "n = 100\n",
    "N = 3141\n",
    "se_y_bar = np.sqrt((1/n - 1/N) * y.var())\n",
    "t_hat = y_bar * N\n",
    "se_t_hat = se_y_bar * N\n",
    "print(t_hat)\n",
    "print(se_t_hat)"
   ],
   "metadata": {
    "collapsed": false
   }
  },
  {
   "cell_type": "markdown",
   "source": [
    "### c"
   ],
   "metadata": {
    "collapsed": false
   }
  },
  {
   "cell_type": "code",
   "execution_count": 30,
   "outputs": [
    {
     "name": "stdout",
     "output_type": "stream",
     "text": [
      "639506.0283989459\n",
      "87885.26514909908\n"
     ]
    }
   ],
   "source": [
    "x = counties[\"totpop\"]\n",
    "t_x = 255_077_536\n",
    "x_u = t_x / N\n",
    "b_hat = y.mean() / x.mean()\n",
    "s_e2 = y.var() - 2 * b_hat * np.cov(y, x, ddof=1)[0,1] + b_hat**2 * x.var()\n",
    "t_r = b_hat * t_x\n",
    "v_t_r = (1/n - 1/N) * s_e2 * (t_x / x.mean())**2\n",
    "se_v_t_r = np.sqrt(v_t_r)\n",
    "ci_t_r = (t_r - 1.96 * se_v_t_r, t_r + 1.96 * se_v_t_r)\n",
    "print(t_r)\n",
    "print(se_v_t_r)"
   ],
   "metadata": {
    "collapsed": false
   }
  },
  {
   "cell_type": "code",
   "execution_count": 31,
   "outputs": [
    {
     "data": {
      "text/plain": "0.9771174932511311"
     },
     "execution_count": 31,
     "metadata": {},
     "output_type": "execute_result"
    }
   ],
   "source": [
    "np.corrcoef(x, y)[0,1]"
   ],
   "metadata": {
    "collapsed": false
   }
  }
 ],
 "metadata": {
  "kernelspec": {
   "display_name": "Python 3",
   "language": "python",
   "name": "python3"
  },
  "language_info": {
   "codemirror_mode": {
    "name": "ipython",
    "version": 2
   },
   "file_extension": ".py",
   "mimetype": "text/x-python",
   "name": "python",
   "nbconvert_exporter": "python",
   "pygments_lexer": "ipython2",
   "version": "2.7.6"
  }
 },
 "nbformat": 4,
 "nbformat_minor": 0
}

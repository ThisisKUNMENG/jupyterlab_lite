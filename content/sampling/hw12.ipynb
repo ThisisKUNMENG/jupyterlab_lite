{
 "cells": [
  {
   "cell_type": "code",
   "execution_count": 1,
   "metadata": {
    "collapsed": true
   },
   "outputs": [],
   "source": [
    "import matplotlib.pyplot as plt\n",
    "import numpy as np\n",
    "import pandas as pd\n",
    "plt.rcParams['text.usetex'] = True"
   ]
  },
  {
   "cell_type": "code",
   "execution_count": 2,
   "outputs": [],
   "source": [
    "azc = pd.read_csv('./data/azcounties.csv')"
   ],
   "metadata": {
    "collapsed": false
   }
  },
  {
   "cell_type": "code",
   "execution_count": 3,
   "outputs": [
    {
     "name": "stdout",
     "output_type": "stream",
     "text": [
      "0.04 & 0.08 & 0.08 & 0.03 & 0.02 & 0.01 & 0.01 & 0.12 & 0.06 & 0.25 & 0.03 & 0.13 & 0.12\n",
      "7.67 & 8.07 & 7.81 & 10.47 & 5.93 & 7.81 & 13.15 & 9.25 & 8.89 & 6.83 & 6.56 & 8.58 & 7.38\n"
     ]
    }
   ],
   "source": [
    "psi_i = azc['population'] / np.sum(azc['population'])\n",
    "print(\" & \".join(\n",
    "        [str(np.around(psi_i[j], 2)) for j in range(13)]))\n",
    "t_psi = azc['housing'] / psi_i\n",
    "print(\" & \".join(\n",
    "        [str(np.around(t_psi[j]/100000, 2)) for j in range(13)]))"
   ],
   "metadata": {
    "collapsed": false
   }
  },
  {
   "cell_type": "code",
   "execution_count": 4,
   "outputs": [
    {
     "name": "stdout",
     "output_type": "stream",
     "text": [
      "13620222733.706547\n"
     ]
    }
   ],
   "source": [
    "v_psi = psi_i * (t_psi - np.sum(azc['housing']))**2\n",
    "print(np.sum(v_psi))"
   ],
   "metadata": {
    "collapsed": false
   }
  },
  {
   "cell_type": "code",
   "execution_count": 5,
   "outputs": [
    {
     "name": "stdout",
     "output_type": "stream",
     "text": [
      "0.08 & 0.08 & 0.08 & 0.08 & 0.08 & 0.08 & 0.08 & 0.08 & 0.08 & 0.08 & 0.08 & 0.08 & 0.08\n",
      "4.27 & 7.91 & 8.51 & 4.34 & 1.74 & 0.58 & 2.12 & 14.8 & 7.51 & 22.28 & 2.37 & 14.98 & 11.92\n"
     ]
    }
   ],
   "source": [
    "psi_i = np.repeat(1/13, 13)\n",
    "print(\" & \".join(\n",
    "        [str(np.around(psi_i[j], 2)) for j in range(13)]))\n",
    "t_psi = azc['housing'] / psi_i\n",
    "print(\" & \".join(\n",
    "        [str(np.around(t_psi[j]/100000, 2)) for j in range(13)]))"
   ],
   "metadata": {
    "collapsed": false
   }
  },
  {
   "cell_type": "code",
   "execution_count": 6,
   "outputs": [
    {
     "name": "stdout",
     "output_type": "stream",
     "text": [
      "386553128504.00006\n"
     ]
    }
   ],
   "source": [
    "v_psi = psi_i * (t_psi - np.sum(azc['housing']))**2\n",
    "print(np.sum(v_psi))"
   ],
   "metadata": {
    "collapsed": false
   }
  },
  {
   "cell_type": "code",
   "execution_count": 7,
   "outputs": [],
   "source": [
    "np.random.seed(2023)\n",
    "r = np.zeros(3)\n",
    "ii = 0\n",
    "while True:\n",
    "    np.random.seed(np.random.randint(0, 1000000))\n",
    "    temp_r = np.random.randint(0, 12, 1)\n",
    "    temp_m = np.random.randint(0, np.max(azc['population']), 1)\n",
    "    if temp_m < azc['population'][temp_r[0]]:\n",
    "        r[ii] = temp_r\n",
    "        ii += 1\n",
    "        if ii == 2:\n",
    "            break\n",
    "    else:\n",
    "        pass"
   ],
   "metadata": {
    "collapsed": false
   }
  },
  {
   "cell_type": "code",
   "execution_count": 8,
   "outputs": [
    {
     "name": "stdout",
     "output_type": "stream",
     "text": [
      "963120.4665469097 31128495318.55437\n"
     ]
    }
   ],
   "source": [
    "t_i = azc['housing'][r]\n",
    "psi_i = azc['population'][r] / np.sum(azc['population'])\n",
    "t_hat = 1/3 * np.sum(t_i/psi_i)\n",
    "var_t_hat = 1/6 * np.sum((t_i/psi_i - t_hat)**2)\n",
    "print(t_hat, var_t_hat)"
   ],
   "metadata": {
    "collapsed": false
   }
  },
  {
   "cell_type": "code",
   "execution_count": 9,
   "outputs": [
    {
     "data": {
      "text/plain": "array([1., 6., 0.])"
     },
     "execution_count": 9,
     "metadata": {},
     "output_type": "execute_result"
    }
   ],
   "source": [
    "r"
   ],
   "metadata": {
    "collapsed": false
   }
  },
  {
   "cell_type": "markdown",
   "source": [
    "## 6.9.8"
   ],
   "metadata": {
    "collapsed": false
   }
  },
  {
   "cell_type": "code",
   "execution_count": 10,
   "outputs": [],
   "source": [
    "m_i = np.array([65,25,48,65,2,62,65,62,61,41])\n",
    "psii = np.array([0.0805452,0.0309789,0.0594796,0.0805452,0.0024783,0.0768278,0.0805452,0.0768278,0.0755886,0.0508055])\n",
    "t_i = np.array([7,5,1,1,2,9,4,5,8,22])"
   ],
   "metadata": {
    "collapsed": false
   }
  },
  {
   "cell_type": "code",
   "execution_count": 11,
   "outputs": [
    {
     "name": "stdout",
     "output_type": "stream",
     "text": [
      "185.5287890566302 78.89676647906609\n"
     ]
    }
   ],
   "source": [
    "u_i = t_i/psii\n",
    "t_hat = 1/10 * np.sum(u_i)\n",
    "v_t_hat = 1/90 * np.sum((u_i - t_hat)**2)\n",
    "se_t_hat = np.sqrt(v_t_hat)\n",
    "print(t_hat, se_t_hat)"
   ],
   "metadata": {
    "collapsed": false
   }
  },
  {
   "cell_type": "code",
   "execution_count": 12,
   "outputs": [
    {
     "name": "stdout",
     "output_type": "stream",
     "text": [
      "0.22989936686075613 0.09776550988731857\n"
     ]
    }
   ],
   "source": [
    "print(t_hat/807, se_t_hat/807)"
   ],
   "metadata": {
    "collapsed": false
   }
  },
  {
   "cell_type": "markdown",
   "source": [
    "## 6.9.13"
   ],
   "metadata": {
    "collapsed": false
   }
  },
  {
   "cell_type": "code",
   "execution_count": 13,
   "outputs": [],
   "source": [
    "state = pd.read_csv('./data/statepop.csv')"
   ],
   "metadata": {
    "collapsed": false
   }
  },
  {
   "cell_type": "code",
   "execution_count": 14,
   "outputs": [
    {
     "data": {
      "text/plain": "<Figure size 640x480 with 1 Axes>",
      "image/png": "[encoded data removed]"
     },
     "metadata": {},
     "output_type": "display_data"
    }
   ],
   "source": [
    "plt.scatter(state['psii'], state['numfarm'], color='grey', s=10)\n",
    "plt.xlabel(r'$\\psi_i$')\n",
    "plt.ylabel('total number of farms')\n",
    "plt.savefig('./figure/6.9.13.pdf')"
   ],
   "metadata": {
    "collapsed": false
   }
  },
  {
   "cell_type": "code",
   "execution_count": 15,
   "outputs": [
    {
     "name": "stdout",
     "output_type": "stream",
     "text": [
      "1896300.2673146422 (1176152.1590619693, 2616448.375567315)\n"
     ]
    }
   ],
   "source": [
    "t_i = state['numfarm']\n",
    "psi_i = state['psii']\n",
    "u_i = t_i / psi_i\n",
    "t_hat = 1/100 * np.sum(u_i)\n",
    "v_t_hat = 1/9900 * np.sum((u_i - t_hat)**2)\n",
    "se_t_hat = np.sqrt(v_t_hat)\n",
    "ci_t_hat = (t_hat - 1.96*se_t_hat, t_hat + 1.96*se_t_hat)\n",
    "print(t_hat, ci_t_hat)"
   ],
   "metadata": {
    "collapsed": false
   }
  },
  {
   "cell_type": "code",
   "execution_count": 16,
   "outputs": [
    {
     "name": "stdout",
     "output_type": "stream",
     "text": [
      "2485792.8000000003\n",
      "2211220.8004997848\n"
     ]
    }
   ],
   "source": [
    "print(np.mean(t_i)*3078)\n",
    "print(np.sqrt(np.var(t_i, ddof=1)) * 3078)"
   ],
   "metadata": {
    "collapsed": false
   }
  },
  {
   "cell_type": "markdown",
   "source": [
    "## 6.9.32"
   ],
   "metadata": {
    "collapsed": false
   }
  },
  {
   "cell_type": "code",
   "execution_count": 17,
   "outputs": [],
   "source": [
    "m_i = np.array([5,4,8,5,3])\n",
    "t_i = np.array([20, 25, 38, 24, 21])"
   ],
   "metadata": {
    "collapsed": false
   }
  },
  {
   "cell_type": "code",
   "execution_count": 18,
   "outputs": [],
   "source": [
    "pi_i = 2 * m_i / np.sum(m_i)\n",
    "phi_i = pi_i /2\n",
    "a_i = (phi_i * (1 - phi_i)) / (1 - pi_i)\n",
    "def pi_ij(i, j):\n",
    "    return (phi_i[i] * phi_i[j]) / np.sum(a_i) * (1/(1-pi_i[i]) + 1/(1-pi_i[j]))"
   ],
   "metadata": {
    "collapsed": false
   }
  },
  {
   "cell_type": "code",
   "execution_count": 19,
   "outputs": [
    {
     "data": {
      "text/plain": "array([[0.        , 0.06809146, 0.1929258 , 0.09043397, 0.04854876],\n       [0.06809146, 0.        , 0.1475315 , 0.06809146, 0.03628558],\n       [0.1929258 , 0.1475315 , 0.        , 0.1929258 , 0.10661689],\n       [0.09043397, 0.06809146, 0.1929258 , 0.        , 0.04854876],\n       [0.04854876, 0.03628558, 0.10661689, 0.04854876, 0.        ]])"
     },
     "execution_count": 19,
     "metadata": {},
     "output_type": "execute_result"
    }
   ],
   "source": [
    "pi = np.zeros((5,5))\n",
    "for i in range(5):\n",
    "    for j in range(5):\n",
    "        pi[i,j] = pi_ij(i,j)\n",
    "for i in range(5):\n",
    "    pi[i,i] = 0\n",
    "pi"
   ],
   "metadata": {
    "collapsed": false
   }
  },
  {
   "cell_type": "code",
   "execution_count": 20,
   "outputs": [],
   "source": [
    "ht = np.sum((1 - pi_i)/pi_i * t_i**2)\n",
    "for i in range(5):\n",
    "    for j in range(5):\n",
    "        if i == j:\n",
    "            pass\n",
    "        else:\n",
    "            ht += (pi[i, j] - pi_i[i] * pi_i[j]) / pi[i, j] * t_i[i] * t_i[j]"
   ],
   "metadata": {
    "collapsed": false
   }
  },
  {
   "cell_type": "code",
   "execution_count": 21,
   "outputs": [
    {
     "name": "stdout",
     "output_type": "stream",
     "text": [
      "0.3889061129258049\n"
     ]
    }
   ],
   "source": [
    "ht = 0\n",
    "for i in range(5):\n",
    "    for j in range(5):\n",
    "        if i == j:\n",
    "            pass\n",
    "        else:\n",
    "            temp = (pi_i[i] * pi_i[j] - pi[i, j]) * (t_i[i]/pi_i[i] - t_i[j]/pi_i[j])**2\n",
    "            ht += temp\n",
    "v_yht = ht / 2 / (np.sum(m_i)**2)\n",
    "print(v_yht)"
   ],
   "metadata": {
    "collapsed": false
   }
  },
  {
   "cell_type": "code",
   "execution_count": 22,
   "outputs": [],
   "source": [
    "y = list(range(5))\n",
    "v = np.zeros(5)\n",
    "y[0] = np.array([3, 5, 4, 6, 2])\n",
    "y[1] = np.array([7,4,7,7])\n",
    "y[2] = np.array([7,2,9,4,5,3,2,6])\n",
    "y[3] = np.array([2,5,3,6,8])\n",
    "y[4] = np.array([9,7,5])\n",
    "for i in range(5):\n",
    "    v[i] = m_i[i]**2 * (1/2-1/m_i[i]) * np.var(y[i], ddof=1)"
   ],
   "metadata": {
    "collapsed": false
   }
  },
  {
   "cell_type": "code",
   "execution_count": 23,
   "outputs": [
    {
     "data": {
      "text/plain": "1.0927632557829479"
     },
     "execution_count": 23,
     "metadata": {},
     "output_type": "execute_result"
    }
   ],
   "source": [
    "(ht/2 + np.sum(v/pi_i)) / np.sum(m_i)**2"
   ],
   "metadata": {
    "collapsed": false
   }
  },
  {
   "cell_type": "code",
   "execution_count": 24,
   "outputs": [
    {
     "data": {
      "text/plain": "5.0"
     },
     "execution_count": 24,
     "metadata": {},
     "output_type": "execute_result"
    }
   ],
   "source": [
    "(1/25)*(48/0.64+20/0.4)"
   ],
   "metadata": {
    "collapsed": false
   }
  },
  {
   "cell_type": "code",
   "execution_count": 25,
   "outputs": [
    {
     "name": "stdout",
     "output_type": "stream",
     "text": [
      "3.755390092879258 0.4039349845201237 1.0\n"
     ]
    }
   ],
   "source": [
    "sample = np.array([2, 3])\n",
    "t_i_hat = np.array([48, 20])\n",
    "v_i_hat = np.array([18, 8])\n",
    "def v_ht():\n",
    "    part1 = (1-pi_i[2]) * (t_i_hat[0]**2/pi_i[2]**2) + (1-pi_i[3]) * (t_i_hat[1]**2/pi_i[3]**2)\n",
    "    part2 = (pi[2,3]-pi_i[2]*pi_i[3])/pi[2,3] * t_i_hat[0] * t_i_hat[1] / pi_i[2] / pi_i[3]\n",
    "    part3 = v_i_hat[0] / pi_i[2] + v_i_hat[1] / pi_i[3]\n",
    "    return part1 + part2 + part3\n",
    "vht = v_ht()\n",
    "def v_syg():\n",
    "    part1 = (pi_i[2]*pi_i[3] - pi[2,3])/pi[2,3] * (t_i_hat[0]/pi_i[2] - t_i_hat[1]/pi_i[3])**2\n",
    "    part2 = v_i_hat[0] / pi_i[2] + v_i_hat[1] / pi_i[3]\n",
    "    return part1 + part2\n",
    "vsyg = v_syg()\n",
    "def v_wr():\n",
    "    return 2 * ((t_i_hat[0]/pi_i[2] - 125/2)**2 + (t_i_hat[1]/pi_i[3] - 125/2)**2)\n",
    "vwr = v_wr()\n",
    "print(vht/np.sum(m_i)**2, vsyg/np.sum(m_i)**2, vwr/np.sum(m_i)**2)"
   ],
   "metadata": {
    "collapsed": false
   }
  },
  {
   "cell_type": "code",
   "execution_count": 26,
   "outputs": [
    {
     "name": "stdout",
     "output_type": "stream",
     "text": [
      "1.937882889361289 0.6355587970598187 1.0\n"
     ]
    }
   ],
   "source": [
    "print(np.sqrt(vht/np.sum(m_i)**2), np.sqrt(vsyg/np.sum(m_i)**2), np.sqrt(vwr/np.sum(m_i)**2))"
   ],
   "metadata": {
    "collapsed": false
   }
  }
 ],
 "metadata": {
  "kernelspec": {
   "display_name": "Python 3",
   "language": "python",
   "name": "python3"
  },
  "language_info": {
   "codemirror_mode": {
    "name": "ipython",
    "version": 2
   },
   "file_extension": ".py",
   "mimetype": "text/x-python",
   "name": "python",
   "nbconvert_exporter": "python",
   "pygments_lexer": "ipython2",
   "version": "2.7.6"
  }
 },
 "nbformat": 4,
 "nbformat_minor": 0
}
